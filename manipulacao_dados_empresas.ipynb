{
 "cells": [
  {
   "cell_type": "markdown",
   "metadata": {},
   "source": [
    "Monografia Mapa do mercado de trabalho na Paraíba de 2007 até 2008"
   ]
  },
  {
   "cell_type": "code",
   "execution_count": 1,
   "metadata": {},
   "outputs": [],
   "source": [
    "import pandas as pd\n",
    "import numpy as np\n",
    "import matplotlib.pyplot as plt\n",
    "import seaborn as sns\n",
    "import random\n",
    "import statsmodels"
   ]
  },
  {
   "cell_type": "markdown",
   "metadata": {},
   "source": [
    "# manipulação dados RAIS estabelecimentos"
   ]
  },
  {
   "cell_type": "code",
   "execution_count": 2,
   "metadata": {},
   "outputs": [],
   "source": [
    "#carregar arquivo 2018 (o mesmo é muito grande e por isso necessita uma manipulação antes de ser carregado)\n",
    "sample_2 = pd.read_csv('RAIS_ESTAB_PUB.txt', encoding='latin-1', sep=';', low_memory=False, nrows=1000, decimal=',')"
   ]
  },
  {
   "cell_type": "code",
   "execution_count": 3,
   "metadata": {},
   "outputs": [
    {
     "data": {
      "text/html": [
       "<div>\n",
       "<style scoped>\n",
       "    .dataframe tbody tr th:only-of-type {\n",
       "        vertical-align: middle;\n",
       "    }\n",
       "\n",
       "    .dataframe tbody tr th {\n",
       "        vertical-align: top;\n",
       "    }\n",
       "\n",
       "    .dataframe thead th {\n",
       "        text-align: right;\n",
       "    }\n",
       "</style>\n",
       "<table border=\"1\" class=\"dataframe\">\n",
       "  <thead>\n",
       "    <tr style=\"text-align: right;\">\n",
       "      <th></th>\n",
       "      <th>CNAE 2.0 Classe</th>\n",
       "      <th>CNAE 95 Classe</th>\n",
       "      <th>Qtd Vínculos CLT</th>\n",
       "      <th>Qtd Vínculos Ativos</th>\n",
       "      <th>Qtd Vínculos Estatutários</th>\n",
       "      <th>Ind Atividade Ano</th>\n",
       "      <th>Ind CEI Vinculado</th>\n",
       "      <th>Ind Estab Participa PAT</th>\n",
       "      <th>Ind Rais Negativa</th>\n",
       "      <th>Ind Simples</th>\n",
       "      <th>Município</th>\n",
       "      <th>Natureza Jurídica</th>\n",
       "      <th>Tamanho Estabelecimento</th>\n",
       "      <th>Tipo Estab</th>\n",
       "    </tr>\n",
       "  </thead>\n",
       "  <tbody>\n",
       "    <tr>\n",
       "      <th>0</th>\n",
       "      <td>64221</td>\n",
       "      <td>65226</td>\n",
       "      <td>63</td>\n",
       "      <td>63</td>\n",
       "      <td>0</td>\n",
       "      <td>1</td>\n",
       "      <td>0</td>\n",
       "      <td>1</td>\n",
       "      <td>0</td>\n",
       "      <td>0</td>\n",
       "      <td>110020</td>\n",
       "      <td>2038</td>\n",
       "      <td>6</td>\n",
       "      <td>1</td>\n",
       "    </tr>\n",
       "    <tr>\n",
       "      <th>1</th>\n",
       "      <td>64221</td>\n",
       "      <td>65226</td>\n",
       "      <td>19</td>\n",
       "      <td>19</td>\n",
       "      <td>0</td>\n",
       "      <td>1</td>\n",
       "      <td>0</td>\n",
       "      <td>1</td>\n",
       "      <td>0</td>\n",
       "      <td>0</td>\n",
       "      <td>110010</td>\n",
       "      <td>2038</td>\n",
       "      <td>4</td>\n",
       "      <td>1</td>\n",
       "    </tr>\n",
       "    <tr>\n",
       "      <th>2</th>\n",
       "      <td>64221</td>\n",
       "      <td>65226</td>\n",
       "      <td>35</td>\n",
       "      <td>35</td>\n",
       "      <td>0</td>\n",
       "      <td>1</td>\n",
       "      <td>0</td>\n",
       "      <td>1</td>\n",
       "      <td>0</td>\n",
       "      <td>0</td>\n",
       "      <td>110012</td>\n",
       "      <td>2038</td>\n",
       "      <td>5</td>\n",
       "      <td>1</td>\n",
       "    </tr>\n",
       "    <tr>\n",
       "      <th>3</th>\n",
       "      <td>64221</td>\n",
       "      <td>65226</td>\n",
       "      <td>30</td>\n",
       "      <td>30</td>\n",
       "      <td>0</td>\n",
       "      <td>1</td>\n",
       "      <td>0</td>\n",
       "      <td>1</td>\n",
       "      <td>0</td>\n",
       "      <td>0</td>\n",
       "      <td>110002</td>\n",
       "      <td>2038</td>\n",
       "      <td>5</td>\n",
       "      <td>1</td>\n",
       "    </tr>\n",
       "    <tr>\n",
       "      <th>4</th>\n",
       "      <td>64221</td>\n",
       "      <td>65226</td>\n",
       "      <td>28</td>\n",
       "      <td>28</td>\n",
       "      <td>0</td>\n",
       "      <td>1</td>\n",
       "      <td>0</td>\n",
       "      <td>1</td>\n",
       "      <td>0</td>\n",
       "      <td>0</td>\n",
       "      <td>110004</td>\n",
       "      <td>2038</td>\n",
       "      <td>5</td>\n",
       "      <td>1</td>\n",
       "    </tr>\n",
       "  </tbody>\n",
       "</table>\n",
       "</div>"
      ],
      "text/plain": [
       "   CNAE 2.0 Classe  CNAE 95 Classe  Qtd Vínculos CLT  Qtd Vínculos Ativos  \\\n",
       "0            64221           65226                63                   63   \n",
       "1            64221           65226                19                   19   \n",
       "2            64221           65226                35                   35   \n",
       "3            64221           65226                30                   30   \n",
       "4            64221           65226                28                   28   \n",
       "\n",
       "   Qtd Vínculos Estatutários  Ind Atividade Ano  Ind CEI Vinculado  \\\n",
       "0                          0                  1                  0   \n",
       "1                          0                  1                  0   \n",
       "2                          0                  1                  0   \n",
       "3                          0                  1                  0   \n",
       "4                          0                  1                  0   \n",
       "\n",
       "   Ind Estab Participa PAT  Ind Rais Negativa  Ind Simples  Município  \\\n",
       "0                        1                  0            0     110020   \n",
       "1                        1                  0            0     110010   \n",
       "2                        1                  0            0     110012   \n",
       "3                        1                  0            0     110002   \n",
       "4                        1                  0            0     110004   \n",
       "\n",
       "   Natureza Jurídica  Tamanho Estabelecimento  Tipo Estab  \n",
       "0               2038                        6           1  \n",
       "1               2038                        4           1  \n",
       "2               2038                        5           1  \n",
       "3               2038                        5           1  \n",
       "4               2038                        5           1  "
      ]
     },
     "execution_count": 3,
     "metadata": {},
     "output_type": "execute_result"
    }
   ],
   "source": [
    "sample_2 = sample_2.drop(sample_2.columns[[0, 1, 2, 5, 16, 17, 20]], axis=1)\n",
    "sample_2.head()"
   ]
  },
  {
   "cell_type": "code",
   "execution_count": 4,
   "metadata": {},
   "outputs": [],
   "source": [
    "objects = sample_2.select_dtypes('object').columns"
   ]
  },
  {
   "cell_type": "code",
   "execution_count": 5,
   "metadata": {},
   "outputs": [],
   "source": [
    "sample_2.loc[:, objects] = sample_2.loc[:, objects].apply(lambda x: x.astype('category'))"
   ]
  },
  {
   "cell_type": "code",
   "execution_count": 6,
   "metadata": {},
   "outputs": [],
   "source": [
    "ints = sample_2.select_dtypes(include=['int64','int32','int16']).columns\n",
    "sample_2[ints] = sample_2[ints].apply(pd.to_numeric, downcast='integer')\n",
    "\n",
    "floats = sample_2.select_dtypes(include=['float']).columns\n",
    "sample_2[floats] = sample_2[floats].apply(pd.to_numeric, downcast='float')"
   ]
  },
  {
   "cell_type": "code",
   "execution_count": 7,
   "metadata": {},
   "outputs": [],
   "source": [
    "types = sample_2.dtypes\n",
    "types = types.apply(str)"
   ]
  },
  {
   "cell_type": "code",
   "execution_count": 8,
   "metadata": {},
   "outputs": [],
   "source": [
    "dict_types = types.to_dict()"
   ]
  },
  {
   "cell_type": "code",
   "execution_count": 9,
   "metadata": {},
   "outputs": [],
   "source": [
    "emp18 = []\n",
    "for chunk in pd.read_csv('RAIS_ESTAB_PUB.txt', encoding='latin-1', sep=';', \n",
    "                         low_memory=False, decimal=',', dtype=dict_types, chunksize=1000):\n",
    "    emp18.append(chunk)"
   ]
  },
  {
   "cell_type": "code",
   "execution_count": 10,
   "metadata": {},
   "outputs": [],
   "source": [
    "emp17 = []\n",
    "for chunk in pd.read_csv('ESTB2017.txt', encoding='latin-1', sep=';', \n",
    "                         low_memory=False, decimal=',', dtype=dict_types, chunksize=1000):\n",
    "    emp17.append(chunk)"
   ]
  },
  {
   "cell_type": "code",
   "execution_count": 11,
   "metadata": {},
   "outputs": [],
   "source": [
    "emp16 = []\n",
    "for chunk in pd.read_csv('ESTB2016.txt', encoding='latin-1', sep=';', \n",
    "                         low_memory=False, decimal=',', dtype=dict_types, chunksize=1000):\n",
    "    emp16.append(chunk)"
   ]
  },
  {
   "cell_type": "code",
   "execution_count": 12,
   "metadata": {},
   "outputs": [],
   "source": [
    "emp15 = []\n",
    "for chunk in pd.read_csv('ESTB2015.txt', encoding='latin-1', sep=';', \n",
    "                         low_memory=False, decimal=',', dtype=dict_types, chunksize=1000):\n",
    "    emp15.append(chunk)"
   ]
  },
  {
   "cell_type": "code",
   "execution_count": 13,
   "metadata": {},
   "outputs": [],
   "source": [
    "emp14 = []\n",
    "for chunk in pd.read_csv('ESTB2014.txt', encoding='latin-1', sep=';', \n",
    "                         low_memory=False, decimal=',', dtype=dict_types, chunksize=1000):\n",
    "    emp14.append(chunk)"
   ]
  },
  {
   "cell_type": "code",
   "execution_count": 14,
   "metadata": {},
   "outputs": [],
   "source": [
    "emp13 = []\n",
    "for chunk in pd.read_csv('ESTB2013.txt', encoding='latin-1', sep=';', \n",
    "                         low_memory=False, decimal=',', dtype=dict_types, chunksize=1000):\n",
    "    emp13.append(chunk)"
   ]
  },
  {
   "cell_type": "code",
   "execution_count": 15,
   "metadata": {},
   "outputs": [],
   "source": [
    "emp12 = []\n",
    "for chunk in pd.read_csv('Estb2012.txt', encoding='latin-1', sep=';', \n",
    "                         low_memory=False, decimal=',', dtype=dict_types, chunksize=1000):\n",
    "    emp12.append(chunk)"
   ]
  },
  {
   "cell_type": "code",
   "execution_count": 16,
   "metadata": {},
   "outputs": [],
   "source": [
    "emp11 = []\n",
    "for chunk in pd.read_csv('ESTB2011.txt', encoding='latin-1', sep=';', \n",
    "                         low_memory=False, decimal=',', dtype=dict_types, chunksize=1000):\n",
    "    emp11.append(chunk)"
   ]
  },
  {
   "cell_type": "code",
   "execution_count": 17,
   "metadata": {},
   "outputs": [],
   "source": [
    "emp10 = []\n",
    "for chunk in pd.read_csv('ESTB2010.txt', encoding='latin-1', sep=';', \n",
    "                         low_memory=False, decimal=',', dtype=dict_types, chunksize=1000):\n",
    "    emp10.append(chunk)"
   ]
  },
  {
   "cell_type": "code",
   "execution_count": 18,
   "metadata": {},
   "outputs": [],
   "source": [
    "emp09 = []\n",
    "for chunk in pd.read_csv('ESTB2009.txt', encoding='latin-1', sep=';', \n",
    "                         low_memory=False, decimal=',', chunksize=1000):\n",
    "    emp09.append(chunk)"
   ]
  },
  {
   "cell_type": "code",
   "execution_count": 19,
   "metadata": {},
   "outputs": [],
   "source": [
    "emp08 = []\n",
    "for chunk in pd.read_csv('Estb2008.txt', encoding='latin-1', sep=';', \n",
    "                         low_memory=False, decimal=',',  chunksize=1000):\n",
    "    emp08.append(chunk)"
   ]
  },
  {
   "cell_type": "code",
   "execution_count": 20,
   "metadata": {},
   "outputs": [],
   "source": [
    "emp07 = []\n",
    "for chunk in pd.read_csv('ESTB2007.txt', encoding='latin-1', sep=';', \n",
    "                         low_memory=False, decimal=',', chunksize=1000):\n",
    "    emp07.append(chunk)"
   ]
  },
  {
   "cell_type": "code",
   "execution_count": 24,
   "metadata": {},
   "outputs": [],
   "source": [
    "emp18 = pd.concat(emp18)"
   ]
  },
  {
   "cell_type": "code",
   "execution_count": 22,
   "metadata": {},
   "outputs": [],
   "source": [
    "emp17 = pd.concat(emp17)"
   ]
  },
  {
   "cell_type": "code",
   "execution_count": 23,
   "metadata": {},
   "outputs": [],
   "source": [
    "emp16 = pd.concat(emp16)"
   ]
  },
  {
   "cell_type": "code",
   "execution_count": 25,
   "metadata": {},
   "outputs": [],
   "source": [
    "emp15 = pd.concat(emp15)"
   ]
  },
  {
   "cell_type": "code",
   "execution_count": 26,
   "metadata": {},
   "outputs": [],
   "source": [
    "emp14 = pd.concat(emp14)"
   ]
  },
  {
   "cell_type": "code",
   "execution_count": 27,
   "metadata": {},
   "outputs": [],
   "source": [
    "emp13 = pd.concat(emp13)"
   ]
  },
  {
   "cell_type": "code",
   "execution_count": 28,
   "metadata": {},
   "outputs": [],
   "source": [
    "emp12 = pd.concat(emp12)"
   ]
  },
  {
   "cell_type": "code",
   "execution_count": 29,
   "metadata": {},
   "outputs": [],
   "source": [
    "emp11 = pd.concat(emp11)"
   ]
  },
  {
   "cell_type": "code",
   "execution_count": 30,
   "metadata": {},
   "outputs": [],
   "source": [
    "emp10 = pd.concat(emp10)"
   ]
  },
  {
   "cell_type": "code",
   "execution_count": 31,
   "metadata": {},
   "outputs": [],
   "source": [
    "emp09 = pd.concat(emp09)"
   ]
  },
  {
   "cell_type": "code",
   "execution_count": 38,
   "metadata": {},
   "outputs": [],
   "source": [
    "emp08 = pd.concat(emp08)"
   ]
  },
  {
   "cell_type": "code",
   "execution_count": 33,
   "metadata": {},
   "outputs": [],
   "source": [
    "emp07 = pd.concat(emp07)"
   ]
  },
  {
   "cell_type": "code",
   "execution_count": 39,
   "metadata": {},
   "outputs": [],
   "source": [
    "emp07pb = emp07.loc[(emp07['Município'] >= 250000) & (emp07['Município'] <= 259999)]\n",
    "emp08pb = emp08.loc[(emp08['Município'] >= 250000) & (emp08['Município'] <= 259999)]\n",
    "emp09pb = emp09.loc[(emp09['Município'] >= 250000) & (emp09['Município'] <= 259999)]\n",
    "emp10pb = emp10.loc[(emp10['Município'] >= 250000) & (emp10['Município'] <= 259999)]\n",
    "emp11pb = emp11.loc[(emp11['Município'] >= 250000) & (emp11['Município'] <= 259999)]\n",
    "emp12pb = emp12.loc[(emp12['Município'] >= 250000) & (emp12['Município'] <= 259999)]\n",
    "emp13pb = emp13.loc[(emp13['Município'] >= 250000) & (emp13['Município'] <= 259999)]\n",
    "emp14pb = emp14.loc[(emp14['Município'] >= 250000) & (emp14['Município'] <= 259999)]\n",
    "emp15pb = emp15.loc[(emp15['Município'] >= 250000) & (emp15['Município'] <= 259999)]\n",
    "emp16pb = emp16.loc[(emp16['Município'] >= 250000) & (emp16['Município'] <= 259999)]\n",
    "emp17pb = emp17.loc[(emp17['Município'] >= 250000) & (emp17['Município'] <= 259999)]"
   ]
  },
  {
   "cell_type": "code",
   "execution_count": 41,
   "metadata": {},
   "outputs": [],
   "source": [
    "emp18pb = emp18.loc[(emp18['Município'] >= 250000) & (emp18['Município'] <= 259999)]"
   ]
  },
  {
   "cell_type": "code",
   "execution_count": 42,
   "metadata": {},
   "outputs": [],
   "source": [
    "emp18pb.to_csv ('emp18.csv', sep=';')\n",
    "emp17pb.to_csv ('emp17.csv', sep=';')\n",
    "emp16pb.to_csv ('emp16.csv', sep=';')\n",
    "emp15pb.to_csv ('emp15.csv', sep=';')\n",
    "emp14pb.to_csv ('emp14.csv', sep=';')\n",
    "emp13pb.to_csv ('emp13.csv', sep=';')\n",
    "emp12pb.to_csv ('emp12.csv', sep=';')\n",
    "emp11pb.to_csv ('emp11.csv', sep=';')\n",
    "emp10pb.to_csv ('emp10.csv', sep=';')\n",
    "emp09pb.to_csv ('emp09.csv', sep=';')\n",
    "emp08pb.to_csv ('emp08.csv', sep=';')\n",
    "emp07pb.to_csv ('emp07.csv', sep=';')"
   ]
  },
  {
   "cell_type": "code",
   "execution_count": null,
   "metadata": {},
   "outputs": [],
   "source": []
  }
 ],
 "metadata": {
  "kernelspec": {
   "display_name": "Python 3",
   "language": "python",
   "name": "python3"
  },
  "language_info": {
   "codemirror_mode": {
    "name": "ipython",
    "version": 3
   },
   "file_extension": ".py",
   "mimetype": "text/x-python",
   "name": "python",
   "nbconvert_exporter": "python",
   "pygments_lexer": "ipython3",
   "version": "3.7.3"
  }
 },
 "nbformat": 4,
 "nbformat_minor": 2
}
