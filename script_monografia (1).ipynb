{
 "cells": [
  {
   "cell_type": "markdown",
   "metadata": {},
   "source": [
    "# Monografia Mapa do mercado de trabalho na Paraíba de 2007 até 2008"
   ]
  },
  {
   "cell_type": "code",
   "execution_count": 1,
   "metadata": {},
   "outputs": [],
   "source": [
    "import pandas as pd\n",
    "import matplotlib.pyplot as plt\n",
    "from IPython.display import display\n",
    "import statsmodels.api as sm\n",
    "from statsmodels.iolib.table import SimpleTable\n",
    "import seaborn as sns\n",
    "import numpy as np\n",
    "%matplotlib inline"
   ]
  },
  {
   "cell_type": "markdown",
   "metadata": {},
   "source": [
    "# importação e tratamento dos dados"
   ]
  },
  {
   "cell_type": "code",
   "execution_count": 2,
   "metadata": {},
   "outputs": [],
   "source": [
    "#dados extraídos do IBGE https://www.ibge.gov.br/estatisticas/sociais/trabalho/9173-pesquisa-nacional-por-amostra-de-domicilios-continua-trimestral.html?t=resultados e tratados anteriormente em excel\n",
    "desemprego = pd.read_csv ('desempregobrasil.csv', sep=',')"
   ]
  },
  {
   "cell_type": "code",
   "execution_count": 4,
   "metadata": {},
   "outputs": [],
   "source": [
    "#dados extraidos do IBGE em https://ftp.ibge.gov.br/Contas_Nacionais/Contas_Nacionais_Trimestrais/Tabelas_Completas/Tab_Compl_CNT.zip e tratados em excel\n",
    "pib_br = pd.read_csv ('pib_br.csv', sep=';', encoding='ISO-8859–1')"
   ]
  },
  {
   "cell_type": "code",
   "execution_count": 5,
   "metadata": {},
   "outputs": [],
   "source": [
    "#subindo os arquivos editados anteriormente\n",
    "df07 = pd.read_csv('df07.csv', sep=';', low_memory=False)\n",
    "df08 = pd.read_csv('df08.csv', sep=';', low_memory=False)\n",
    "df09 = pd.read_csv('df09.csv', sep=';',low_memory=False)\n",
    "df10 = pd.read_csv('df10.csv', sep=';', low_memory=False)\n",
    "df11 = pd.read_csv('df11.csv', sep=';', low_memory=False)\n",
    "df12 = pd.read_csv('df12.csv', sep=';', low_memory=False)\n",
    "df13 = pd.read_csv('df13.csv', sep=';', low_memory=False)\n",
    "df14 = pd.read_csv('df14.csv', sep=';', low_memory=False)\n",
    "df15 = pd.read_csv('df15.csv', sep=';', low_memory=False)\n",
    "df16 = pd.read_csv('df16.csv', sep=';', low_memory=False)\n",
    "df17 = pd.read_csv('df17.csv', sep=';', low_memory=False)\n",
    "df18 = pd.read_csv('df18.csv', sep=';', low_memory=False)"
   ]
  },
  {
   "cell_type": "code",
   "execution_count": 52,
   "metadata": {},
   "outputs": [],
   "source": [
    "#filtrar remunerações maiores que 0 (zero)\n",
    "filtro18 = df18['Vl Remun Média Nom'] > 0.0\n",
    "filtro17 = df17['Vl Remun Média Nom'] > 0.0\n",
    "filtro16 = df16['Vl Remun Média Nom'] > 0.0\n",
    "filtro15 = df15['Vl Remun Média Nom'] > 0.0\n",
    "filtro14 = df14['Vl Remun Média Nom'] > 0.0\n",
    "filtro13 = df13['Vl Remun Média Nom'] > 0.0\n",
    "filtro12 = df12['Vl Remun Média Nom'] > 0.0\n",
    "filtro11 = df11['Vl Remun Média Nom'] > 0.0\n",
    "filtro10 = df10['Vl Remun Média Nom'] > 0.0\n",
    "filtro09 = df09['Vl Remun Média Nom'] > 0.0\n",
    "filtro08 = df08['Vl Remun Média Nom'] > 0.0\n",
    "filtro07 = df07['Vl Remun Média Nom'] > 0.0"
   ]
  },
  {
   "cell_type": "code",
   "execution_count": 53,
   "metadata": {},
   "outputs": [],
   "source": [
    "df18 = df18[filtro18]\n",
    "df17 = df17[filtro17]\n",
    "df16 = df16[filtro16]\n",
    "df15 = df15[filtro15]\n",
    "df14 = df14[filtro14]\n",
    "df13 = df13[filtro13]\n",
    "df12 = df12[filtro12]\n",
    "df11 = df11[filtro11]\n",
    "df10 = df10[filtro10]\n",
    "df09 = df09[filtro09]\n",
    "df08 = df08[filtro08]\n",
    "df07 = df07[filtro07]"
   ]
  },
  {
   "cell_type": "code",
   "execution_count": 54,
   "metadata": {},
   "outputs": [],
   "source": [
    "df18['total'] = 1\n",
    "df17['total'] = 1\n",
    "df16['total'] = 1\n",
    "df15['total'] = 1\n",
    "df14['total'] = 1\n",
    "df13['total'] = 1\n",
    "df12['total'] = 1\n",
    "df11['total'] = 1\n",
    "df10['total'] = 1\n",
    "df09['total'] = 1\n",
    "df08['total'] = 1\n",
    "df07['total'] = 1"
   ]
  },
  {
   "cell_type": "markdown",
   "metadata": {},
   "source": [
    "# Capítulo 2"
   ]
  },
  {
   "cell_type": "markdown",
   "metadata": {},
   "source": [
    "A DINÂMICA DA ECONOMIA ENTRE 2007 E 2018: UMA ANÁLISE PARA O BRASIL E PARA A PARAÍBA"
   ]
  },
  {
   "cell_type": "code",
   "execution_count": 10,
   "metadata": {},
   "outputs": [],
   "source": [
    "#mudar virgulas por ponto\n",
    "pib_br[\"pib\"] = [x.replace(\",\", \".\") for x in pib_br[\"pib\"]]"
   ]
  },
  {
   "cell_type": "code",
   "execution_count": 11,
   "metadata": {},
   "outputs": [],
   "source": [
    "#transformar coluna pib em float\n",
    "pib_br['pib'] = pib_br['pib'].astype(float)"
   ]
  },
  {
   "cell_type": "code",
   "execution_count": 12,
   "metadata": {},
   "outputs": [],
   "source": [
    "#transformar coluna pib em um objeto\n",
    "pibbr = pib_br['pib']"
   ]
  },
  {
   "cell_type": "code",
   "execution_count": 18,
   "metadata": {},
   "outputs": [],
   "source": [
    "#trimestres de 2012 até 2018\n",
    "trim = ['1º/12', '2º/12', '3º/12', '4º/12', '1º/13', '2º/13', '3º/13', '4º/13', '1º/14', '2º/14', '3º/14', '4º/14',\n",
    "       '1º/15', '2º/15', '3º/15', '4º/15', '1º/16', '2º/16', '3º/16', '4º/16', '1º/17', '2º/17', '3º/17', '4º/17', '1º/18', '2º/18', '3º/18', '4º/18' ]"
   ]
  },
  {
   "cell_type": "code",
   "execution_count": 44,
   "metadata": {},
   "outputs": [],
   "source": [
    "#trimestre de 2007 até 2018\n",
    "trim2 = ['1º/07', '2º/07', '3º/07', '4º/07', '1º/08', '2º/08', '3º/08', '4º/08', '1º/09', '2º/09', '3º/09', '4º/09', '1º/10', '2º/10', '3º/10', '4º/10','1º/11', '2º/11', '3º/11', '4º/11', '1º/12', '2º/12', '3º/12', '4º/12', '1º/13', '2º/13', '3º/13', '4º/13', '1º/14', '2º/14', '3º/14', '4º/14',\n",
    "       '1º/15', '2º/15', '3º/15', '4º/15', '1º/16', '2º/16', '3º/16', '4º/16', '1º/17', '2º/17', '3º/17', '4º/17', '1º/18', '2º/18', '3º/18', '4º/18' ]"
   ]
  },
  {
   "cell_type": "code",
   "execution_count": 25,
   "metadata": {},
   "outputs": [],
   "source": [
    "#configuração do tamanho das letras dos gráficos\n",
    "title_font = {'size':'14'}\n",
    "ticks_font = {'size': '14'}\n",
    "legenda = {'size': '12'}"
   ]
  },
  {
   "cell_type": "code",
   "execution_count": 28,
   "metadata": {},
   "outputs": [
    {
     "data": {
      "image/png": "[encoded data removed]",
      "text/plain": [
       "<Figure size 648x432 with 2 Axes>"
      ]
     },
     "metadata": {
      "needs_background": "light"
     },
     "output_type": "display_data"
    }
   ],
   "source": [
    "fig, ax1 = plt.subplots(figsize=(9, 6))\n",
    "plt.rcParams['legend.fontsize'] = 8\n",
    "plt.rcParams['font.family'] = 'times new roman'\n",
    "\n",
    "ax1.set_xlabel('trimestre', **ticks_font)\n",
    "ax1.set_ylabel('PIB (em número índice)', **title_font)\n",
    "ax1.plot(trim, pibbr, '-x' , label='PIB', color='green')\n",
    "plt.rcParams['font.family'] = 'times new roman'\n",
    "plt.rcParams['xtick.labelsize'] = 11\n",
    "plt.rcParams['ytick.labelsize'] = 14\n",
    "\n",
    "#ax1.set_title('Grafico 1 - Taxa combinada da desocupação e da força de trabalho potencial\\n e PIB de 2012 até 2017 - Trimestral', **title_font)\n",
    "ax1.legend(loc='upper left')\n",
    "\n",
    "\n",
    "ax2 = ax1.twinx()\n",
    "ax2.plot(trim, des,'-o', label='Desemprego (%)')\n",
    "ax2.set_ylabel('Taxa (%) desemprego', **title_font)\n",
    "plt.rcParams['font.family'] = 'times new roman'\n",
    "plt.rcParams['xtick.labelsize'] = 11\n",
    "plt.rcParams['ytick.labelsize'] = 14\n",
    "\n",
    "ax2.legend(loc='lower right')\n",
    "ax1.grid()\n",
    "\n",
    "ax1.xaxis.set_tick_params(rotation=45)\n",
    "\n",
    "#plt.annotate('Fonte: Elaboração própria com dados do IBGE', xy=(45, 1), xycoords='figure pixels', **legenda)\n",
    "plt.savefig ('grafico1.png')\n",
    "plt.show()"
   ]
  },
  {
   "cell_type": "code",
   "execution_count": 48,
   "metadata": {},
   "outputs": [],
   "source": [
    "# dados coletados do site: http://www6.sistemaindustria.org.br/gpc/externo/listaResultados.faces?codPesquisa=180\n",
    "icei = pd.read_excel('icei2.xlsx')"
   ]
  },
  {
   "cell_type": "code",
   "execution_count": 53,
   "metadata": {},
   "outputs": [
    {
     "data": {
      "text/plain": [
       "<function matplotlib.pyplot.show(*args, **kw)>"
      ]
     },
     "execution_count": 53,
     "metadata": {},
     "output_type": "execute_result"
    },
    {
     "data": {
      "image/png": "[encoded data removed]",
      "text/plain": [
       "<Figure size 720x432 with 1 Axes>"
      ]
     },
     "metadata": {
      "needs_background": "light"
     },
     "output_type": "display_data"
    }
   ],
   "source": [
    "plt.subplots (figsize=(10,6))\n",
    "plt.rcParams['font.family'] = 'times new roman'\n",
    "plt.plot (trim2, icei['extravista'], '-x' , label='Industria Extravista')\n",
    "plt.plot (trim2, icei['transformacao'], '-o' ,label='Industria da transformação', color='green') \n",
    "#plt.title ('Gráfico 2 - Índice de confiança do empresariado industrial\\n de 2007 até 2018 - Trimestral', **title_font)\n",
    "plt.grid()\n",
    "plt.legend()\n",
    "plt.xticks(rotation=45)\n",
    "plt.ylabel('(%)', **ticks_font)\n",
    "plt.xlabel('Trimestre', **ticks_font)\n",
    "plt.rcParams['legend.fontsize'] = 12\n",
    "#plt.annotate('Fonte: Elaboração própria de dados extraidos de CNI (2019).', xy=(40, 0), xycoords='figure pixels', **legenda)\n",
    "plt.savefig ('grafico2.png')\n",
    "plt.show"
   ]
  },
  {
   "cell_type": "code",
   "execution_count": null,
   "metadata": {},
   "outputs": [],
   "source": [
    "#pib extraido e manipulado em excel de https://www.ibge.gov.br/estatisticas/economicas/contas-nacionais/9300-contas-nacionais-trimestrais.html?=&t=downloads&utm_source=landing&utm_medium=explica&utm_campaign=pib#evolucao-taxa\n",
    "pib_trim = pd.read_csv('pib_br_trim_categoria.csv', sep=';')"
   ]
  },
  {
   "cell_type": "code",
   "execution_count": null,
   "metadata": {},
   "outputs": [],
   "source": [
    "#transformar virgulas em pontos\n",
    "pib_trim['PIB'] = pib_trim['PIB'].str.replace(',','.')"
   ]
  },
  {
   "cell_type": "code",
   "execution_count": 54,
   "metadata": {},
   "outputs": [],
   "source": [
    "#transformar coluna em float\n",
    "pib_trim['PIB']  = pib_trim['PIB'].astype(float)"
   ]
  },
  {
   "cell_type": "code",
   "execution_count": null,
   "metadata": {},
   "outputs": [],
   "source": [
    "plt.subplots (figsize=(10,6))\n",
    "plt.bar (pib_trim['trimestre'], pib_trim['PIB'])\n",
    "plt.title ('Gráfico 3 - PIB de 2007 até 2019 - Trimestral', **title_font)\n",
    "plt.xticks(rotation=45)\n",
    "plt.rcParams['xtick.labelsize'] = 12\n",
    "plt.rcParams['ytick.labelsize'] = 12\n",
    "plt.annotate('Fonte: Elaboração própria do PIB extraidos de IBGE/SCNT (2019).', xy=(45, 2), xycoords='figure pixels', **legenda)\n",
    "#plt.savefig ('grafico13.png')\n",
    "plt.show"
   ]
  },
  {
   "cell_type": "code",
   "execution_count": null,
   "metadata": {},
   "outputs": [],
   "source": [
    "#pib extraido e manipulado em excel de https://www.ibge.gov.br/estatisticas/economicas/contas-nacionais/9300-contas-nacionais-trimestrais.html?=&t=downloads&utm_source=landing&utm_medium=explica&utm_campaign=pib#evolucao-taxa\n",
    "pib_anual = pd.read_csv('pib_br_anual_categoria.csv', sep=';')"
   ]
  },
  {
   "cell_type": "code",
   "execution_count": null,
   "metadata": {},
   "outputs": [],
   "source": [
    "#transformar virgulas em pontos\n",
    "pib_anual['PIB'] = pib_anual['PIB'].str.replace(',','.')\n",
    "pib_anual['PIB'] = pib_anual['PIB'].astype(float)"
   ]
  },
  {
   "cell_type": "code",
   "execution_count": null,
   "metadata": {},
   "outputs": [],
   "source": [
    "#objeto criado com os anos de 2007 até 2019\n",
    "year = ['2007', '2008', '2009', '2010', '2011', '2012', '2013', '2014', '2015', '2016', '2017', '2018', '2019']"
   ]
  },
  {
   "cell_type": "code",
   "execution_count": null,
   "metadata": {},
   "outputs": [],
   "source": [
    "#separação dos dados de 2007 até 2019\n",
    "pib_a_2007 = pib_anual['PIB'].loc[0]\n",
    "pib_a_2008 = pib_anual['PIB'].loc[1]\n",
    "pib_a_2009 = pib_anual['PIB'].loc[2]\n",
    "pib_a_2010 = pib_anual['PIB'].loc[3]\n",
    "pib_a_2011 = pib_anual['PIB'].loc[4]\n",
    "pib_a_2012 = pib_anual['PIB'].loc[5]\n",
    "pib_a_2013 = pib_anual['PIB'].loc[6]\n",
    "pib_a_2014 = pib_anual['PIB'].loc[7]\n",
    "pib_a_2015 = pib_anual['PIB'].loc[8]\n",
    "pib_a_2016 = pib_anual['PIB'].loc[9]\n",
    "pib_a_2017 = pib_anual['PIB'].loc[10]\n",
    "pib_a_2018 = pib_anual['PIB'].loc[11]\n",
    "pib_a_2019 = pib_anual['PIB'].loc[12]"
   ]
  },
  {
   "cell_type": "code",
   "execution_count": null,
   "metadata": {},
   "outputs": [],
   "source": [
    "plt.subplots (figsize=(10,6))\n",
    "pib_grafico = plt.bar (year, pib_anual['PIB'], color='green')\n",
    "plt.title ('Gráfico 3 - PIB do Brasil de 2007 até 2019 - Anual', **title_font)\n",
    "#plt.xticks(rotation=45)\n",
    "plt.rcParams['xtick.labelsize'] = 12\n",
    "plt.rcParams['ytick.labelsize'] = 12\n",
    "plt.annotate('Fonte: Elaboração própria do PIB extraidos de IBGE/SCNT (2019).', xy=(45, 5), xycoords='figure pixels', **legenda)\n",
    "pib_grafico[2].set_color('red')\n",
    "pib_grafico[8].set_color('red')\n",
    "pib_grafico[9].set_color('red')\n",
    "plt.axhline(0, color=\"k\", clip_on=False)\n",
    "plt.annotate ((pib_a_2007), xy=(-0.1, 6.2), ha='left', color='black', **legenda)\n",
    "plt.annotate ((pib_a_2008), xy=(0.9, 5.2),  ha='left', color='black', **legenda)\n",
    "plt.annotate ((pib_a_2009), xy=(1.9, -0.6),  ha='left', color='black', **legenda)\n",
    "plt.annotate ((pib_a_2010), xy=(2.9, 7.6 ), ha='left', color='black', **legenda)\n",
    "plt.annotate ((pib_a_2011), xy=(3.8, 4.1),  ha='left', color='black', **legenda)\n",
    "plt.annotate ((pib_a_2012), xy=(4.8, 2),  ha='left', color='black', **legenda)\n",
    "plt.annotate ((pib_a_2013), xy=(5.8, 3.1),  ha='left', color='black', **legenda)\n",
    "plt.annotate ((pib_a_2014), xy=(6.8, 0.6),  ha='left', color='black', **legenda)\n",
    "plt.annotate ((pib_a_2015), xy=(7.8, -3.9),  ha='left', color='black', **legenda)\n",
    "plt.annotate ((pib_a_2016), xy=(8.8, -3.7),  ha='left', color='black', **legenda)\n",
    "plt.annotate ((pib_a_2017), xy=(9.8, 1.4),  ha='left', color='black', **legenda)\n",
    "plt.annotate ((pib_a_2018), xy=(10.8, 1.4),  ha='left', color='black', **legenda)\n",
    "plt.annotate ((pib_a_2019), xy=(11.8, 1.2),  ha='left', color='black', **legenda)\n",
    "plt.savefig ('grafico13.png')\n",
    "plt.show()"
   ]
  },
  {
   "cell_type": "code",
   "execution_count": null,
   "metadata": {},
   "outputs": [],
   "source": [
    "#importação dos dados do desemprego por cor da pele extraido do IBGE\n",
    "desbr = pd.read_csv ('desemprego_br_pb.csv', sep=';')"
   ]
  },
  {
   "cell_type": "code",
   "execution_count": null,
   "metadata": {},
   "outputs": [],
   "source": [
    "#conversão de virgulas em pontos\n",
    "desbr['brancos'] = desbr['brancos'].str.replace(',','.')\n",
    "desbr['pretos_pardos'] = desbr['pretos_pardos'].str.replace(',','.')\n",
    "desbr['pb_brancos'] = desbr['pb_brancos'].str.replace(',','.')\n",
    "desbr['pb_pardos'] = desbr['pb_pardos'].str.replace(',','.')"
   ]
  },
  {
   "cell_type": "code",
   "execution_count": null,
   "metadata": {},
   "outputs": [],
   "source": [
    "#transformação das colunas em float\n",
    "desbr['brancos'] = desbr['brancos'].astype(float)\n",
    "desbr['pretos_pardos'] = desbr['pretos_pardos'].astype(float)\n",
    "desbr['pb_brancos'] = desbr['pb_brancos'].astype(float)\n",
    "desbr['pb_pardos'] = desbr['pb_pardos'].astype(float)"
   ]
  },
  {
   "cell_type": "code",
   "execution_count": null,
   "metadata": {},
   "outputs": [],
   "source": [
    "#objejo criado com datas de 2012 até 2018\n",
    "des_ano = ['2012', '2013', '2014', '2015', '2016', '2017', '2018']"
   ]
  },
  {
   "cell_type": "code",
   "execution_count": null,
   "metadata": {},
   "outputs": [],
   "source": [
    "plt.subplots (figsize=(10,6))\n",
    "plt.plot (des_ano, desbr['brancos'], '-x' , label='Brancos')\n",
    "plt.plot (des_ano, desbr['pretos_pardos'], '-o' ,label='Pretos e Pardos', color='green') \n",
    "plt.title ('Gráfico 4 - Desemprego entre brancos e pretos e pardos em \\n porcentagem no Brasil de 2012 até 2018', **title_font)\n",
    "plt.rcParams['font.family'] = 'times new roman'\n",
    "plt.grid()\n",
    "plt.xlabel('Ano', **ticks_font)\n",
    "plt.ylabel('Porcentagem (%)', **ticks_font)\n",
    "plt.rcParams['xtick.labelsize'] = 12\n",
    "plt.rcParams['ytick.labelsize'] = 12\n",
    "plt.legend()\n",
    "plt.annotate('Fonte: Elaboração própria de dados extrados do IBGE (2020).', xy=(45, 4), xycoords='figure pixels', **legenda)\n",
    "plt.savefig ('grafico14.png')\n",
    "plt.show"
   ]
  },
  {
   "cell_type": "code",
   "execution_count": null,
   "metadata": {},
   "outputs": [],
   "source": [
    "#importação dos dados do emprego informal no brasil #retirado do endereço https://sidra.ibge.gov.br/Tabela/4097#resultado\n",
    "emprego = pd.read_csv('tabela4097.csv', sep=';', encoding='ISO-8859-1')"
   ]
  },
  {
   "cell_type": "code",
   "execution_count": null,
   "metadata": {},
   "outputs": [],
   "source": [
    "#soma de empregos informais\n",
    "emprego['informal'] = emprego['sem_carteira'] + emprego['domestico_sem_carteira'] + emprego['conta_propria']"
   ]
  },
  {
   "cell_type": "code",
   "execution_count": null,
   "metadata": {},
   "outputs": [],
   "source": [
    "#soma de empregos formais\n",
    "emprego['formal'] = emprego['carteira_assinada'] + emprego['domestico_com_carteira']"
   ]
  },
  {
   "cell_type": "code",
   "execution_count": null,
   "metadata": {},
   "outputs": [],
   "source": [
    "plt.subplots (figsize=(10,6))\n",
    "plt.plot (emprego['trimestre'], emprego['informal'], '-x' , label='sem carteira assinada')\n",
    "plt.plot (emprego['trimestre'], emprego['formal'], '-o' ,label='com carteira assinada', color='green') \n",
    "plt.title ('Gráfico 5 - trabalhadores sem carteira assinada (incluindo domésticas) e por contra própria \\n e trabalhadores com carteira assinada (incluindo domésticas) no Brasil de 2012 até 2019', **title_font)\n",
    "plt.rcParams['font.family'] = 'times new roman'\n",
    "plt.grid()\n",
    "plt.xticks(rotation=45)\n",
    "plt.xlabel('trimestre', **ticks_font)\n",
    "plt.ylabel('milhões', **ticks_font)\n",
    "plt.rcParams['xtick.labelsize'] = 8\n",
    "plt.rcParams['ytick.labelsize'] = 12\n",
    "plt.legend()\n",
    "plt.annotate('Fonte: Elaboração própria de dados extrados do IBGE (2020).', xy=(25, 2), xycoords='figure pixels', **legenda)\n",
    "plt.savefig ('grafico5.png')\n",
    "plt.show"
   ]
  },
  {
   "cell_type": "code",
   "execution_count": 9,
   "metadata": {},
   "outputs": [],
   "source": [
    "#analise dos estabelecimentos na paraíba"
   ]
  },
  {
   "cell_type": "code",
   "execution_count": 10,
   "metadata": {},
   "outputs": [
    {
     "ename": "FileNotFoundError",
     "evalue": "[Errno 2] File b'emp07.csv' does not exist: b'emp07.csv'",
     "output_type": "error",
     "traceback": [
      "\u001b[1;31m---------------------------------------------------------------------------\u001b[0m",
      "\u001b[1;31mFileNotFoundError\u001b[0m                         Traceback (most recent call last)",
      "\u001b[1;32m<ipython-input-10-e75a514af504>\u001b[0m in \u001b[0;36m<module>\u001b[1;34m\u001b[0m\n\u001b[1;32m----> 1\u001b[1;33m \u001b[0memp07\u001b[0m \u001b[1;33m=\u001b[0m \u001b[0mpd\u001b[0m\u001b[1;33m.\u001b[0m\u001b[0mread_csv\u001b[0m\u001b[1;33m(\u001b[0m\u001b[1;34m'emp07.csv'\u001b[0m\u001b[1;33m,\u001b[0m \u001b[0msep\u001b[0m\u001b[1;33m=\u001b[0m\u001b[1;34m';'\u001b[0m\u001b[1;33m)\u001b[0m\u001b[1;33m\u001b[0m\u001b[1;33m\u001b[0m\u001b[0m\n\u001b[0m\u001b[0;32m      2\u001b[0m \u001b[0memp08\u001b[0m \u001b[1;33m=\u001b[0m \u001b[0mpd\u001b[0m\u001b[1;33m.\u001b[0m\u001b[0mread_csv\u001b[0m\u001b[1;33m(\u001b[0m\u001b[1;34m'emp08.csv'\u001b[0m\u001b[1;33m,\u001b[0m \u001b[0msep\u001b[0m\u001b[1;33m=\u001b[0m\u001b[1;34m';'\u001b[0m\u001b[1;33m)\u001b[0m\u001b[1;33m\u001b[0m\u001b[1;33m\u001b[0m\u001b[0m\n\u001b[0;32m      3\u001b[0m \u001b[0memp09\u001b[0m \u001b[1;33m=\u001b[0m \u001b[0mpd\u001b[0m\u001b[1;33m.\u001b[0m\u001b[0mread_csv\u001b[0m\u001b[1;33m(\u001b[0m\u001b[1;34m'emp09.csv'\u001b[0m\u001b[1;33m,\u001b[0m \u001b[0msep\u001b[0m\u001b[1;33m=\u001b[0m\u001b[1;34m';'\u001b[0m\u001b[1;33m)\u001b[0m\u001b[1;33m\u001b[0m\u001b[1;33m\u001b[0m\u001b[0m\n\u001b[0;32m      4\u001b[0m \u001b[0memp10\u001b[0m \u001b[1;33m=\u001b[0m \u001b[0mpd\u001b[0m\u001b[1;33m.\u001b[0m\u001b[0mread_csv\u001b[0m\u001b[1;33m(\u001b[0m\u001b[1;34m'emp10.csv'\u001b[0m\u001b[1;33m,\u001b[0m \u001b[0msep\u001b[0m\u001b[1;33m=\u001b[0m\u001b[1;34m';'\u001b[0m\u001b[1;33m)\u001b[0m\u001b[1;33m\u001b[0m\u001b[1;33m\u001b[0m\u001b[0m\n\u001b[0;32m      5\u001b[0m \u001b[0memp11\u001b[0m \u001b[1;33m=\u001b[0m \u001b[0mpd\u001b[0m\u001b[1;33m.\u001b[0m\u001b[0mread_csv\u001b[0m\u001b[1;33m(\u001b[0m\u001b[1;34m'emp11.csv'\u001b[0m\u001b[1;33m,\u001b[0m \u001b[0msep\u001b[0m\u001b[1;33m=\u001b[0m\u001b[1;34m';'\u001b[0m\u001b[1;33m)\u001b[0m\u001b[1;33m\u001b[0m\u001b[1;33m\u001b[0m\u001b[0m\n",
      "\u001b[1;32m~\\Anaconda3\\lib\\site-packages\\pandas\\io\\parsers.py\u001b[0m in \u001b[0;36mparser_f\u001b[1;34m(filepath_or_buffer, sep, delimiter, header, names, index_col, usecols, squeeze, prefix, mangle_dupe_cols, dtype, engine, converters, true_values, false_values, skipinitialspace, skiprows, skipfooter, nrows, na_values, keep_default_na, na_filter, verbose, skip_blank_lines, parse_dates, infer_datetime_format, keep_date_col, date_parser, dayfirst, iterator, chunksize, compression, thousands, decimal, lineterminator, quotechar, quoting, doublequote, escapechar, comment, encoding, dialect, tupleize_cols, error_bad_lines, warn_bad_lines, delim_whitespace, low_memory, memory_map, float_precision)\u001b[0m\n\u001b[0;32m    700\u001b[0m                     skip_blank_lines=skip_blank_lines)\n\u001b[0;32m    701\u001b[0m \u001b[1;33m\u001b[0m\u001b[0m\n\u001b[1;32m--> 702\u001b[1;33m         \u001b[1;32mreturn\u001b[0m \u001b[0m_read\u001b[0m\u001b[1;33m(\u001b[0m\u001b[0mfilepath_or_buffer\u001b[0m\u001b[1;33m,\u001b[0m \u001b[0mkwds\u001b[0m\u001b[1;33m)\u001b[0m\u001b[1;33m\u001b[0m\u001b[1;33m\u001b[0m\u001b[0m\n\u001b[0m\u001b[0;32m    703\u001b[0m \u001b[1;33m\u001b[0m\u001b[0m\n\u001b[0;32m    704\u001b[0m     \u001b[0mparser_f\u001b[0m\u001b[1;33m.\u001b[0m\u001b[0m__name__\u001b[0m \u001b[1;33m=\u001b[0m \u001b[0mname\u001b[0m\u001b[1;33m\u001b[0m\u001b[1;33m\u001b[0m\u001b[0m\n",
      "\u001b[1;32m~\\Anaconda3\\lib\\site-packages\\pandas\\io\\parsers.py\u001b[0m in \u001b[0;36m_read\u001b[1;34m(filepath_or_buffer, kwds)\u001b[0m\n\u001b[0;32m    427\u001b[0m \u001b[1;33m\u001b[0m\u001b[0m\n\u001b[0;32m    428\u001b[0m     \u001b[1;31m# Create the parser.\u001b[0m\u001b[1;33m\u001b[0m\u001b[1;33m\u001b[0m\u001b[1;33m\u001b[0m\u001b[0m\n\u001b[1;32m--> 429\u001b[1;33m     \u001b[0mparser\u001b[0m \u001b[1;33m=\u001b[0m \u001b[0mTextFileReader\u001b[0m\u001b[1;33m(\u001b[0m\u001b[0mfilepath_or_buffer\u001b[0m\u001b[1;33m,\u001b[0m \u001b[1;33m**\u001b[0m\u001b[0mkwds\u001b[0m\u001b[1;33m)\u001b[0m\u001b[1;33m\u001b[0m\u001b[1;33m\u001b[0m\u001b[0m\n\u001b[0m\u001b[0;32m    430\u001b[0m \u001b[1;33m\u001b[0m\u001b[0m\n\u001b[0;32m    431\u001b[0m     \u001b[1;32mif\u001b[0m \u001b[0mchunksize\u001b[0m \u001b[1;32mor\u001b[0m \u001b[0miterator\u001b[0m\u001b[1;33m:\u001b[0m\u001b[1;33m\u001b[0m\u001b[1;33m\u001b[0m\u001b[0m\n",
      "\u001b[1;32m~\\Anaconda3\\lib\\site-packages\\pandas\\io\\parsers.py\u001b[0m in \u001b[0;36m__init__\u001b[1;34m(self, f, engine, **kwds)\u001b[0m\n\u001b[0;32m    893\u001b[0m             \u001b[0mself\u001b[0m\u001b[1;33m.\u001b[0m\u001b[0moptions\u001b[0m\u001b[1;33m[\u001b[0m\u001b[1;34m'has_index_names'\u001b[0m\u001b[1;33m]\u001b[0m \u001b[1;33m=\u001b[0m \u001b[0mkwds\u001b[0m\u001b[1;33m[\u001b[0m\u001b[1;34m'has_index_names'\u001b[0m\u001b[1;33m]\u001b[0m\u001b[1;33m\u001b[0m\u001b[1;33m\u001b[0m\u001b[0m\n\u001b[0;32m    894\u001b[0m \u001b[1;33m\u001b[0m\u001b[0m\n\u001b[1;32m--> 895\u001b[1;33m         \u001b[0mself\u001b[0m\u001b[1;33m.\u001b[0m\u001b[0m_make_engine\u001b[0m\u001b[1;33m(\u001b[0m\u001b[0mself\u001b[0m\u001b[1;33m.\u001b[0m\u001b[0mengine\u001b[0m\u001b[1;33m)\u001b[0m\u001b[1;33m\u001b[0m\u001b[1;33m\u001b[0m\u001b[0m\n\u001b[0m\u001b[0;32m    896\u001b[0m \u001b[1;33m\u001b[0m\u001b[0m\n\u001b[0;32m    897\u001b[0m     \u001b[1;32mdef\u001b[0m \u001b[0mclose\u001b[0m\u001b[1;33m(\u001b[0m\u001b[0mself\u001b[0m\u001b[1;33m)\u001b[0m\u001b[1;33m:\u001b[0m\u001b[1;33m\u001b[0m\u001b[1;33m\u001b[0m\u001b[0m\n",
      "\u001b[1;32m~\\Anaconda3\\lib\\site-packages\\pandas\\io\\parsers.py\u001b[0m in \u001b[0;36m_make_engine\u001b[1;34m(self, engine)\u001b[0m\n\u001b[0;32m   1120\u001b[0m     \u001b[1;32mdef\u001b[0m \u001b[0m_make_engine\u001b[0m\u001b[1;33m(\u001b[0m\u001b[0mself\u001b[0m\u001b[1;33m,\u001b[0m \u001b[0mengine\u001b[0m\u001b[1;33m=\u001b[0m\u001b[1;34m'c'\u001b[0m\u001b[1;33m)\u001b[0m\u001b[1;33m:\u001b[0m\u001b[1;33m\u001b[0m\u001b[1;33m\u001b[0m\u001b[0m\n\u001b[0;32m   1121\u001b[0m         \u001b[1;32mif\u001b[0m \u001b[0mengine\u001b[0m \u001b[1;33m==\u001b[0m \u001b[1;34m'c'\u001b[0m\u001b[1;33m:\u001b[0m\u001b[1;33m\u001b[0m\u001b[1;33m\u001b[0m\u001b[0m\n\u001b[1;32m-> 1122\u001b[1;33m             \u001b[0mself\u001b[0m\u001b[1;33m.\u001b[0m\u001b[0m_engine\u001b[0m \u001b[1;33m=\u001b[0m \u001b[0mCParserWrapper\u001b[0m\u001b[1;33m(\u001b[0m\u001b[0mself\u001b[0m\u001b[1;33m.\u001b[0m\u001b[0mf\u001b[0m\u001b[1;33m,\u001b[0m \u001b[1;33m**\u001b[0m\u001b[0mself\u001b[0m\u001b[1;33m.\u001b[0m\u001b[0moptions\u001b[0m\u001b[1;33m)\u001b[0m\u001b[1;33m\u001b[0m\u001b[1;33m\u001b[0m\u001b[0m\n\u001b[0m\u001b[0;32m   1123\u001b[0m         \u001b[1;32melse\u001b[0m\u001b[1;33m:\u001b[0m\u001b[1;33m\u001b[0m\u001b[1;33m\u001b[0m\u001b[0m\n\u001b[0;32m   1124\u001b[0m             \u001b[1;32mif\u001b[0m \u001b[0mengine\u001b[0m \u001b[1;33m==\u001b[0m \u001b[1;34m'python'\u001b[0m\u001b[1;33m:\u001b[0m\u001b[1;33m\u001b[0m\u001b[1;33m\u001b[0m\u001b[0m\n",
      "\u001b[1;32m~\\Anaconda3\\lib\\site-packages\\pandas\\io\\parsers.py\u001b[0m in \u001b[0;36m__init__\u001b[1;34m(self, src, **kwds)\u001b[0m\n\u001b[0;32m   1851\u001b[0m         \u001b[0mkwds\u001b[0m\u001b[1;33m[\u001b[0m\u001b[1;34m'usecols'\u001b[0m\u001b[1;33m]\u001b[0m \u001b[1;33m=\u001b[0m \u001b[0mself\u001b[0m\u001b[1;33m.\u001b[0m\u001b[0musecols\u001b[0m\u001b[1;33m\u001b[0m\u001b[1;33m\u001b[0m\u001b[0m\n\u001b[0;32m   1852\u001b[0m \u001b[1;33m\u001b[0m\u001b[0m\n\u001b[1;32m-> 1853\u001b[1;33m         \u001b[0mself\u001b[0m\u001b[1;33m.\u001b[0m\u001b[0m_reader\u001b[0m \u001b[1;33m=\u001b[0m \u001b[0mparsers\u001b[0m\u001b[1;33m.\u001b[0m\u001b[0mTextReader\u001b[0m\u001b[1;33m(\u001b[0m\u001b[0msrc\u001b[0m\u001b[1;33m,\u001b[0m \u001b[1;33m**\u001b[0m\u001b[0mkwds\u001b[0m\u001b[1;33m)\u001b[0m\u001b[1;33m\u001b[0m\u001b[1;33m\u001b[0m\u001b[0m\n\u001b[0m\u001b[0;32m   1854\u001b[0m         \u001b[0mself\u001b[0m\u001b[1;33m.\u001b[0m\u001b[0munnamed_cols\u001b[0m \u001b[1;33m=\u001b[0m \u001b[0mself\u001b[0m\u001b[1;33m.\u001b[0m\u001b[0m_reader\u001b[0m\u001b[1;33m.\u001b[0m\u001b[0munnamed_cols\u001b[0m\u001b[1;33m\u001b[0m\u001b[1;33m\u001b[0m\u001b[0m\n\u001b[0;32m   1855\u001b[0m \u001b[1;33m\u001b[0m\u001b[0m\n",
      "\u001b[1;32mpandas/_libs/parsers.pyx\u001b[0m in \u001b[0;36mpandas._libs.parsers.TextReader.__cinit__\u001b[1;34m()\u001b[0m\n",
      "\u001b[1;32mpandas/_libs/parsers.pyx\u001b[0m in \u001b[0;36mpandas._libs.parsers.TextReader._setup_parser_source\u001b[1;34m()\u001b[0m\n",
      "\u001b[1;31mFileNotFoundError\u001b[0m: [Errno 2] File b'emp07.csv' does not exist: b'emp07.csv'"
     ]
    }
   ],
   "source": [
    "emp07 = pd.read_csv('emp07.csv', sep=';')\n",
    "emp08 = pd.read_csv('emp08.csv', sep=';')\n",
    "emp09 = pd.read_csv('emp09.csv', sep=';')\n",
    "emp10 = pd.read_csv('emp10.csv', sep=';')\n",
    "emp11 = pd.read_csv('emp11.csv', sep=';')\n",
    "emp12 = pd.read_csv('emp12.csv', sep=';')\n",
    "emp13 = pd.read_csv('emp13.csv', sep=';')\n",
    "emp14 = pd.read_csv('emp14.csv', sep=';')\n",
    "emp15 = pd.read_csv('emp15.csv', sep=';')\n",
    "emp16 = pd.read_csv('emp16.csv', sep=';')\n",
    "emp17 = pd.read_csv('emp17.csv', sep=';')\n",
    "emp18 = pd.read_csv('emp18.csv', sep=';')"
   ]
  },
  {
   "cell_type": "code",
   "execution_count": null,
   "metadata": {},
   "outputs": [],
   "source": [
    "#criação de uma coluna com o numero 1 para poder somar mais a frente\n",
    "emp07['empresas']=1\n",
    "emp08['empresas']=1\n",
    "emp09['empresas']=1\n",
    "emp10['empresas']=1\n",
    "emp11['empresas']=1\n",
    "emp12['empresas']=1\n",
    "emp13['empresas']=1\n",
    "emp14['empresas']=1\n",
    "emp15['empresas']=1\n",
    "emp16['empresas']=1\n",
    "emp17['empresas']=1\n",
    "emp18['empresas']=1"
   ]
  },
  {
   "cell_type": "code",
   "execution_count": null,
   "metadata": {},
   "outputs": [],
   "source": [
    "#soma das quantidades de empresas na paraiba\n",
    "pb2007soma = emp07['empresas'].sum()\n",
    "pb2008soma = emp08['empresas'].sum()\n",
    "pb2009soma = emp09['empresas'].sum()\n",
    "pb2010soma = emp10['empresas'].sum()\n",
    "pb2011soma = emp11['empresas'].sum()\n",
    "pb2012soma = emp12['empresas'].sum()\n",
    "pb2013soma = emp13['empresas'].sum()\n",
    "pb2014soma = emp14['empresas'].sum()\n",
    "pb2015soma = emp15['empresas'].sum()\n",
    "pb2016soma = emp16['empresas'].sum()\n",
    "pb2017soma = emp17['empresas'].sum()\n",
    "pb2018soma = emp18['empresas'].sum()"
   ]
  },
  {
   "cell_type": "code",
   "execution_count": null,
   "metadata": {},
   "outputs": [],
   "source": [
    "#criação de um objeto com todas as somas \n",
    "total_pb = [pb2007soma, pb2008soma, pb2009soma, pb2010soma, pb2011soma, pb2012soma, pb2013soma, pb2014soma, pb2015soma, pb2016soma, pb2017soma, pb2018soma]"
   ]
  },
  {
   "cell_type": "code",
   "execution_count": null,
   "metadata": {},
   "outputs": [],
   "source": [
    "#criação variavel com as datas de 207 até 2018\n",
    "ano = ['2007', '2008', '2009', '2010', '2011', '2012', '2013', '2014', '2015', '2016', '2017', '2018']"
   ]
  },
  {
   "cell_type": "code",
   "execution_count": null,
   "metadata": {},
   "outputs": [],
   "source": [
    "plt.subplots (figsize=(10,6))\n",
    "plt.plot (ano, total_pb, '-x')\n",
    "plt.title ('Gráfico x - Quantidade de empresas na Paraíba de 2007 a 2018', **title_font)\n",
    "plt.rcParams['font.family'] = 'times new roman'\n",
    "plt.grid()\n",
    "plt.xticks(rotation=45)\n",
    "\n",
    "plt.annotate ((pb2007soma), xy=(0, (pb2007soma)), ha='right', color='black')\n",
    "plt.annotate ((pb2008soma), xy=(1, (pb2008soma)), ha='right', color='black')\n",
    "plt.annotate ((pb2009soma), xy=(2, (pb2009soma)), ha='right', color='black')\n",
    "plt.annotate ((pb2010soma), xy=(3, (pb2010soma)), ha='right', color='black')\n",
    "plt.annotate ((pb2011soma), xy=(4, (pb2011soma)), ha='right', color='black')\n",
    "plt.annotate ((pb2012soma), xy=(5, (pb2012soma)), ha='right', color='black')\n",
    "plt.annotate ((pb2013soma), xy=(6, (pb2013soma)), ha='right', color='black')\n",
    "plt.annotate ((pb2014soma), xy=(7, (pb2014soma)), ha='right', color='black')\n",
    "plt.annotate ((pb2015soma), xy=(8, (pb2015soma)), ha='right', color='black')\n",
    "plt.annotate ((pb2016soma), xy=(9, (92000)), ha='left', color='black')\n",
    "plt.annotate ((pb2017soma), xy=(10, (pb2017soma)), ha='right', color='black')\n",
    "plt.annotate ((pb2018soma), xy=(11, (pb2018soma)), ha='right', color='black')\n",
    "\n",
    "\n",
    "plt.xlabel('ano', **ticks_font)\n",
    "plt.ylabel('milhares', **ticks_font)\n",
    "plt.rcParams['xtick.labelsize'] = 8\n",
    "plt.rcParams['ytick.labelsize'] = 12\n",
    "plt.annotate('Fonte: Elaboração própria de dados extrados da RAIS (2020).', xy=(25, 2), xycoords='figure pixels', **legenda)\n",
    "#plt.savefig ('grafico5.png')\n",
    "plt.show"
   ]
  },
  {
   "cell_type": "code",
   "execution_count": null,
   "metadata": {},
   "outputs": [],
   "source": [
    "#crescimento de 2007 a 2018\n",
    "crescimentototal = pb2018soma - pb2007soma\n",
    "crescimentototal / pb2007soma"
   ]
  },
  {
   "cell_type": "code",
   "execution_count": null,
   "metadata": {},
   "outputs": [],
   "source": [
    "#crescimento durante periodo da crise\n",
    "crescimentocrise = pb2016soma - pb2015soma\n",
    "crescimentocrise / pb2015soma"
   ]
  },
  {
   "cell_type": "code",
   "execution_count": null,
   "metadata": {},
   "outputs": [],
   "source": [
    "#crescimento pós crise\n",
    "crescimentocrise1 = pb2018soma - pb2017soma\n",
    "crescimentocrise1 / pb2017soma"
   ]
  },
  {
   "cell_type": "code",
   "execution_count": null,
   "metadata": {},
   "outputs": [],
   "source": [
    "#separação dos dados das empresas do setor da industria\n",
    "ind_2007 = emp07.loc[(emp07['CNAE 2.0 Classe'] >= 5000) & (emp07['CNAE 2.0 Classe'] <= 34000)]\n",
    "ind_2008 = emp08.loc[(emp08['CNAE 2.0 Classe'] >= 5000) & (emp08['CNAE 2.0 Classe'] <= 34000)]\n",
    "ind_2009 = emp09.loc[(emp09['CNAE 2.0 Classe'] >= 5000) & (emp09['CNAE 2.0 Classe'] <= 34000)]\n",
    "ind_2010 = emp10.loc[(emp10['CNAE 2.0 Classe'] >= 5000) & (emp10['CNAE 2.0 Classe'] <= 34000)]\n",
    "ind_2011 = emp11.loc[(emp11['CNAE 2.0 Classe'] >= 5000) & (emp11['CNAE 2.0 Classe'] <= 34000)]\n",
    "ind_2012 = emp12.loc[(emp12['CNAE 2.0 Classe'] >= 5000) & (emp12['CNAE 2.0 Classe'] <= 34000)]\n",
    "ind_2013 = emp13.loc[(emp13['CNAE 2.0 Classe'] >= 5000) & (emp13['CNAE 2.0 Classe'] <= 34000)]\n",
    "ind_2014 = emp14.loc[(emp14['CNAE 2.0 Classe'] >= 5000) & (emp14['CNAE 2.0 Classe'] <= 34000)]\n",
    "ind_2015 = emp15.loc[(emp15['CNAE 2.0 Classe'] >= 5000) & (emp15['CNAE 2.0 Classe'] <= 34000)]\n",
    "ind_2016 = emp16.loc[(emp16['CNAE 2.0 Classe'] >= 5000) & (emp16['CNAE 2.0 Classe'] <= 34000)]\n",
    "ind_2017 = emp17.loc[(emp17['CNAE 2.0 Classe'] >= 5000) & (emp17['CNAE 2.0 Classe'] <= 34000)]\n",
    "ind_2018 = emp18.loc[(emp18['CNAE 2.0 Classe'] >= 5000) & (emp18['CNAE 2.0 Classe'] <= 34000)]"
   ]
  },
  {
   "cell_type": "code",
   "execution_count": null,
   "metadata": {},
   "outputs": [],
   "source": [
    "#separação dos dados do comercio \n",
    "cor_2007 = emp07.loc[(emp07['CNAE 2.0 Classe'] >= 34001)]\n",
    "cor_2008 = emp08.loc[(emp08['CNAE 2.0 Classe'] >= 34001)]\n",
    "cor_2009 = emp09.loc[(emp09['CNAE 2.0 Classe'] >= 34001)]\n",
    "cor_2010 = emp10.loc[(emp10['CNAE 2.0 Classe'] >= 34001)]\n",
    "cor_2011 = emp11.loc[(emp11['CNAE 2.0 Classe'] >= 34001)]\n",
    "cor_2012 = emp12.loc[(emp12['CNAE 2.0 Classe'] >= 34001)]\n",
    "cor_2013 = emp13.loc[(emp13['CNAE 2.0 Classe'] >= 34001)]\n",
    "cor_2014 = emp14.loc[(emp14['CNAE 2.0 Classe'] >= 34001)]\n",
    "cor_2015 = emp15.loc[(emp15['CNAE 2.0 Classe'] >= 34001)]\n",
    "cor_2016 = emp16.loc[(emp16['CNAE 2.0 Classe'] >= 34001)]\n",
    "cor_2017 = emp17.loc[(emp17['CNAE 2.0 Classe'] >= 34001)]\n",
    "cor_2018 = emp18.loc[(emp18['CNAE 2.0 Classe'] >= 34001)]"
   ]
  },
  {
   "cell_type": "code",
   "execution_count": null,
   "metadata": {},
   "outputs": [],
   "source": [
    "#separação dos dados da agricultura\n",
    "agr07 = emp07.loc[(emp07['CNAE 2.0 Classe'] < 5000)]\n",
    "agr08 = emp08.loc[(emp08['CNAE 2.0 Classe'] < 5000)]\n",
    "agr09 = emp09.loc[(emp09['CNAE 2.0 Classe'] < 5000)]\n",
    "agr10 = emp10.loc[(emp10['CNAE 2.0 Classe'] < 5000)]\n",
    "agr11 = emp11.loc[(emp11['CNAE 2.0 Classe'] < 5000)]\n",
    "agr12 = emp12.loc[(emp12['CNAE 2.0 Classe'] < 5000)]\n",
    "agr13 = emp13.loc[(emp13['CNAE 2.0 Classe'] < 5000)]\n",
    "agr14 = emp14.loc[(emp14['CNAE 2.0 Classe'] < 5000)]\n",
    "agr15 = emp15.loc[(emp15['CNAE 2.0 Classe'] < 5000)]\n",
    "agr16 = emp16.loc[(emp16['CNAE 2.0 Classe'] < 5000)]\n",
    "agr17 = emp17.loc[(emp17['CNAE 2.0 Classe'] < 5000)]\n",
    "agr18 = emp18.loc[(emp18['CNAE 2.0 Classe'] < 5000)]"
   ]
  },
  {
   "cell_type": "code",
   "execution_count": null,
   "metadata": {},
   "outputs": [],
   "source": [
    "#soma das empresas da agricultura\n",
    "agrsoma07 = agr07['empresas'].sum()\n",
    "agrsoma08 = agr08['empresas'].sum()\n",
    "agrsoma09 = agr09['empresas'].sum()\n",
    "agrsoma10 = agr10['empresas'].sum()\n",
    "agrsoma11 = agr11['empresas'].sum()\n",
    "agrsoma12 = agr12['empresas'].sum()\n",
    "agrsoma13 = agr13['empresas'].sum()\n",
    "agrsoma14 = agr14['empresas'].sum()\n",
    "agrsoma15 = agr15['empresas'].sum()\n",
    "agrsoma16 = agr16['empresas'].sum()\n",
    "agrsoma17 = agr17['empresas'].sum()\n",
    "agrsoma18 = agr18['empresas'].sum()"
   ]
  },
  {
   "cell_type": "code",
   "execution_count": null,
   "metadata": {},
   "outputs": [],
   "source": [
    "#soma das empresas da industria\n",
    "indsoma07 = ind_2007['empresas'].sum()\n",
    "indsoma08 = ind_2008['empresas'].sum()\n",
    "indsoma09 = ind_2009['empresas'].sum()\n",
    "indsoma10 = ind_2010['empresas'].sum()\n",
    "indsoma11 = ind_2011['empresas'].sum()\n",
    "indsoma12 = ind_2012['empresas'].sum()\n",
    "indsoma13 = ind_2013['empresas'].sum()\n",
    "indsoma14 = ind_2014['empresas'].sum()\n",
    "indsoma15 = ind_2015['empresas'].sum()\n",
    "indsoma16 = ind_2016['empresas'].sum()\n",
    "indsoma17 = ind_2017['empresas'].sum()\n",
    "indsoma18 = ind_2018['empresas'].sum()"
   ]
  },
  {
   "cell_type": "code",
   "execution_count": null,
   "metadata": {},
   "outputs": [],
   "source": [
    "#variacao das empresas do setor da industria\n",
    "var_ind_01 = ((indsoma08-indsoma07)/indsoma07).round(4)\n",
    "var_ind_02 = ((indsoma09-indsoma08)/indsoma08).round(4)\n",
    "var_ind_03 = ((indsoma10-indsoma09)/indsoma09).round(4)\n",
    "var_ind_04 = ((indsoma11-indsoma10)/indsoma10).round(4)\n",
    "var_ind_05 = ((indsoma12-indsoma11)/indsoma11).round(4)\n",
    "var_ind_06 = ((indsoma13-indsoma12)/indsoma12).round(4)\n",
    "var_ind_07 = ((indsoma14-indsoma13)/indsoma13).round(4)\n",
    "var_ind_08 = ((indsoma15-indsoma14)/indsoma14).round(4)\n",
    "var_ind_09 = ((indsoma16-indsoma15)/indsoma15).round(4)\n",
    "var_ind_10 = ((indsoma17-indsoma16)/indsoma16).round(4)\n",
    "var_ind_11 = ((indsoma18-indsoma17)/indsoma17).round(4)"
   ]
  },
  {
   "cell_type": "code",
   "execution_count": null,
   "metadata": {},
   "outputs": [],
   "source": [
    "#agregado das variacoes das empresas da industria\n",
    "graf_var_ind = [var_ind_01, var_ind_02, var_ind_03, var_ind_04, var_ind_05, var_ind_06, var_ind_07, var_ind_08, var_ind_09, var_ind_10, var_ind_11]"
   ]
  },
  {
   "cell_type": "code",
   "execution_count": null,
   "metadata": {},
   "outputs": [],
   "source": [
    "#soma das empresas do comércio\n",
    "corsoma07 = cor_2007['empresas'].sum()\n",
    "corsoma08 = cor_2008['empresas'].sum()\n",
    "corsoma09 = cor_2009['empresas'].sum()\n",
    "corsoma10 = cor_2010['empresas'].sum()\n",
    "corsoma11 = cor_2011['empresas'].sum()\n",
    "corsoma12 = cor_2012['empresas'].sum()\n",
    "corsoma13 = cor_2013['empresas'].sum()\n",
    "corsoma14 = cor_2014['empresas'].sum()\n",
    "corsoma15 = cor_2015['empresas'].sum()\n",
    "corsoma16 = cor_2016['empresas'].sum()\n",
    "corsoma17 = cor_2017['empresas'].sum()\n",
    "corsoma18 = cor_2018['empresas'].sum()"
   ]
  },
  {
   "cell_type": "code",
   "execution_count": null,
   "metadata": {},
   "outputs": [],
   "source": [
    "#variação das empresas do comercio\n",
    "var_cor_01 = ((corsoma08-corsoma07)/corsoma07).round(4)\n",
    "var_cor_02 = ((corsoma09-corsoma08)/corsoma08).round(4)\n",
    "var_cor_03 = ((corsoma10-corsoma09)/corsoma09).round(4)\n",
    "var_cor_04 = ((corsoma11-corsoma10)/corsoma10).round(4)\n",
    "var_cor_05 = ((corsoma12-corsoma11)/corsoma11).round(4)\n",
    "var_cor_06 = ((corsoma13-corsoma12)/corsoma12).round(4)\n",
    "var_cor_07 = ((corsoma14-corsoma13)/corsoma13).round(4)\n",
    "var_cor_08 = ((corsoma15-corsoma14)/corsoma14).round(4)\n",
    "var_cor_09 = ((corsoma16-corsoma15)/corsoma15).round(4)\n",
    "var_cor_10 = ((corsoma17-corsoma16)/corsoma16).round(4)\n",
    "var_cor_11 = ((corsoma18-corsoma17)/corsoma17).round(4)"
   ]
  },
  {
   "cell_type": "code",
   "execution_count": null,
   "metadata": {},
   "outputs": [],
   "source": [
    "#variação das empresas do setor agricola\n",
    "var_agr_01 = ((agrsoma08-agrsoma07)/agrsoma07).round(4)\n",
    "var_agr_02 = ((agrsoma09-agrsoma08)/agrsoma08).round(4)\n",
    "var_agr_03 = ((agrsoma10-agrsoma09)/agrsoma09).round(4)\n",
    "var_agr_04 = ((agrsoma11-agrsoma10)/agrsoma10).round(4)\n",
    "var_agr_05 = ((agrsoma12-agrsoma11)/agrsoma11).round(4)\n",
    "var_agr_06 = ((agrsoma13-agrsoma12)/agrsoma12).round(4)\n",
    "var_agr_07 = ((agrsoma14-agrsoma13)/agrsoma13).round(4)\n",
    "var_agr_08 = ((agrsoma15-agrsoma14)/agrsoma14).round(4)\n",
    "var_agr_09 = ((agrsoma16-agrsoma15)/agrsoma15).round(4)\n",
    "var_agr_10 = ((agrsoma17-agrsoma16)/agrsoma16).round(4)\n",
    "var_agr_11 = ((agrsoma18-agrsoma17)/agrsoma17).round(4)"
   ]
  },
  {
   "cell_type": "code",
   "execution_count": null,
   "metadata": {},
   "outputs": [],
   "source": [
    "#agregado das variacoes das empresas do setor agricola\n",
    "graf_var_agr = [var_agr_01, var_agr_02, var_agr_03, var_agr_04, var_agr_05, var_agr_06, var_agr_07, var_agr_08, var_agr_09, var_agr_10, var_agr_11]"
   ]
  },
  {
   "cell_type": "code",
   "execution_count": null,
   "metadata": {},
   "outputs": [],
   "source": [
    "#agregado das variações das empresas do setor do comércio\n",
    "graf_var_cor = [var_cor_01, var_cor_02, var_cor_03, var_cor_04, var_cor_05, var_cor_06, var_cor_07, var_cor_08, var_cor_09, var_cor_10, var_cor_11]"
   ]
  },
  {
   "cell_type": "code",
   "execution_count": null,
   "metadata": {},
   "outputs": [],
   "source": [
    "#variação das empresas na paraíba\n",
    "var01 = ((pb2008soma-pb2007soma)/pb2008soma).round(4)\n",
    "var02 = ((pb2009soma-pb2008soma)/pb2008soma).round(4)\n",
    "var03 = ((pb2010soma-pb2009soma)/pb2009soma).round(4)\n",
    "var04 = ((pb2011soma-pb2010soma)/pb2010soma).round(4)\n",
    "var05 = ((pb2012soma-pb2011soma)/pb2011soma).round(4)\n",
    "var06 = ((pb2013soma-pb2012soma)/pb2012soma).round(4)\n",
    "var07 = ((pb2014soma-pb2013soma)/pb2013soma).round(4)\n",
    "var08 = ((pb2015soma-pb2014soma)/pb2014soma).round(4)\n",
    "var09 = ((pb2016soma-pb2015soma)/pb2015soma).round(4)\n",
    "var10 = ((pb2017soma-pb2016soma)/pb2016soma).round(4)\n",
    "var11 = ((pb2018soma-pb2017soma)/pb2017soma).round(4)"
   ]
  },
  {
   "cell_type": "code",
   "execution_count": null,
   "metadata": {},
   "outputs": [],
   "source": [
    "#agregado da variação\n",
    "graf_var = [var01, var02, var03, var04, var05, var06, var07, var08, var09, var10, var11]"
   ]
  },
  {
   "cell_type": "code",
   "execution_count": null,
   "metadata": {},
   "outputs": [],
   "source": [
    "#agregado industria\n",
    "grupoind = [indsoma07, indsoma08, indsoma09, indsoma10, indsoma11, indsoma12, indsoma13, indsoma14, indsoma15, indsoma16, indsoma17, indsoma18]"
   ]
  },
  {
   "cell_type": "code",
   "execution_count": null,
   "metadata": {},
   "outputs": [],
   "source": [
    "#agregado comercio\n",
    "grupocor = [corsoma07, corsoma08, corsoma09, corsoma10, corsoma11, corsoma12, corsoma13, corsoma14, corsoma15, corsoma16, corsoma17, corsoma18]"
   ]
  },
  {
   "cell_type": "code",
   "execution_count": null,
   "metadata": {},
   "outputs": [],
   "source": [
    "#objeto por ano\n",
    "ano_var = ['2008', '2009', '2010', '2011', '2012', '2013', '2014', '2015', '2016', '2017', '2018']"
   ]
  },
  {
   "cell_type": "code",
   "execution_count": null,
   "metadata": {},
   "outputs": [],
   "source": [
    "plt.subplots (figsize=(10,6))\n",
    "plt.plot (ano_var, graf_var_ind, '-x', label='Industria')\n",
    "plt.plot (ano_var, graf_var_cor, '-o', label='Comércio e serviços')\n",
    "plt.plot (ano_var, graf_var_agr, '->', label='Agricultura')\n",
    "plt.title ('Gráfico x - Quantidade de empresas por setores na Paraíba de 2008 a 2018', **title_font)\n",
    "plt.rcParams['font.family'] = 'times new roman'\n",
    "plt.grid()\n",
    "plt.xticks(rotation=45)\n",
    "\n",
    "plt.legend()\n",
    "plt.xlabel('ano', **ticks_font)\n",
    "plt.ylabel('milhares', **ticks_font)\n",
    "plt.rcParams['xtick.labelsize'] = 8\n",
    "plt.rcParams['ytick.labelsize'] = 12\n",
    "plt.annotate('Fonte: Elaboração própria de dados extrados da RAIS (2020).', xy=(25, 2), xycoords='figure pixels', **legenda)\n",
    "#plt.savefig ('grafico5.png')\n",
    "plt.show"
   ]
  },
  {
   "cell_type": "code",
   "execution_count": null,
   "metadata": {},
   "outputs": [],
   "source": [
    "#valores das variações para serem colocados no gráfico\n",
    "var_por = ['-6%', '-4%', '-2%', '0', '2%', '4%', '6%', '8%', '10%']"
   ]
  },
  {
   "cell_type": "code",
   "execution_count": null,
   "metadata": {},
   "outputs": [],
   "source": [
    "width = 0.30  \n",
    "\n",
    "plt.figure(figsize=(10,7))\n",
    "\n",
    "r1 = np.arange(len(graf_var_ind))\n",
    "r2 = [x + width for x in r1]\n",
    "r3 = [x + width for x in r2]\n",
    "\n",
    "plt.bar (r1, graf_var_ind, width=width, label='Industria')\n",
    "plt.bar (r2, graf_var_cor, width=width, label='Comércio e Serviços')\n",
    "plt.bar (r3, graf_var_agr, width=width, label='Agricultura')\n",
    "\n",
    "plt.rcParams['xtick.labelsize'] = 11\n",
    "plt.rcParams['ytick.labelsize'] = 11\n",
    "\n",
    "\n",
    "plt.xlabel('anos', **ticks_font)\n",
    "plt.xticks([r + width for r in range(len(graf_var_ind))], ano_var, **ticks_font)\n",
    "plt.yticks ([-0.06, -0.04, -0.02, 0, 0.02, 0.04, 0.06, 0.08, 0.10], var_por, **ticks_font)\n",
    "plt.ylabel('Porcentagem', **ticks_font)\n",
    "plt.title('Gráfico 7 - Porcentagem da variação de empresas por setores na paraíba\\n de 2008 até 2018', **title_font)\n",
    "plt.axhline(0, color=\"k\", clip_on=False)\n",
    "plt.annotate('Fonte: Elaboração própria de dados extrados da RAIS(2020).', xy=(25, 2), xycoords='figure pixels', **legenda)\n",
    "plt.legend()\n",
    "plt.savefig ('grafico6.png')\n",
    "plt.show()"
   ]
  },
  {
   "cell_type": "code",
   "execution_count": null,
   "metadata": {},
   "outputs": [],
   "source": [
    "#empresas por cidades paraibanas\n",
    "jp07emp = emp07.loc[emp07['Município'] == 250750]\n",
    "jp18emp = emp18.loc[emp18['Município'] == 250750]\n",
    "cg07emp = emp07.loc[emp07['Município'] == 250400]\n",
    "cg18emp = emp18.loc[emp18['Município'] == 250400]\n",
    "pt07emp = emp07.loc[emp07['Município'] == 251080]\n",
    "pt18emp = emp18.loc[emp18['Município'] == 251080]"
   ]
  },
  {
   "cell_type": "code",
   "execution_count": null,
   "metadata": {},
   "outputs": [],
   "source": [
    "#soma das empresas por cidades paraibanas\n",
    "jp07soma = jp07emp['empresas'].sum()\n",
    "jp18soma = jp18emp['empresas'].sum()\n",
    "cg07soma = cg07emp['empresas'].sum()\n",
    "cg18soma = cg18emp['empresas'].sum()\n",
    "pt07soma = pt07emp['empresas'].sum()\n",
    "pt18soma = pt18emp['empresas'].sum()"
   ]
  },
  {
   "cell_type": "code",
   "execution_count": null,
   "metadata": {},
   "outputs": [],
   "source": [
    "#soma das empresas do resto do estado\n",
    "resto_estado07 = pb2007soma - (jp07soma + cg07soma + pt07soma)\n",
    "resto_estado18 = pb2018soma - (jp18soma + cg18soma + pt18soma)"
   ]
  },
  {
   "cell_type": "code",
   "execution_count": null,
   "metadata": {},
   "outputs": [],
   "source": [
    "#porcentagem das cidades em relacao a paraiba de 2007 até 2018\n",
    "merjp07 = (jp07soma/pb2007soma).round(4)*100\n",
    "merjp18 = (jp18soma/pb2018soma).round(4)*100\n",
    "mercg07 = (cg07soma/pb2007soma).round(4)*100\n",
    "mercg18 = (cg18soma/pb2018soma).round(4)*100\n",
    "merpt07 = (pt07soma/pb2007soma).round(4)*100\n",
    "merpt18 = (pt18soma/pb2018soma).round(4)*100\n",
    "merind07 = (indsoma07/pb2007soma).round(4)*100\n",
    "merind18 = (indsoma18/pb2018soma).round(4)*100\n",
    "mercor07 = (corsoma07/pb2007soma).round(4)*100\n",
    "mercor18 = (corsoma18/pb2018soma).round(4)*100\n",
    "meragr07 = (agrsoma07/pb2007soma).round(4)*100\n",
    "meragr18 = (agrsoma18/pb2018soma).round(4)*100\n",
    "merres07 = (resto_estado07/pb2007soma).round(4)*100\n",
    "merres18 = (resto_estado18/pb2018soma).round(4)*100"
   ]
  },
  {
   "cell_type": "code",
   "execution_count": null,
   "metadata": {},
   "outputs": [],
   "source": [
    "#tabela com os resultados das empresas por cidades\n",
    "serie1 = pd.Series ({'': 'João Pessoa', '2007': jp07soma, '2018': jp18soma, 'Variação': ((jp18soma-jp07soma)/jp07soma).round(4), 'Tamanho do mercado em 2007': merjp07, 'Tamanho do mercado em 2018': merjp18, 'Variação tamanho do mercado': (merjp18-merjp07).round(2)})\n",
    "serie2 = pd.Series ({'': 'Campina Grande','2007': cg07soma, '2018': cg18soma, 'Variação': (cg18soma-cg07soma)/cg07soma, 'Tamanho do mercado em 2007': mercg07, 'Tamanho do mercado em 2018': mercg18, 'Variação tamanho do mercado': mercg18-mercg07})\n",
    "serie3 = pd.Series ({'': 'Patos','2007': pt07soma, '2018': pt18soma, 'Variação': (pt18soma-pt07soma)/pt07soma, 'Tamanho do mercado em 2007': merpt07, 'Tamanho do mercado em 2018': merpt18, 'Variação tamanho do mercado': merpt18-merpt07})\n",
    "serie4 = pd.Series ({'': 'Industria','2007': indsoma07, '2018': indsoma18, 'Variação': (indsoma18-indsoma07)/indsoma07, 'Tamanho do mercado em 2007': merind07, 'Tamanho do mercado em 2018': merind18, 'Variação tamanho do mercado': merind18-merind07})\n",
    "serie5 = pd.Series ({'': 'Agricultura','2007': agrsoma07, '2018': agrsoma18, 'Variação': (agrsoma18-agrsoma07)/agrsoma07, 'Tamanho do mercado em 2007': meragr07, 'Tamanho do mercado em 2018': meragr18, 'Variação tamanho do mercado': meragr18-meragr07})\n",
    "\n",
    "serie6 = pd.Series ({'': 'Comércio e Serviços','2007': corsoma07, '2018': corsoma18, 'Variação': (corsoma18-corsoma07)/corsoma07, 'Tamanho do mercado em 2007': mercor07, 'Tamanho do mercado em 2018': mercor18, 'Variação tamanho do mercado': mercor18-mercor07})\n",
    "serie7 = pd.Series ({'': 'Total empresas','2007': pb2007soma, '2018': pb2018soma, 'Variação': (pb2018soma-pb2007soma)/pb2007soma, 'Tamanho do mercado em 2007': '100%', 'Tamanho do mercado em 2018': '100%', 'Variação tamanho do mercado': '100%'})\n",
    "serie8 = pd.Series ({'': 'Resto do estado','2007': resto_estado07, '2018': resto_estado18, 'Variação': (resto_estado18-resto_estado07)/resto_estado07, 'Tamanho do mercado em 2007': merres07, 'Tamanho do mercado em 2018': merres18, 'Variação tamanho do mercado':merres18-merres07})\n"
   ]
  },
  {
   "cell_type": "code",
   "execution_count": null,
   "metadata": {},
   "outputs": [],
   "source": [
    "#transformacao das tabelas em um objeto\n",
    "tabela1 = pd.DataFrame([serie1, serie2, serie3, serie4, serie5, serie6, serie7, serie8])"
   ]
  },
  {
   "cell_type": "code",
   "execution_count": null,
   "metadata": {},
   "outputs": [],
   "source": [
    "#exportação dos dados para excel\n",
    "tabela1.to_excel(\"tabela1.xls\")"
   ]
  },
  {
   "cell_type": "code",
   "execution_count": 61,
   "metadata": {},
   "outputs": [],
   "source": [
    "#variaçãod o pib da paraiba\n",
    "varpibpb = pd.read_csv('varpibpb.csv', sep=';')"
   ]
  },
  {
   "cell_type": "code",
   "execution_count": 62,
   "metadata": {},
   "outputs": [],
   "source": [
    "#transformação da coluna pb em um objeto\n",
    "pibpbvar = varpibpb['pb']"
   ]
  },
  {
   "cell_type": "code",
   "execution_count": 64,
   "metadata": {},
   "outputs": [],
   "source": [
    "#separação dos dados por ano\n",
    "pb2007v = varpibpb['pb'].loc[0]\n",
    "pb2008v = varpibpb['pb'].loc[1]\n",
    "pb2009v = varpibpb['pb'].loc[2]\n",
    "pb2010v = varpibpb['pb'].loc[3]\n",
    "pb2011v = varpibpb['pb'].loc[4]\n",
    "pb2012v = varpibpb['pb'].loc[5]\n",
    "pb2013v = varpibpb['pb'].loc[6]\n",
    "pb2014v = varpibpb['pb'].loc[7]\n",
    "pb2015v = varpibpb['pb'].loc[8]\n",
    "pb2016v = varpibpb['pb'].loc[9]\n",
    "pb2017v = varpibpb['pb'].loc[10]\n",
    "pb2018v = varpibpb['pb'].loc[11]"
   ]
  },
  {
   "cell_type": "code",
   "execution_count": 65,
   "metadata": {},
   "outputs": [],
   "source": [
    "#anos\n",
    "anopib = ['2007', '2008','2009', '2010', '2011', '2012', '2013', '2014', '2015', '2016', '2017', '2018']"
   ]
  },
  {
   "cell_type": "code",
   "execution_count": 66,
   "metadata": {},
   "outputs": [],
   "source": [
    "#agregado da variação do pib\n",
    "pibpbvar = [pb2007v, pb2008v, pb2009v, pb2010v, pb2011v, pb2012v, pb2013v, pb2014v, pb2015v, pb2016v, pb2017v, pb2018v]"
   ]
  },
  {
   "cell_type": "code",
   "execution_count": 68,
   "metadata": {},
   "outputs": [],
   "source": [
    "#estilo do gráfico da biblioteca seaborn\n",
    "sns.set(style=\"white\", context=\"talk\")"
   ]
  },
  {
   "cell_type": "code",
   "execution_count": 71,
   "metadata": {},
   "outputs": [
    {
     "data": {
      "image/png": "[encoded data removed]",
      "text/plain": [
       "<Figure size 720x504 with 1 Axes>"
      ]
     },
     "metadata": {},
     "output_type": "display_data"
    }
   ],
   "source": [
    "plt.figure(figsize=(10, 7))\n",
    "graf = plt.bar (anopib, pibpbvar, label='Paraíba', color='green')\n",
    "#plt.title('Gráfico 6 - Variação PIB da Paraíba \\n de 2011 até 2017 (em porcentagem)', **title_font)\n",
    "#plt.axhline(0)\n",
    "plt.ylabel('Índice (%)', **ticks_font)\n",
    "plt.xlabel('Anos', **ticks_font)\n",
    "graf[8].set_color('red')\n",
    "graf[9].set_color('red')\n",
    "graf[10].set_color('red')\n",
    "plt.annotate ((pb2007v), xy=(-0.1, 2.4), ha='left', color='black', **legenda)\n",
    "plt.annotate ((pb2008v), xy=(0.9, 7),  ha='left', color='black', **legenda)\n",
    "plt.annotate ((pb2009v), xy=(1.9, 1.8),  ha='left', color='black', **legenda)\n",
    "plt.annotate ((pb2010v), xy=(2.9, 7.6 ), ha='left', color='black', **legenda)\n",
    "plt.annotate ((pb2011v), xy=(3.9, 5.9), ha='left', color='black', **legenda)\n",
    "plt.annotate ((pb2012v), xy=(4.9, 4.2),  ha='left', color='black', **legenda)\n",
    "plt.annotate ((pb2013v), xy=(5.9, 5.9),  ha='left', color='black', **legenda)\n",
    "plt.annotate ((pb2014v), xy=(6.9, 3 ), ha='left', color='black', **legenda)\n",
    "plt.annotate ((pb2015v), xy=(7.8, -3),  ha='left', color='black', **legenda)\n",
    "plt.annotate ((pb2016v), xy=(8.8, -3.4),  ha='left', color='black', **legenda)\n",
    "plt.annotate ((pb2017v), xy=(9.8, -0.4),  ha='left', color='black', **legenda)\n",
    "plt.annotate ((pb2018v), xy=(10.8, 1),  ha='left', color='black', **legenda)\n",
    "plt.savefig ('grafico6.png')\n",
    "plt.show()"
   ]
  },
  {
   "cell_type": "markdown",
   "metadata": {},
   "source": [
    "# CAPÍTULO 3"
   ]
  },
  {
   "cell_type": "code",
   "execution_count": 55,
   "metadata": {},
   "outputs": [],
   "source": [
    "#definações sobre setores da economia\n",
    "def setor_atividade(s):\n",
    "  if s < 500000:\n",
    "    return 'agricultura'\n",
    "  if s <= 3400000:\n",
    "    return 'industria'\n",
    "  if ((s >= 3400100) & (s <= 8411600)) & s > 8411600:\n",
    "    return 'comercio'\n",
    "  if s == 8411600:\n",
    "    return 'publico'\n",
    "  else:\n",
    "    return 'comercioservicos'"
   ]
  },
  {
   "cell_type": "code",
   "execution_count": 56,
   "metadata": {},
   "outputs": [],
   "source": [
    "#transformações sobre o formato de numeros\n",
    "df07['CNAE 2.0 Subclasse'] = df07['CNAE 2.0 Subclasse'].replace('00000-1', '000001')"
   ]
  },
  {
   "cell_type": "code",
   "execution_count": 57,
   "metadata": {},
   "outputs": [],
   "source": [
    "#trasnformação da coluna em float\n",
    "df07['CNAE 2.0 Subclasse'] = df07['CNAE 2.0 Subclasse'].astype(int)"
   ]
  },
  {
   "cell_type": "code",
   "execution_count": 58,
   "metadata": {},
   "outputs": [],
   "source": [
    "#aplicação dos setores nos dataframes\n",
    "df07 ['setores'] = df07['CNAE 2.0 Subclasse'].apply(setor_atividade)\n",
    "df18 ['setores'] = df18['CNAE 2.0 Subclasse'].apply(setor_atividade)"
   ]
  },
  {
   "cell_type": "code",
   "execution_count": 59,
   "metadata": {},
   "outputs": [],
   "source": [
    "#definações sobre o tamanho das empresas\n",
    "def tam_estb(s):\n",
    "#comércio\n",
    "    if (s['Tamanho Estabelecimento'] <= 3) & (s['setores'] == 'comercioservicos'):\n",
    "        return 'microempresa'\n",
    "    if (s['Tamanho Estabelecimento'] <= 5) & (s['setores'] == 'comercioservicos'):\n",
    "        return 'epp' \n",
    "    if (s['Tamanho Estabelecimento'] <= 6) & (s['setores'] == 'comercioservicos'):\n",
    "        return 'emp'\n",
    "    if (s['Tamanho Estabelecimento'] > 6) & (s['setores'] == 'comercioservicos'):\n",
    "        return 'egp'\n",
    "#industria\n",
    "    if (s['Tamanho Estabelecimento'] <= 4) & (s['setores'] == 'industria') | (s['setores'] == 'agricultura'):\n",
    "        return 'microempresa'\n",
    "    if (s['Tamanho Estabelecimento'] <= 6) & (s['setores'] == 'industria') | (s['setores'] == 'agricultura'):\n",
    "        return 'epp'\n",
    "    if (s['Tamanho Estabelecimento'] <= 8) & (s['setores'] == 'industria') | (s['setores'] == 'agricultura'):\n",
    "        return 'emp'\n",
    "    if (s['Tamanho Estabelecimento'] > 8) & (s['setores'] == 'industria') | (s['setores'] == 'agricultura'):\n",
    "        return 'egp'\n",
    "    else:\n",
    "        return 'S/C'"
   ]
  },
  {
   "cell_type": "code",
   "execution_count": 60,
   "metadata": {},
   "outputs": [],
   "source": [
    "#aplicação do tamanho das empresas no dataframe\n",
    "df07['tam_estab'] = df07.apply(tam_estb, axis=1)"
   ]
  },
  {
   "cell_type": "code",
   "execution_count": 61,
   "metadata": {},
   "outputs": [],
   "source": [
    "df18['tam_estab'] = df18.apply(tam_estb, axis=1)"
   ]
  },
  {
   "cell_type": "code",
   "execution_count": 62,
   "metadata": {},
   "outputs": [],
   "source": [
    "#definições sobre os cargos\n",
    "def cbo (s):\n",
    "  if s < 200000:\n",
    "    return 'dirigentes'\n",
    "  if s < 300000:\n",
    "    return 'pca'\n",
    "  if s > 300000:\n",
    "    return 'pnto'\n",
    "  else:\n",
    "    return 'outros'"
   ]
  },
  {
   "cell_type": "code",
   "execution_count": 63,
   "metadata": {},
   "outputs": [],
   "source": [
    "#definições sobre as cidades\n",
    "def cidades (s):\n",
    "  if s == 251080:\n",
    "    return 'Patos'\n",
    "  if s == 250750:\n",
    "    return 'João Pessoa'\n",
    "  if s == 250400:\n",
    "    return 'Campina Grande'\n",
    "  else:\n",
    "    return 'outros'"
   ]
  },
  {
   "cell_type": "code",
   "execution_count": 64,
   "metadata": {},
   "outputs": [],
   "source": [
    "#tratamento dos dados por raça\n",
    "df07['Raça Cor'] = df07['Raça Cor'].replace('{ñ', '-1')\n",
    "df08['Raça Cor'] = df07['Raça Cor'].replace('{ñ', '-1')\n",
    "df09['Raça Cor'] = df07['Raça Cor'].replace('{ñ', '-1')\n",
    "\n",
    "df07['Raça Cor'] = df07['Raça Cor'].astype(int)\n",
    "df08['Raça Cor'] = df07['Raça Cor'].astype(int)\n",
    "df09['Raça Cor'] = df07['Raça Cor'].astype(int)"
   ]
  },
  {
   "cell_type": "code",
   "execution_count": 65,
   "metadata": {},
   "outputs": [],
   "source": [
    "#definições sobre a cor dos trabalhandores\n",
    "def cor (s):\n",
    "  if s == 2:\n",
    "    return 1\n",
    "  if (s == 4) | (s == 8):\n",
    "    return 2\n",
    "  else:\n",
    "    return 0"
   ]
  },
  {
   "cell_type": "code",
   "execution_count": 66,
   "metadata": {},
   "outputs": [],
   "source": [
    "#substituir formato de alguns numeros\n",
    "df18 ['CBO Ocupação 2002'] = df18['CBO Ocupação 2002'].replace('0000-1','00001')"
   ]
  },
  {
   "cell_type": "code",
   "execution_count": 67,
   "metadata": {},
   "outputs": [],
   "source": [
    "#transformacao da coluna em inteiros\n",
    "df18 ['CBO Ocupação 2002'] = df18['CBO Ocupação 2002'].astype(int)"
   ]
  },
  {
   "cell_type": "code",
   "execution_count": 68,
   "metadata": {},
   "outputs": [],
   "source": [
    "#aplicacao do tipo de trabalho\n",
    "df07 ['cbo'] = df07['CBO Ocupação 2002'].apply(cbo)\n",
    "df18 ['cbo'] = df18['CBO Ocupação 2002'].apply(cbo)"
   ]
  },
  {
   "cell_type": "code",
   "execution_count": 69,
   "metadata": {},
   "outputs": [],
   "source": [
    "#aplicacao das cidades\n",
    "df07 ['cidade'] = df07['Município'].apply(cidades)\n",
    "df18 ['cidade'] = df18['Município'].apply(cidades)"
   ]
  },
  {
   "cell_type": "code",
   "execution_count": 70,
   "metadata": {},
   "outputs": [],
   "source": [
    "#aplicação das cores\n",
    "df07 ['cor'] = df07['Raça Cor'].apply(cor)\n",
    "df18 ['cor'] = df18['Raça Cor'].apply(cor)"
   ]
  },
  {
   "cell_type": "code",
   "execution_count": 71,
   "metadata": {},
   "outputs": [],
   "source": [
    "#separação por sexo masculino\n",
    "df18h = df18.loc[df18['Sexo Trabalhador'] == 1]\n",
    "df17h = df17.loc[df17['Sexo Trabalhador'] == 1]\n",
    "df16h = df16.loc[df16['Sexo Trabalhador'] == 1]\n",
    "df15h = df15.loc[df15['Sexo Trabalhador'] == 1]\n",
    "df14h = df14.loc[df14['Sexo Trabalhador'] == 1]\n",
    "df13h = df13.loc[df13['Sexo Trabalhador'] == 1]\n",
    "df12h = df12.loc[df12['Sexo Trabalhador'] == 1]\n",
    "df11h = df11.loc[df11['Sexo Trabalhador'] == 1]\n",
    "df10h = df10.loc[df10['Sexo Trabalhador'] == 1]\n",
    "df09h = df09.loc[df09['Sexo Trabalhador'] == 1]\n",
    "df08h = df08.loc[df08['Sexo Trabalhador'] == 1]\n",
    "df07h = df07.loc[df07['Sexo Trabalhador'] == 1]"
   ]
  },
  {
   "cell_type": "code",
   "execution_count": 72,
   "metadata": {},
   "outputs": [
    {
     "ename": "KeyError",
     "evalue": "MemoryError()",
     "output_type": "error",
     "traceback": [
      "\u001b[1;31m---------------------------------------------------------------------------\u001b[0m",
      "\u001b[1;31mMemoryError\u001b[0m                               Traceback (most recent call last)",
      "\u001b[1;32m~\\Anaconda3\\lib\\site-packages\\pandas\\core\\indexing.py\u001b[0m in \u001b[0;36m_getbool_axis\u001b[1;34m(self, key, axis)\u001b[0m\n\u001b[0;32m   1517\u001b[0m         \u001b[1;32mtry\u001b[0m\u001b[1;33m:\u001b[0m\u001b[1;33m\u001b[0m\u001b[1;33m\u001b[0m\u001b[0m\n\u001b[1;32m-> 1518\u001b[1;33m             \u001b[1;32mreturn\u001b[0m \u001b[0mself\u001b[0m\u001b[1;33m.\u001b[0m\u001b[0mobj\u001b[0m\u001b[1;33m.\u001b[0m\u001b[0m_take\u001b[0m\u001b[1;33m(\u001b[0m\u001b[0minds\u001b[0m\u001b[1;33m,\u001b[0m \u001b[0maxis\u001b[0m\u001b[1;33m=\u001b[0m\u001b[0maxis\u001b[0m\u001b[1;33m)\u001b[0m\u001b[1;33m\u001b[0m\u001b[1;33m\u001b[0m\u001b[0m\n\u001b[0m\u001b[0;32m   1519\u001b[0m         \u001b[1;32mexcept\u001b[0m \u001b[0mException\u001b[0m \u001b[1;32mas\u001b[0m \u001b[0mdetail\u001b[0m\u001b[1;33m:\u001b[0m\u001b[1;33m\u001b[0m\u001b[1;33m\u001b[0m\u001b[0m\n",
      "\u001b[1;32m~\\Anaconda3\\lib\\site-packages\\pandas\\core\\generic.py\u001b[0m in \u001b[0;36m_take\u001b[1;34m(self, indices, axis, is_copy)\u001b[0m\n\u001b[0;32m   3358\u001b[0m                                    \u001b[0maxis\u001b[0m\u001b[1;33m=\u001b[0m\u001b[0mself\u001b[0m\u001b[1;33m.\u001b[0m\u001b[0m_get_block_manager_axis\u001b[0m\u001b[1;33m(\u001b[0m\u001b[0maxis\u001b[0m\u001b[1;33m)\u001b[0m\u001b[1;33m,\u001b[0m\u001b[1;33m\u001b[0m\u001b[1;33m\u001b[0m\u001b[0m\n\u001b[1;32m-> 3359\u001b[1;33m                                    verify=True)\n\u001b[0m\u001b[0;32m   3360\u001b[0m         \u001b[0mresult\u001b[0m \u001b[1;33m=\u001b[0m \u001b[0mself\u001b[0m\u001b[1;33m.\u001b[0m\u001b[0m_constructor\u001b[0m\u001b[1;33m(\u001b[0m\u001b[0mnew_data\u001b[0m\u001b[1;33m)\u001b[0m\u001b[1;33m.\u001b[0m\u001b[0m__finalize__\u001b[0m\u001b[1;33m(\u001b[0m\u001b[0mself\u001b[0m\u001b[1;33m)\u001b[0m\u001b[1;33m\u001b[0m\u001b[1;33m\u001b[0m\u001b[0m\n",
      "\u001b[1;32m~\\Anaconda3\\lib\\site-packages\\pandas\\core\\internals\\managers.py\u001b[0m in \u001b[0;36mtake\u001b[1;34m(self, indexer, axis, verify, convert)\u001b[0m\n\u001b[0;32m   1349\u001b[0m         return self.reindex_indexer(new_axis=new_labels, indexer=indexer,\n\u001b[1;32m-> 1350\u001b[1;33m                                     axis=axis, allow_dups=True)\n\u001b[0m\u001b[0;32m   1351\u001b[0m \u001b[1;33m\u001b[0m\u001b[0m\n",
      "\u001b[1;32m~\\Anaconda3\\lib\\site-packages\\pandas\\core\\internals\\managers.py\u001b[0m in \u001b[0;36mreindex_indexer\u001b[1;34m(self, new_axis, indexer, axis, fill_value, allow_dups, copy)\u001b[0m\n\u001b[0;32m   1234\u001b[0m                 fill_value if fill_value is not None else blk.fill_value,))\n\u001b[1;32m-> 1235\u001b[1;33m                 for blk in self.blocks]\n\u001b[0m\u001b[0;32m   1236\u001b[0m \u001b[1;33m\u001b[0m\u001b[0m\n",
      "\u001b[1;32m~\\Anaconda3\\lib\\site-packages\\pandas\\core\\internals\\managers.py\u001b[0m in \u001b[0;36m<listcomp>\u001b[1;34m(.0)\u001b[0m\n\u001b[0;32m   1234\u001b[0m                 fill_value if fill_value is not None else blk.fill_value,))\n\u001b[1;32m-> 1235\u001b[1;33m                 for blk in self.blocks]\n\u001b[0m\u001b[0;32m   1236\u001b[0m \u001b[1;33m\u001b[0m\u001b[0m\n",
      "\u001b[1;32m~\\Anaconda3\\lib\\site-packages\\pandas\\core\\internals\\blocks.py\u001b[0m in \u001b[0;36mtake_nd\u001b[1;34m(self, indexer, axis, new_mgr_locs, fill_tuple)\u001b[0m\n\u001b[0;32m   1237\u001b[0m             new_values = algos.take_nd(values, indexer, axis=axis,\n\u001b[1;32m-> 1238\u001b[1;33m                                        allow_fill=True, fill_value=fill_value)\n\u001b[0m\u001b[0;32m   1239\u001b[0m \u001b[1;33m\u001b[0m\u001b[0m\n",
      "\u001b[1;32m~\\Anaconda3\\lib\\site-packages\\pandas\\core\\algorithms.py\u001b[0m in \u001b[0;36mtake_nd\u001b[1;34m(arr, indexer, axis, out, fill_value, mask_info, allow_fill)\u001b[0m\n\u001b[0;32m   1650\u001b[0m         \u001b[1;32melse\u001b[0m\u001b[1;33m:\u001b[0m\u001b[1;33m\u001b[0m\u001b[1;33m\u001b[0m\u001b[0m\n\u001b[1;32m-> 1651\u001b[1;33m             \u001b[0mout\u001b[0m \u001b[1;33m=\u001b[0m \u001b[0mnp\u001b[0m\u001b[1;33m.\u001b[0m\u001b[0mempty\u001b[0m\u001b[1;33m(\u001b[0m\u001b[0mout_shape\u001b[0m\u001b[1;33m,\u001b[0m \u001b[0mdtype\u001b[0m\u001b[1;33m=\u001b[0m\u001b[0mdtype\u001b[0m\u001b[1;33m)\u001b[0m\u001b[1;33m\u001b[0m\u001b[1;33m\u001b[0m\u001b[0m\n\u001b[0m\u001b[0;32m   1652\u001b[0m \u001b[1;33m\u001b[0m\u001b[0m\n",
      "\u001b[1;31mMemoryError\u001b[0m: ",
      "\nDuring handling of the above exception, another exception occurred:\n",
      "\u001b[1;31mKeyError\u001b[0m                                  Traceback (most recent call last)",
      "\u001b[1;32m<ipython-input-72-fc1110b6b569>\u001b[0m in \u001b[0;36m<module>\u001b[1;34m\u001b[0m\n\u001b[0;32m      4\u001b[0m \u001b[0mdf15m\u001b[0m \u001b[1;33m=\u001b[0m \u001b[0mdf15\u001b[0m\u001b[1;33m.\u001b[0m\u001b[0mloc\u001b[0m\u001b[1;33m[\u001b[0m\u001b[0mdf15\u001b[0m\u001b[1;33m[\u001b[0m\u001b[1;34m'Sexo Trabalhador'\u001b[0m\u001b[1;33m]\u001b[0m \u001b[1;33m==\u001b[0m \u001b[1;36m2\u001b[0m\u001b[1;33m]\u001b[0m\u001b[1;33m\u001b[0m\u001b[1;33m\u001b[0m\u001b[0m\n\u001b[0;32m      5\u001b[0m \u001b[0mdf14m\u001b[0m \u001b[1;33m=\u001b[0m \u001b[0mdf14\u001b[0m\u001b[1;33m.\u001b[0m\u001b[0mloc\u001b[0m\u001b[1;33m[\u001b[0m\u001b[0mdf14\u001b[0m\u001b[1;33m[\u001b[0m\u001b[1;34m'Sexo Trabalhador'\u001b[0m\u001b[1;33m]\u001b[0m \u001b[1;33m==\u001b[0m \u001b[1;36m2\u001b[0m\u001b[1;33m]\u001b[0m\u001b[1;33m\u001b[0m\u001b[1;33m\u001b[0m\u001b[0m\n\u001b[1;32m----> 6\u001b[1;33m \u001b[0mdf13m\u001b[0m \u001b[1;33m=\u001b[0m \u001b[0mdf13\u001b[0m\u001b[1;33m.\u001b[0m\u001b[0mloc\u001b[0m\u001b[1;33m[\u001b[0m\u001b[0mdf13\u001b[0m\u001b[1;33m[\u001b[0m\u001b[1;34m'Sexo Trabalhador'\u001b[0m\u001b[1;33m]\u001b[0m \u001b[1;33m==\u001b[0m \u001b[1;36m2\u001b[0m\u001b[1;33m]\u001b[0m\u001b[1;33m\u001b[0m\u001b[1;33m\u001b[0m\u001b[0m\n\u001b[0m\u001b[0;32m      7\u001b[0m \u001b[0mdf12m\u001b[0m \u001b[1;33m=\u001b[0m \u001b[0mdf12\u001b[0m\u001b[1;33m.\u001b[0m\u001b[0mloc\u001b[0m\u001b[1;33m[\u001b[0m\u001b[0mdf12\u001b[0m\u001b[1;33m[\u001b[0m\u001b[1;34m'Sexo Trabalhador'\u001b[0m\u001b[1;33m]\u001b[0m \u001b[1;33m==\u001b[0m \u001b[1;36m2\u001b[0m\u001b[1;33m]\u001b[0m\u001b[1;33m\u001b[0m\u001b[1;33m\u001b[0m\u001b[0m\n\u001b[0;32m      8\u001b[0m \u001b[0mdf11m\u001b[0m \u001b[1;33m=\u001b[0m \u001b[0mdf11\u001b[0m\u001b[1;33m.\u001b[0m\u001b[0mloc\u001b[0m\u001b[1;33m[\u001b[0m\u001b[0mdf11\u001b[0m\u001b[1;33m[\u001b[0m\u001b[1;34m'Sexo Trabalhador'\u001b[0m\u001b[1;33m]\u001b[0m \u001b[1;33m==\u001b[0m \u001b[1;36m2\u001b[0m\u001b[1;33m]\u001b[0m\u001b[1;33m\u001b[0m\u001b[1;33m\u001b[0m\u001b[0m\n",
      "\u001b[1;32m~\\Anaconda3\\lib\\site-packages\\pandas\\core\\indexing.py\u001b[0m in \u001b[0;36m__getitem__\u001b[1;34m(self, key)\u001b[0m\n\u001b[0;32m   1498\u001b[0m \u001b[1;33m\u001b[0m\u001b[0m\n\u001b[0;32m   1499\u001b[0m             \u001b[0mmaybe_callable\u001b[0m \u001b[1;33m=\u001b[0m \u001b[0mcom\u001b[0m\u001b[1;33m.\u001b[0m\u001b[0mapply_if_callable\u001b[0m\u001b[1;33m(\u001b[0m\u001b[0mkey\u001b[0m\u001b[1;33m,\u001b[0m \u001b[0mself\u001b[0m\u001b[1;33m.\u001b[0m\u001b[0mobj\u001b[0m\u001b[1;33m)\u001b[0m\u001b[1;33m\u001b[0m\u001b[1;33m\u001b[0m\u001b[0m\n\u001b[1;32m-> 1500\u001b[1;33m             \u001b[1;32mreturn\u001b[0m \u001b[0mself\u001b[0m\u001b[1;33m.\u001b[0m\u001b[0m_getitem_axis\u001b[0m\u001b[1;33m(\u001b[0m\u001b[0mmaybe_callable\u001b[0m\u001b[1;33m,\u001b[0m \u001b[0maxis\u001b[0m\u001b[1;33m=\u001b[0m\u001b[0maxis\u001b[0m\u001b[1;33m)\u001b[0m\u001b[1;33m\u001b[0m\u001b[1;33m\u001b[0m\u001b[0m\n\u001b[0m\u001b[0;32m   1501\u001b[0m \u001b[1;33m\u001b[0m\u001b[0m\n\u001b[0;32m   1502\u001b[0m     \u001b[1;32mdef\u001b[0m \u001b[0m_is_scalar_access\u001b[0m\u001b[1;33m(\u001b[0m\u001b[0mself\u001b[0m\u001b[1;33m,\u001b[0m \u001b[0mkey\u001b[0m\u001b[1;33m)\u001b[0m\u001b[1;33m:\u001b[0m\u001b[1;33m\u001b[0m\u001b[1;33m\u001b[0m\u001b[0m\n",
      "\u001b[1;32m~\\Anaconda3\\lib\\site-packages\\pandas\\core\\indexing.py\u001b[0m in \u001b[0;36m_getitem_axis\u001b[1;34m(self, key, axis)\u001b[0m\n\u001b[0;32m   1867\u001b[0m             \u001b[1;32mreturn\u001b[0m \u001b[0mself\u001b[0m\u001b[1;33m.\u001b[0m\u001b[0m_get_slice_axis\u001b[0m\u001b[1;33m(\u001b[0m\u001b[0mkey\u001b[0m\u001b[1;33m,\u001b[0m \u001b[0maxis\u001b[0m\u001b[1;33m=\u001b[0m\u001b[0maxis\u001b[0m\u001b[1;33m)\u001b[0m\u001b[1;33m\u001b[0m\u001b[1;33m\u001b[0m\u001b[0m\n\u001b[0;32m   1868\u001b[0m         \u001b[1;32melif\u001b[0m \u001b[0mcom\u001b[0m\u001b[1;33m.\u001b[0m\u001b[0mis_bool_indexer\u001b[0m\u001b[1;33m(\u001b[0m\u001b[0mkey\u001b[0m\u001b[1;33m)\u001b[0m\u001b[1;33m:\u001b[0m\u001b[1;33m\u001b[0m\u001b[1;33m\u001b[0m\u001b[0m\n\u001b[1;32m-> 1869\u001b[1;33m             \u001b[1;32mreturn\u001b[0m \u001b[0mself\u001b[0m\u001b[1;33m.\u001b[0m\u001b[0m_getbool_axis\u001b[0m\u001b[1;33m(\u001b[0m\u001b[0mkey\u001b[0m\u001b[1;33m,\u001b[0m \u001b[0maxis\u001b[0m\u001b[1;33m=\u001b[0m\u001b[0maxis\u001b[0m\u001b[1;33m)\u001b[0m\u001b[1;33m\u001b[0m\u001b[1;33m\u001b[0m\u001b[0m\n\u001b[0m\u001b[0;32m   1870\u001b[0m         \u001b[1;32melif\u001b[0m \u001b[0mis_list_like_indexer\u001b[0m\u001b[1;33m(\u001b[0m\u001b[0mkey\u001b[0m\u001b[1;33m)\u001b[0m\u001b[1;33m:\u001b[0m\u001b[1;33m\u001b[0m\u001b[1;33m\u001b[0m\u001b[0m\n\u001b[0;32m   1871\u001b[0m \u001b[1;33m\u001b[0m\u001b[0m\n",
      "\u001b[1;32m~\\Anaconda3\\lib\\site-packages\\pandas\\core\\indexing.py\u001b[0m in \u001b[0;36m_getbool_axis\u001b[1;34m(self, key, axis)\u001b[0m\n\u001b[0;32m   1518\u001b[0m             \u001b[1;32mreturn\u001b[0m \u001b[0mself\u001b[0m\u001b[1;33m.\u001b[0m\u001b[0mobj\u001b[0m\u001b[1;33m.\u001b[0m\u001b[0m_take\u001b[0m\u001b[1;33m(\u001b[0m\u001b[0minds\u001b[0m\u001b[1;33m,\u001b[0m \u001b[0maxis\u001b[0m\u001b[1;33m=\u001b[0m\u001b[0maxis\u001b[0m\u001b[1;33m)\u001b[0m\u001b[1;33m\u001b[0m\u001b[1;33m\u001b[0m\u001b[0m\n\u001b[0;32m   1519\u001b[0m         \u001b[1;32mexcept\u001b[0m \u001b[0mException\u001b[0m \u001b[1;32mas\u001b[0m \u001b[0mdetail\u001b[0m\u001b[1;33m:\u001b[0m\u001b[1;33m\u001b[0m\u001b[1;33m\u001b[0m\u001b[0m\n\u001b[1;32m-> 1520\u001b[1;33m             \u001b[1;32mraise\u001b[0m \u001b[0mself\u001b[0m\u001b[1;33m.\u001b[0m\u001b[0m_exception\u001b[0m\u001b[1;33m(\u001b[0m\u001b[0mdetail\u001b[0m\u001b[1;33m)\u001b[0m\u001b[1;33m\u001b[0m\u001b[1;33m\u001b[0m\u001b[0m\n\u001b[0m\u001b[0;32m   1521\u001b[0m \u001b[1;33m\u001b[0m\u001b[0m\n\u001b[0;32m   1522\u001b[0m     \u001b[1;32mdef\u001b[0m \u001b[0m_get_slice_axis\u001b[0m\u001b[1;33m(\u001b[0m\u001b[0mself\u001b[0m\u001b[1;33m,\u001b[0m \u001b[0mslice_obj\u001b[0m\u001b[1;33m,\u001b[0m \u001b[0maxis\u001b[0m\u001b[1;33m=\u001b[0m\u001b[1;32mNone\u001b[0m\u001b[1;33m)\u001b[0m\u001b[1;33m:\u001b[0m\u001b[1;33m\u001b[0m\u001b[1;33m\u001b[0m\u001b[0m\n",
      "\u001b[1;31mKeyError\u001b[0m: MemoryError()"
     ]
    }
   ],
   "source": [
    "#separação por sexo feminino\n",
    "df18m = df18.loc[df18['Sexo Trabalhador'] == 2]\n",
    "df17m = df17.loc[df17['Sexo Trabalhador'] == 2]\n",
    "df16m = df16.loc[df16['Sexo Trabalhador'] == 2]\n",
    "df15m = df15.loc[df15['Sexo Trabalhador'] == 2]\n",
    "df14m = df14.loc[df14['Sexo Trabalhador'] == 2]\n",
    "df13m = df13.loc[df13['Sexo Trabalhador'] == 2]\n",
    "df12m = df12.loc[df12['Sexo Trabalhador'] == 2]\n",
    "df11m = df11.loc[df11['Sexo Trabalhador'] == 2]\n",
    "df10m = df10.loc[df10['Sexo Trabalhador'] == 2]\n",
    "df09m = df09.loc[df09['Sexo Trabalhador'] == 2]\n",
    "df08m = df08.loc[df08['Sexo Trabalhador'] == 2]\n",
    "df07m = df07.loc[df07['Sexo Trabalhador'] == 2]"
   ]
  },
  {
   "cell_type": "code",
   "execution_count": null,
   "metadata": {},
   "outputs": [],
   "source": [
    "#quantidade de trabalhadores em geral por ano\n",
    "df18soma = df18['total'].sum()\n",
    "df17soma = df17['total'].sum()\n",
    "df16soma = df16['total'].sum()\n",
    "df15soma = df15['total'].sum()\n",
    "df14soma = df14['total'].sum()\n",
    "df13soma = df13['total'].sum()\n",
    "df12soma = df12['total'].sum()\n",
    "df11soma = df11['total'].sum()\n",
    "df10soma = df10['total'].sum()\n",
    "df09soma = df09['total'].sum()\n",
    "df08soma = df08['total'].sum()\n",
    "df07soma = df07['total'].sum()"
   ]
  },
  {
   "cell_type": "code",
   "execution_count": null,
   "metadata": {},
   "outputs": [],
   "source": [
    "#quantidade de trabalhadores mulheres por ano\n",
    "df18msoma = df18m['total'].sum()\n",
    "df17msoma = df17m['total'].sum()\n",
    "df16msoma = df16m['total'].sum()\n",
    "df15msoma = df15m['total'].sum()\n",
    "df14msoma = df14m['total'].sum()\n",
    "df13msoma = df13m['total'].sum()\n",
    "df12msoma = df12m['total'].sum()\n",
    "df11msoma = df11m['total'].sum()\n",
    "df10msoma = df10m['total'].sum()\n",
    "df09msoma = df09m['total'].sum()\n",
    "df08msoma = df08m['total'].sum()\n",
    "df07msoma = df07m['total'].sum()"
   ]
  },
  {
   "cell_type": "code",
   "execution_count": null,
   "metadata": {},
   "outputs": [],
   "source": [
    "#quantidade de trabalhadores homens por ano\n",
    "df18hsoma = df18h['total'].sum()\n",
    "df17hsoma = df17h['total'].sum()\n",
    "df16hsoma = df16h['total'].sum()\n",
    "df15hsoma = df15h['total'].sum()\n",
    "df14hsoma = df14h['total'].sum()\n",
    "df13hsoma = df13h['total'].sum()\n",
    "df12hsoma = df12h['total'].sum()\n",
    "df11hsoma = df11h['total'].sum()\n",
    "df10hsoma = df10h['total'].sum()\n",
    "df09hsoma = df09h['total'].sum()\n",
    "df08hsoma = df08h['total'].sum()\n",
    "df07hsoma = df07h['total'].sum()"
   ]
  },
  {
   "cell_type": "code",
   "execution_count": null,
   "metadata": {},
   "outputs": [],
   "source": [
    "#diferença entre homens e mulheres em 2007\n",
    "dif_h_m_07 = (1-(df07msoma/df07hsoma))"
   ]
  },
  {
   "cell_type": "code",
   "execution_count": null,
   "metadata": {},
   "outputs": [],
   "source": [
    "#diferença entre homens e mulheres em 2018\n",
    "dif_h_m_18 = (1-(df18msoma/df18hsoma))"
   ]
  },
  {
   "cell_type": "code",
   "execution_count": null,
   "metadata": {},
   "outputs": [],
   "source": [
    "#agregado da quantidade de trabalhadores por sexo feminino\n",
    "graf_somam = [df07msoma, df08msoma, df09msoma, df10msoma, df11msoma, df12msoma, df13msoma, df14msoma, df15msoma, df16msoma, df17msoma, df18msoma]"
   ]
  },
  {
   "cell_type": "code",
   "execution_count": null,
   "metadata": {},
   "outputs": [],
   "source": [
    "#agregado da quantidade de trabalhadores por sexo masculino\n",
    "graf_somah = [df07hsoma, df08hsoma, df09hsoma, df10hsoma, df11hsoma, df12hsoma, df13hsoma, df14hsoma, df15hsoma, df16hsoma, df17hsoma, df18hsoma]"
   ]
  },
  {
   "cell_type": "code",
   "execution_count": null,
   "metadata": {},
   "outputs": [],
   "source": [
    "#agregrado da soma de trabalhadores\n",
    "graf_soma = [df07soma, df08soma, df09soma, df10soma, df11soma, df12soma, df13soma, df14soma, df15soma, df16soma, df17soma, df18soma]"
   ]
  },
  {
   "cell_type": "code",
   "execution_count": null,
   "metadata": {},
   "outputs": [],
   "source": [
    "#anos \n",
    "anos = ['2007', '2008', '2009', '2010', '2011', '2012', '2013', '2014', '2015', '2016', '2017', '2018']"
   ]
  },
  {
   "cell_type": "code",
   "execution_count": null,
   "metadata": {},
   "outputs": [],
   "source": [
    "fig, ax = plt.subplots(figsize=(10, 7))\n",
    "\n",
    "plt.plot (anos, graf_soma, label='Paraíba', marker='*', color='green')\n",
    "plt.plot (anos, graf_somam, label='Mulheres', marker='o', color='blue')\n",
    "plt.plot (anos, graf_somah, label='Homens', marker='<', color='red')\n",
    "plt.title('Gráfico 8 - Quantidade de trabalhadores com carteira assinada \\n na Paraíba entre 2007 e 2018', **title_font)\n",
    "plt.ylabel('Em milhares', **ticks_font)\n",
    "\n",
    "#paraiba\n",
    "plt.annotate(df07soma,\n",
    "            xy=(105, 260), xycoords='figure points',**legenda,)\n",
    "             \n",
    "plt.annotate(df18soma,\n",
    "            xy=(600, 410), xycoords='figure points',**legenda)\n",
    "\n",
    "\n",
    "plt.rcParams['xtick.labelsize'] = 11\n",
    "plt.rcParams['ytick.labelsize'] = 11\n",
    "\n",
    "\n",
    "plt.xticks(**ticks_font)\n",
    "plt.yticks (**ticks_font)\n",
    "\n",
    "#inicio da depressão\n",
    "plt.annotate('Início da depressão',\n",
    "            xy=(440, 415), xycoords='figure points',**legenda, xytext=(370, 350),\n",
    "            arrowprops=dict(facecolor='black', shrink=0.05),\n",
    "            )\n",
    "\n",
    "#diferença entre homens e mulheres em 2007\n",
    "plt.annotate((f'diferença de {dif_h_m_07:.2%}'),\n",
    "            xy=(115, 105), xycoords='figure points',**legenda, xytext=(195, 130),\n",
    "            arrowprops=dict(facecolor='black', shrink=0.05),\n",
    "            )\n",
    "#diferença entre homens e mulheres em 2018\n",
    "plt.annotate((f'diferença de {dif_h_m_18:.2%}'),\n",
    "            xy=(635, 150), xycoords='figure points',**legenda, xytext=(460, 170),\n",
    "            arrowprops=dict(facecolor='black', shrink=0.05),\n",
    "            )\n",
    "\n",
    "plt.annotate('Fonte: Elaboração própria extraidos do RAIS (2020).', xy=(45, 5), xycoords='figure pixels', **legenda)\n",
    "plt.legend()\n",
    "plt.savefig ('grafico8.png')\n",
    "plt.show()"
   ]
  },
  {
   "cell_type": "code",
   "execution_count": null,
   "metadata": {},
   "outputs": [],
   "source": [
    "#crescimendo do mercado de trabalho\n",
    "cresc_trab = ((df18soma - df07soma)/df07soma)\n",
    "print (f'crescimento do mercado de trabalho de 2007 até 2018 foi de {cresc_trab:.2%}.')"
   ]
  },
  {
   "cell_type": "code",
   "execution_count": null,
   "metadata": {},
   "outputs": [],
   "source": [
    "#crescimento do mercado de 2014 ate 2016\n",
    "cresc_crise = ((df16soma - df14soma)/df14soma)\n",
    "print (f'crescimento do mercado de trabalho entre 2014 e 2016 foi de {cresc_crise:.2%}.')"
   ]
  },
  {
   "cell_type": "code",
   "execution_count": null,
   "metadata": {},
   "outputs": [],
   "source": [
    "#crescimento de 2016 até 2018\n",
    "cresc_pos = ((df18soma - df16soma)/df16soma)\n",
    "print (f'crescimento do mercado de trabalho entre 2018 e 2016 foi de {cresc_pos:.2%}.')"
   ]
  },
  {
   "cell_type": "code",
   "execution_count": null,
   "metadata": {},
   "outputs": [],
   "source": [
    "#trabalhadores em João Pessoa de 2007 a 2018\n",
    "df18jp = df18.loc[df18['Município'] == 250750]\n",
    "df07jp = df07.loc[df07['Município'] == 250750]"
   ]
  },
  {
   "cell_type": "code",
   "execution_count": null,
   "metadata": {},
   "outputs": [],
   "source": [
    "#plotagem dos dados\n",
    "df18jpsoma = df18jp['total'].sum()\n",
    "df07jpsoma = df07jp['total'].sum()\n",
    "print (f'Número de trabalhadores em João Pessoa 2018 foi de {df18jpsoma}.')\n",
    "print (f'Número de trabalhadores em João Pessoa 2007 foi de {df07jpsoma}.')"
   ]
  },
  {
   "cell_type": "code",
   "execution_count": 13,
   "metadata": {},
   "outputs": [
    {
     "ename": "NameError",
     "evalue": "name 'df18soma' is not defined",
     "output_type": "error",
     "traceback": [
      "\u001b[1;31m---------------------------------------------------------------------------\u001b[0m",
      "\u001b[1;31mNameError\u001b[0m                                 Traceback (most recent call last)",
      "\u001b[1;32m<ipython-input-13-81818fc35529>\u001b[0m in \u001b[0;36m<module>\u001b[1;34m\u001b[0m\n\u001b[0;32m      1\u001b[0m \u001b[1;31m#trabalhadores em 2018\u001b[0m\u001b[1;33m\u001b[0m\u001b[1;33m\u001b[0m\u001b[1;33m\u001b[0m\u001b[0m\n\u001b[1;32m----> 2\u001b[1;33m \u001b[0mdf18soma\u001b[0m\u001b[1;33m\u001b[0m\u001b[1;33m\u001b[0m\u001b[0m\n\u001b[0m",
      "\u001b[1;31mNameError\u001b[0m: name 'df18soma' is not defined"
     ]
    }
   ],
   "source": [
    "#trabalhadores em 2018\n",
    "df18soma"
   ]
  },
  {
   "cell_type": "code",
   "execution_count": null,
   "metadata": {},
   "outputs": [],
   "source": [
    "#porcentagem de trabalhadores em jp em relacao a paraiba\n",
    "(df18jpsoma / df18soma)*100"
   ]
  },
  {
   "cell_type": "code",
   "execution_count": null,
   "metadata": {},
   "outputs": [],
   "source": [
    "#trabalhadores em Campina Grande de 2007 a 2018\n",
    "df18cg = df18.loc[df18['Município'] == 250400]\n",
    "df07cg = df07.loc[df07['Município'] == 250400]\n",
    "print (f'Número de trabalhadores em Campina Grand 2018 foi de {df18jpsoma}.')\n",
    "print (f'Número de trabalhadores em Campina Grand 2007 foi de {df07jpsoma}.')"
   ]
  },
  {
   "cell_type": "code",
   "execution_count": null,
   "metadata": {},
   "outputs": [],
   "source": [
    "df18cgsoma = df18cg['total'].sum()\n",
    "df07cgsoma = df07cg['total'].sum()"
   ]
  },
  {
   "cell_type": "code",
   "execution_count": null,
   "metadata": {},
   "outputs": [],
   "source": [
    "#porcentagem em relacao ao total de trabalhadores na paraiba\n",
    "(df18cgsoma / df18soma)*100"
   ]
  },
  {
   "cell_type": "code",
   "execution_count": null,
   "metadata": {},
   "outputs": [],
   "source": [
    "#soma de jp e cg em relacao a paraiba\n",
    "((df18jpsoma + df18cgsoma)/df18soma)*100"
   ]
  },
  {
   "cell_type": "code",
   "execution_count": 34,
   "metadata": {},
   "outputs": [
    {
     "data": {
      "text/plain": [
       "1    0.563598\n",
       "2    0.436402\n",
       "Name: Sexo Trabalhador, dtype: float64"
      ]
     },
     "execution_count": 34,
     "metadata": {},
     "output_type": "execute_result"
    }
   ],
   "source": [
    "#% de trabalhadores por sexo\n",
    "df18['Sexo Trabalhador'].value_counts(1)"
   ]
  },
  {
   "cell_type": "code",
   "execution_count": 36,
   "metadata": {},
   "outputs": [
    {
     "data": {
      "text/plain": [
       "1    0.560756\n",
       "2    0.439244\n",
       "Name: Sexo Trabalhador, dtype: float64"
      ]
     },
     "execution_count": 36,
     "metadata": {},
     "output_type": "execute_result"
    }
   ],
   "source": [
    "#% de trabalhadores por sexo\n",
    "df07['Sexo Trabalhador'].value_counts(1)"
   ]
  },
  {
   "cell_type": "code",
   "execution_count": null,
   "metadata": {},
   "outputs": [],
   "source": [
    "trab071 = df07[df07['CNAE 2.0 Subclasse'] == '8411600']\n",
    "trab072 = df07[df07['CNAE 2.0 Subclasse'] == '4120400']\n",
    "trab073 = df07[df07['CNAE 2.0 Subclasse'] == '1539400']"
   ]
  },
  {
   "cell_type": "code",
   "execution_count": null,
   "metadata": {},
   "outputs": [],
   "source": [
    "trab071soma = trab071['total'].sum()\n",
    "trab072soma = trab072['total'].sum()\n",
    "trab073soma = trab073['total'].sum()"
   ]
  },
  {
   "cell_type": "code",
   "execution_count": null,
   "metadata": {},
   "outputs": [],
   "source": [
    "trab071.head()"
   ]
  },
  {
   "cell_type": "code",
   "execution_count": null,
   "metadata": {},
   "outputs": [],
   "source": [
    "print (f'Número de trabalhadores na administração publica foi de {trab071soma}.')\n",
    "print (f'Número de trabalhadores na construção de edificios foi de {trab072soma}.')\n",
    "print (f'Número de trabalhadores na industria do calçado foi de {trab073soma}.')"
   ]
  },
  {
   "cell_type": "code",
   "execution_count": null,
   "metadata": {},
   "outputs": [],
   "source": [
    "print (f'porcentagem de empregados nas empresas no setor público {(trab071soma/df07soma).round(2)*100}')\n",
    "print (f'porcentagem de empregados nas empresas na construção civil {(trab072soma/df07soma).round(3)*100}')\n",
    "print (f'porcentagem de empregados na industrial do calçado {(trab073soma/df07soma).round(3)*100}')"
   ]
  },
  {
   "cell_type": "code",
   "execution_count": null,
   "metadata": {},
   "outputs": [],
   "source": [
    "#genero no setor publico\n",
    "trab071h = trab071[trab071['Sexo Trabalhador'] == 1]\n",
    "trab071m = trab071[trab071['Sexo Trabalhador'] == 2]\n",
    "#genero na construção civil\n",
    "trab072h = trab072[trab072['Sexo Trabalhador'] == 1]\n",
    "trab072m = trab072[trab072['Sexo Trabalhador'] == 2]\n",
    "#genero na educação superiora\n",
    "trab073h = trab073[trab073['Sexo Trabalhador'] == 1]\n",
    "trab073m = trab073[trab073['Sexo Trabalhador'] == 2]"
   ]
  },
  {
   "cell_type": "code",
   "execution_count": null,
   "metadata": {},
   "outputs": [],
   "source": [
    "df18['CNAE 2.0 Subclasse'].value_counts()"
   ]
  },
  {
   "cell_type": "code",
   "execution_count": null,
   "metadata": {},
   "outputs": [],
   "source": [
    "trab1 = df18[df18['CNAE 2.0 Subclasse'] == 8411600]\n",
    "trab2 = df18[df18['CNAE 2.0 Subclasse'] == 4120400]\n",
    "trab3 = df18[df18['CNAE 2.0 Subclasse'] == 8531700]"
   ]
  },
  {
   "cell_type": "code",
   "execution_count": 14,
   "metadata": {},
   "outputs": [
    {
     "ename": "NameError",
     "evalue": "name 'trab1' is not defined",
     "output_type": "error",
     "traceback": [
      "\u001b[1;31m---------------------------------------------------------------------------\u001b[0m",
      "\u001b[1;31mNameError\u001b[0m                                 Traceback (most recent call last)",
      "\u001b[1;32m<ipython-input-14-05d7003677d9>\u001b[0m in \u001b[0;36m<module>\u001b[1;34m\u001b[0m\n\u001b[1;32m----> 1\u001b[1;33m \u001b[0mtrab1soma\u001b[0m \u001b[1;33m=\u001b[0m \u001b[0mtrab1\u001b[0m\u001b[1;33m[\u001b[0m\u001b[1;34m'total'\u001b[0m\u001b[1;33m]\u001b[0m\u001b[1;33m.\u001b[0m\u001b[0msum\u001b[0m\u001b[1;33m(\u001b[0m\u001b[1;33m)\u001b[0m\u001b[1;33m\u001b[0m\u001b[1;33m\u001b[0m\u001b[0m\n\u001b[0m\u001b[0;32m      2\u001b[0m \u001b[0mtrab2soma\u001b[0m \u001b[1;33m=\u001b[0m \u001b[0mtrab2\u001b[0m\u001b[1;33m[\u001b[0m\u001b[1;34m'total'\u001b[0m\u001b[1;33m]\u001b[0m\u001b[1;33m.\u001b[0m\u001b[0msum\u001b[0m\u001b[1;33m(\u001b[0m\u001b[1;33m)\u001b[0m\u001b[1;33m\u001b[0m\u001b[1;33m\u001b[0m\u001b[0m\n\u001b[0;32m      3\u001b[0m \u001b[0mtrab3soma\u001b[0m \u001b[1;33m=\u001b[0m \u001b[0mtrab3\u001b[0m\u001b[1;33m[\u001b[0m\u001b[1;34m'total'\u001b[0m\u001b[1;33m]\u001b[0m\u001b[1;33m.\u001b[0m\u001b[0msum\u001b[0m\u001b[1;33m(\u001b[0m\u001b[1;33m)\u001b[0m\u001b[1;33m\u001b[0m\u001b[1;33m\u001b[0m\u001b[0m\n",
      "\u001b[1;31mNameError\u001b[0m: name 'trab1' is not defined"
     ]
    }
   ],
   "source": [
    "trab1soma = trab1['total'].sum()\n",
    "trab2soma = trab2['total'].sum()\n",
    "trab3soma = trab3['total'].sum()"
   ]
  },
  {
   "cell_type": "code",
   "execution_count": null,
   "metadata": {},
   "outputs": [],
   "source": [
    "print (f'Número de trabalhadores na administração publica foi de {trab1soma}.')\n",
    "print (f'Número de trabalhadores na construção de edificios foi de {trab2soma}.')\n",
    "print (f'Número de trabalhadores no cnae 85317 foi de {trab3soma}.')"
   ]
  },
  {
   "cell_type": "code",
   "execution_count": null,
   "metadata": {},
   "outputs": [],
   "source": [
    "print (f'porcentagem de empregados nas empresas no setor público {(trab1soma/df18soma).round(2)*100}')\n",
    "print (f'porcentagem de empregados nas empresas na construção civil {(trab2soma/df18soma).round(3)*100}')\n",
    "print (f'porcentagem de empregados nas empresas na educação superiora {(trab3soma/df18soma).round(3)*100}')"
   ]
  },
  {
   "cell_type": "code",
   "execution_count": null,
   "metadata": {},
   "outputs": [],
   "source": [
    "#genero no setor publico\n",
    "trab1h = trab1[trab1['Sexo Trabalhador'] == 1]\n",
    "trab1m = trab1[trab1['Sexo Trabalhador'] == 2]\n",
    "#genero na construção civil\n",
    "trab2h = trab2[trab2['Sexo Trabalhador'] == 1]\n",
    "trab2m = trab2[trab2['Sexo Trabalhador'] == 2]\n",
    "#genero na educação superiora\n",
    "trab3h = trab3[trab3['Sexo Trabalhador'] == 1]\n",
    "trab3m = trab3[trab3['Sexo Trabalhador'] == 2]"
   ]
  },
  {
   "cell_type": "code",
   "execution_count": null,
   "metadata": {},
   "outputs": [],
   "source": [
    "trab1['Sexo Trabalhador'].value_counts(1)"
   ]
  },
  {
   "cell_type": "code",
   "execution_count": null,
   "metadata": {},
   "outputs": [],
   "source": [
    "trab2['Sexo Trabalhador'].value_counts(1)"
   ]
  },
  {
   "cell_type": "code",
   "execution_count": null,
   "metadata": {},
   "outputs": [],
   "source": [
    "trab3['Sexo Trabalhador'].value_counts(1)"
   ]
  },
  {
   "cell_type": "code",
   "execution_count": null,
   "metadata": {},
   "outputs": [],
   "source": [
    "trabtmedia1 = trab1['Vl Remun Média (SM)'].mean()\n",
    "trabtmedia2 = trab2['Vl Remun Média (SM)'].mean()\n",
    "trabtmedia3 = trab3['Vl Remun Média (SM)'].mean()"
   ]
  },
  {
   "cell_type": "code",
   "execution_count": null,
   "metadata": {},
   "outputs": [],
   "source": [
    "print (f'média de salários setor publico (em salários mínimos) foi de {trabtmedia1:.2}')\n",
    "print (f'média de salários setor publico foi de {trabtmedia2:.2}')\n",
    "print (f'média de salários setor publico foi de {trabtmedia3:.2}')"
   ]
  },
  {
   "cell_type": "code",
   "execution_count": null,
   "metadata": {},
   "outputs": [],
   "source": [
    "trabtmedia1m = trab1m['Vl Remun Média (SM)'].mean()\n",
    "trabtmedia2m = trab2m['Vl Remun Média (SM)'].mean()\n",
    "trabtmedia3m = trab3m['Vl Remun Média (SM)'].mean()"
   ]
  },
  {
   "cell_type": "code",
   "execution_count": null,
   "metadata": {},
   "outputs": [],
   "source": [
    "trabtmedia1h = trab1h['Vl Remun Média (SM)'].mean()\n",
    "trabtmedia2h = trab2h['Vl Remun Média (SM)'].mean()\n",
    "trabtmedia3h = trab3h['Vl Remun Média (SM)'].mean()"
   ]
  },
  {
   "cell_type": "code",
   "execution_count": null,
   "metadata": {},
   "outputs": [],
   "source": [
    "print (f'média de salários setor publico foi de {trabtmedia1m:.2}')\n",
    "print (f'média de salários na construção foi de  {trabtmedia2m:.2}')\n",
    "print (f'média de salários no ensino superior foi de  {trabtmedia3m:.2}')\n",
    "\n",
    "print (f'média de salários setor publico foi de  {trabtmedia1h:.2}')\n",
    "print (f'média de salários na construção foi de  {trabtmedia2h:.2}')\n",
    "print (f'média de salários no ensino superior foi de  {trabtmedia3h:.2}')"
   ]
  },
  {
   "cell_type": "code",
   "execution_count": null,
   "metadata": {},
   "outputs": [],
   "source": [
    "(1-(trabtmedia1m/trabtmedia1h))*100"
   ]
  },
  {
   "cell_type": "code",
   "execution_count": null,
   "metadata": {},
   "outputs": [],
   "source": [
    "(1-(trabtmedia2m/trabtmedia2h))*100"
   ]
  },
  {
   "cell_type": "code",
   "execution_count": null,
   "metadata": {},
   "outputs": [],
   "source": [
    "(1-(trabtmedia3m/trabtmedia3h))*100"
   ]
  },
  {
   "cell_type": "code",
   "execution_count": null,
   "metadata": {},
   "outputs": [],
   "source": [
    "trab3m['CBO Ocupação 2002'].value_counts(1)"
   ]
  },
  {
   "cell_type": "code",
   "execution_count": null,
   "metadata": {},
   "outputs": [],
   "source": [
    "trab3h['CBO Ocupação 2002'].value_counts(1)"
   ]
  },
  {
   "cell_type": "code",
   "execution_count": null,
   "metadata": {},
   "outputs": [],
   "source": [
    "df07['CNAE 2.0 Subclasse'] = df07['CNAE 2.0 Subclasse'].replace ('00000-1', '000001')\n",
    "df08['CNAE 2.0 Subclasse'] = df08['CNAE 2.0 Subclasse'].replace ('00000-1', '000001')"
   ]
  },
  {
   "cell_type": "code",
   "execution_count": null,
   "metadata": {},
   "outputs": [],
   "source": [
    "df07['CNAE 2.0 Subclasse'] = df07['CNAE 2.0 Subclasse'].astype(int)\n",
    "df08['CNAE 2.0 Subclasse'] = df08['CNAE 2.0 Subclasse'].astype(int)"
   ]
  },
  {
   "cell_type": "code",
   "execution_count": null,
   "metadata": {},
   "outputs": [],
   "source": [
    "agr07t = df07.loc[(df07['CNAE 2.0 Subclasse'] < 500000)]\n",
    "agr08t = df08.loc[(df08['CNAE 2.0 Subclasse'] < 500000)]\n",
    "agr09t = df09.loc[(df09['CNAE 2.0 Subclasse'] < 500000)]\n",
    "agr10t = df10.loc[(df10['CNAE 2.0 Subclasse'] < 500000)]\n",
    "agr11t = df11.loc[(df11['CNAE 2.0 Subclasse'] < 500000)]\n",
    "agr12t = df12.loc[(df12['CNAE 2.0 Subclasse'] < 500000)]\n",
    "agr13t = df13.loc[(df13['CNAE 2.0 Subclasse'] < 500000)]\n",
    "agr14t = df14.loc[(df14['CNAE 2.0 Subclasse'] < 500000)]\n",
    "agr15t = df15.loc[(df15['CNAE 2.0 Subclasse'] < 500000)]\n",
    "agr16t = df16.loc[(df16['CNAE 2.0 Subclasse'] < 500000)]\n",
    "agr17t = df17.loc[(df17['CNAE 2.0 Subclasse'] < 500000)]\n",
    "agr18t = df18.loc[(df18['CNAE 2.0 Subclasse'] < 500000)]"
   ]
  },
  {
   "cell_type": "code",
   "execution_count": null,
   "metadata": {},
   "outputs": [],
   "source": [
    "ind_2007t = df07.loc[(df07['CNAE 2.0 Subclasse'] >= 500000) & (df07['CNAE 2.0 Subclasse'] <= 3400000)]\n",
    "ind_2008t = df08.loc[(df08['CNAE 2.0 Subclasse'] >= 500000) & (df08['CNAE 2.0 Subclasse'] <= 3400000)]\n",
    "ind_2009t = df09.loc[(df09['CNAE 2.0 Subclasse'] >= 500000) & (df09['CNAE 2.0 Subclasse'] <= 3400000)]\n",
    "ind_2010t = df10.loc[(df10['CNAE 2.0 Subclasse'] >= 500000) & (df10['CNAE 2.0 Subclasse'] <= 3400000)]\n",
    "ind_2011t = df11.loc[(df11['CNAE 2.0 Subclasse'] >= 500000) & (df11['CNAE 2.0 Subclasse'] <= 3400000)]\n",
    "ind_2012t = df12.loc[(df12['CNAE 2.0 Subclasse'] >= 500000) & (df12['CNAE 2.0 Subclasse'] <= 3400000)]\n",
    "ind_2013t = df13.loc[(df13['CNAE 2.0 Subclasse'] >= 500000) & (df13['CNAE 2.0 Subclasse'] <= 3400000)]\n",
    "ind_2014t = df14.loc[(df14['CNAE 2.0 Subclasse'] >= 500000) & (df14['CNAE 2.0 Subclasse'] <= 3400000)]\n",
    "ind_2015t = df15.loc[(df15['CNAE 2.0 Subclasse'] >= 500000) & (df15['CNAE 2.0 Subclasse'] <= 3400000)]\n",
    "ind_2016t = df16.loc[(df16['CNAE 2.0 Subclasse'] >= 500000) & (df16['CNAE 2.0 Subclasse'] <= 3400000)]\n",
    "ind_2017t = df17.loc[(df17['CNAE 2.0 Subclasse'] >= 500000) & (df17['CNAE 2.0 Subclasse'] <= 3400000)]\n",
    "ind_2018t = df18.loc[(df18['CNAE 2.0 Subclasse'] >= 500000) & (df18['CNAE 2.0 Subclasse'] <= 3400000)]"
   ]
  },
  {
   "cell_type": "code",
   "execution_count": null,
   "metadata": {},
   "outputs": [],
   "source": [
    "cor_2007t = df07.loc[(df07['CNAE 2.0 Subclasse'] >= 3400100) & (df07['CNAE 2.0 Subclasse'] < 8411600)]\n",
    "cor_2008t = df08.loc[(df08['CNAE 2.0 Subclasse'] >= 3400100) & (df08['CNAE 2.0 Subclasse'] < 8411600)]\n",
    "cor_2009t = df09.loc[(df09['CNAE 2.0 Subclasse'] >= 3400100) & (df09['CNAE 2.0 Subclasse'] < 8411600)]\n",
    "cor_2010t = df10.loc[(df10['CNAE 2.0 Subclasse'] >= 3400100) & (df10['CNAE 2.0 Subclasse'] < 8411600)]\n",
    "cor_2011t = df11.loc[(df11['CNAE 2.0 Subclasse'] >= 3400100) & (df11['CNAE 2.0 Subclasse'] < 8411600)]\n",
    "cor_2012t = df12.loc[(df12['CNAE 2.0 Subclasse'] >= 3400100) & (df12['CNAE 2.0 Subclasse'] < 8411600)]\n",
    "cor_2013t = df13.loc[(df13['CNAE 2.0 Subclasse'] >= 3400100) & (df13['CNAE 2.0 Subclasse'] < 8411600)]\n",
    "cor_2014t = df14.loc[(df14['CNAE 2.0 Subclasse'] >= 3400100) & (df14['CNAE 2.0 Subclasse'] < 8411600)]\n",
    "cor_2015t = df15.loc[(df15['CNAE 2.0 Subclasse'] >= 3400100) & (df15['CNAE 2.0 Subclasse'] < 8411600)]\n",
    "cor_2016t = df16.loc[(df16['CNAE 2.0 Subclasse'] >= 3400100) & (df16['CNAE 2.0 Subclasse'] < 8411600)]\n",
    "cor_2017t = df17.loc[(df17['CNAE 2.0 Subclasse'] >= 3400100) & (df17['CNAE 2.0 Subclasse'] < 8411600)]\n",
    "cor_2018t = df18.loc[(df18['CNAE 2.0 Subclasse'] >= 3400100) & (df18['CNAE 2.0 Subclasse'] < 8411600)]\n",
    "\n",
    "\n",
    "cor_2007t2 = df07.loc[(df07['CNAE 2.0 Subclasse'] > 8411600)]\n",
    "cor_2008t2 = df08.loc[(df08['CNAE 2.0 Subclasse'] > 8411600)]\n",
    "cor_2009t2 = df09.loc[(df09['CNAE 2.0 Subclasse'] > 8411600)]\n",
    "cor_2010t2 = df10.loc[(df10['CNAE 2.0 Subclasse'] > 8411600)]\n",
    "cor_2011t2 = df11.loc[(df11['CNAE 2.0 Subclasse'] > 8411600)]\n",
    "cor_2012t2 = df12.loc[(df12['CNAE 2.0 Subclasse'] > 8411600)]\n",
    "cor_2013t2 = df13.loc[(df13['CNAE 2.0 Subclasse'] > 8411600)]\n",
    "cor_2014t2 = df14.loc[(df14['CNAE 2.0 Subclasse'] > 8411600)]\n",
    "cor_2015t2 = df15.loc[(df15['CNAE 2.0 Subclasse'] > 8411600)]\n",
    "cor_2016t2 = df16.loc[(df16['CNAE 2.0 Subclasse'] > 8411600)]\n",
    "cor_2017t2 = df17.loc[(df17['CNAE 2.0 Subclasse'] > 8411600)]\n",
    "cor_2018t2 = df18.loc[(df18['CNAE 2.0 Subclasse'] > 8411600)]"
   ]
  },
  {
   "cell_type": "code",
   "execution_count": 15,
   "metadata": {},
   "outputs": [
    {
     "ename": "NameError",
     "evalue": "name 'df07' is not defined",
     "output_type": "error",
     "traceback": [
      "\u001b[1;31m---------------------------------------------------------------------------\u001b[0m",
      "\u001b[1;31mNameError\u001b[0m                                 Traceback (most recent call last)",
      "\u001b[1;32m<ipython-input-15-e8a276a6e420>\u001b[0m in \u001b[0;36m<module>\u001b[1;34m\u001b[0m\n\u001b[1;32m----> 1\u001b[1;33m \u001b[0mpub_2007t\u001b[0m \u001b[1;33m=\u001b[0m \u001b[0mdf07\u001b[0m\u001b[1;33m.\u001b[0m\u001b[0mloc\u001b[0m\u001b[1;33m[\u001b[0m\u001b[1;33m(\u001b[0m\u001b[0mdf07\u001b[0m\u001b[1;33m[\u001b[0m\u001b[1;34m'CNAE 2.0 Subclasse'\u001b[0m\u001b[1;33m]\u001b[0m \u001b[1;33m==\u001b[0m \u001b[1;36m8411600\u001b[0m\u001b[1;33m)\u001b[0m\u001b[1;33m]\u001b[0m\u001b[1;33m\u001b[0m\u001b[1;33m\u001b[0m\u001b[0m\n\u001b[0m\u001b[0;32m      2\u001b[0m \u001b[0mpub_2008t\u001b[0m \u001b[1;33m=\u001b[0m \u001b[0mdf08\u001b[0m\u001b[1;33m.\u001b[0m\u001b[0mloc\u001b[0m\u001b[1;33m[\u001b[0m\u001b[1;33m(\u001b[0m\u001b[0mdf08\u001b[0m\u001b[1;33m[\u001b[0m\u001b[1;34m'CNAE 2.0 Subclasse'\u001b[0m\u001b[1;33m]\u001b[0m \u001b[1;33m==\u001b[0m \u001b[1;36m8411600\u001b[0m\u001b[1;33m)\u001b[0m\u001b[1;33m]\u001b[0m\u001b[1;33m\u001b[0m\u001b[1;33m\u001b[0m\u001b[0m\n\u001b[0;32m      3\u001b[0m \u001b[0mpub_2009t\u001b[0m \u001b[1;33m=\u001b[0m \u001b[0mdf09\u001b[0m\u001b[1;33m.\u001b[0m\u001b[0mloc\u001b[0m\u001b[1;33m[\u001b[0m\u001b[1;33m(\u001b[0m\u001b[0mdf09\u001b[0m\u001b[1;33m[\u001b[0m\u001b[1;34m'CNAE 2.0 Subclasse'\u001b[0m\u001b[1;33m]\u001b[0m \u001b[1;33m==\u001b[0m \u001b[1;36m8411600\u001b[0m\u001b[1;33m)\u001b[0m\u001b[1;33m]\u001b[0m\u001b[1;33m\u001b[0m\u001b[1;33m\u001b[0m\u001b[0m\n\u001b[0;32m      4\u001b[0m \u001b[0mpub_2010t\u001b[0m \u001b[1;33m=\u001b[0m \u001b[0mdf10\u001b[0m\u001b[1;33m.\u001b[0m\u001b[0mloc\u001b[0m\u001b[1;33m[\u001b[0m\u001b[1;33m(\u001b[0m\u001b[0mdf10\u001b[0m\u001b[1;33m[\u001b[0m\u001b[1;34m'CNAE 2.0 Subclasse'\u001b[0m\u001b[1;33m]\u001b[0m \u001b[1;33m==\u001b[0m \u001b[1;36m8411600\u001b[0m\u001b[1;33m)\u001b[0m\u001b[1;33m]\u001b[0m\u001b[1;33m\u001b[0m\u001b[1;33m\u001b[0m\u001b[0m\n\u001b[0;32m      5\u001b[0m \u001b[0mpub_2011t\u001b[0m \u001b[1;33m=\u001b[0m \u001b[0mdf11\u001b[0m\u001b[1;33m.\u001b[0m\u001b[0mloc\u001b[0m\u001b[1;33m[\u001b[0m\u001b[1;33m(\u001b[0m\u001b[0mdf11\u001b[0m\u001b[1;33m[\u001b[0m\u001b[1;34m'CNAE 2.0 Subclasse'\u001b[0m\u001b[1;33m]\u001b[0m \u001b[1;33m==\u001b[0m \u001b[1;36m8411600\u001b[0m\u001b[1;33m)\u001b[0m\u001b[1;33m]\u001b[0m\u001b[1;33m\u001b[0m\u001b[1;33m\u001b[0m\u001b[0m\n",
      "\u001b[1;31mNameError\u001b[0m: name 'df07' is not defined"
     ]
    }
   ],
   "source": [
    "pub_2007t = df07.loc[(df07['CNAE 2.0 Subclasse'] == 8411600)]\n",
    "pub_2008t = df08.loc[(df08['CNAE 2.0 Subclasse'] == 8411600)]\n",
    "pub_2009t = df09.loc[(df09['CNAE 2.0 Subclasse'] == 8411600)]\n",
    "pub_2010t = df10.loc[(df10['CNAE 2.0 Subclasse'] == 8411600)]\n",
    "pub_2011t = df11.loc[(df11['CNAE 2.0 Subclasse'] == 8411600)]\n",
    "pub_2012t = df12.loc[(df12['CNAE 2.0 Subclasse'] == 8411600)]\n",
    "pub_2013t = df13.loc[(df13['CNAE 2.0 Subclasse'] == 8411600)]\n",
    "pub_2014t = df14.loc[(df14['CNAE 2.0 Subclasse'] == 8411600)]\n",
    "pub_2015t = df15.loc[(df15['CNAE 2.0 Subclasse'] == 8411600)]\n",
    "pub_2016t = df16.loc[(df16['CNAE 2.0 Subclasse'] == 8411600)]\n",
    "pub_2017t = df17.loc[(df17['CNAE 2.0 Subclasse'] == 8411600)]\n",
    "pub_2018t = df18.loc[(df18['CNAE 2.0 Subclasse'] == 8411600)]"
   ]
  },
  {
   "cell_type": "code",
   "execution_count": null,
   "metadata": {},
   "outputs": [],
   "source": [
    "agr07tsoma = agr07t['total'].sum().astype(int)\n",
    "agr08tsoma = agr08t['total'].sum().astype(int)\n",
    "agr09tsoma = agr09t['total'].sum().astype(int)\n",
    "agr10tsoma = agr10t['total'].sum().astype(int)\n",
    "agr11tsoma = agr11t['total'].sum().astype(int)\n",
    "agr12tsoma = agr12t['total'].sum().astype(int)\n",
    "agr13tsoma = agr13t['total'].sum().astype(int)\n",
    "agr14tsoma = agr14t['total'].sum().astype(int)\n",
    "agr15tsoma = agr15t['total'].sum().astype(int)\n",
    "agr16tsoma = agr16t['total'].sum().astype(int)\n",
    "agr17tsoma = agr17t['total'].sum().astype(int)\n",
    "agr18tsoma = agr18t['total'].sum().astype(int)"
   ]
  },
  {
   "cell_type": "code",
   "execution_count": null,
   "metadata": {},
   "outputs": [],
   "source": [
    "agr07tmean = agr07t['Vl Remun Média (SM)'].mean()\n",
    "agr08tmean = agr08t['Vl Remun Média (SM)'].mean()\n",
    "agr09tmean = agr09t['Vl Remun Média (SM)'].mean()\n",
    "agr10tmean = agr10t['Vl Remun Média (SM)'].mean()\n",
    "agr11tmean = agr11t['Vl Remun Média (SM)'].mean()\n",
    "agr12tmean = agr12t['Vl Remun Média (SM)'].mean()\n",
    "agr13tmean = agr13t['Vl Remun Média (SM)'].mean()\n",
    "agr14tmean = agr14t['Vl Remun Média (SM)'].mean()\n",
    "agr15tmean = agr15t['Vl Remun Média (SM)'].mean()\n",
    "agr16tmean = agr16t['Vl Remun Média (SM)'].mean()\n",
    "agr17tmean = agr17t['Vl Remun Média (SM)'].mean()\n",
    "agr18tmean = agr18t['Vl Remun Média (SM)'].mean()"
   ]
  },
  {
   "cell_type": "code",
   "execution_count": null,
   "metadata": {},
   "outputs": [],
   "source": [
    "ind07soma = ind_2007t['total'].sum().astype(int)\n",
    "ind08soma = ind_2008t['total'].sum().astype(int)\n",
    "ind09soma = ind_2009t['total'].sum().astype(int)\n",
    "ind10soma = ind_2010t['total'].sum().astype(int)\n",
    "ind11soma = ind_2011t['total'].sum().astype(int)\n",
    "ind12soma = ind_2012t['total'].sum().astype(int)\n",
    "ind13soma = ind_2013t['total'].sum().astype(int)\n",
    "ind14soma = ind_2014t['total'].sum().astype(int)\n",
    "ind15soma = ind_2015t['total'].sum().astype(int)\n",
    "ind16soma = ind_2016t['total'].sum().astype(int)\n",
    "ind17soma = ind_2017t['total'].sum().astype(int)\n",
    "ind18soma = ind_2018t['total'].sum().astype(int)"
   ]
  },
  {
   "cell_type": "code",
   "execution_count": null,
   "metadata": {},
   "outputs": [],
   "source": [
    "ind07mean = ind_2007t['Vl Remun Média (SM)'].mean()\n",
    "ind08mean = ind_2008t['Vl Remun Média (SM)'].mean()\n",
    "ind09mean = ind_2009t['Vl Remun Média (SM)'].mean()\n",
    "ind10mean = ind_2010t['Vl Remun Média (SM)'].mean()\n",
    "ind11mean = ind_2011t['Vl Remun Média (SM)'].mean()\n",
    "ind12mean = ind_2012t['Vl Remun Média (SM)'].mean()\n",
    "ind13mean = ind_2013t['Vl Remun Média (SM)'].mean()\n",
    "ind14mean = ind_2014t['Vl Remun Média (SM)'].mean()\n",
    "ind15mean = ind_2015t['Vl Remun Média (SM)'].mean()\n",
    "ind16mean = ind_2016t['Vl Remun Média (SM)'].mean()\n",
    "ind17mean = ind_2017t['Vl Remun Média (SM)'].mean()\n",
    "ind18mean = ind_2018t['Vl Remun Média (SM)'].mean()"
   ]
  },
  {
   "cell_type": "code",
   "execution_count": null,
   "metadata": {},
   "outputs": [],
   "source": [
    "cor07 = cor_2007t.append(cor_2007t2)\n",
    "cor08 = cor_2008t.append(cor_2008t2)\n",
    "cor09 = cor_2009t.append(cor_2009t2)\n",
    "cor10 = cor_2010t.append(cor_2010t2)\n",
    "cor11 = cor_2011t.append(cor_2011t2)\n",
    "cor12 = cor_2012t.append(cor_2012t2)\n",
    "cor13 = cor_2013t.append(cor_2013t2)\n",
    "cor14 = cor_2014t.append(cor_2014t2)\n",
    "cor15 = cor_2015t.append(cor_2015t2)\n",
    "cor16 = cor_2016t.append(cor_2016t2)\n",
    "cor17 = cor_2017t.append(cor_2017t2)\n",
    "cor18 = cor_2018t.append(cor_2018t2)"
   ]
  },
  {
   "cell_type": "code",
   "execution_count": null,
   "metadata": {},
   "outputs": [],
   "source": [
    "cor07soma = cor07['total'].sum().astype(int)\n",
    "cor08soma = cor08['total'].sum().astype(int)\n",
    "cor09soma = cor09['total'].sum().astype(int)\n",
    "cor10soma = cor10['total'].sum().astype(int)\n",
    "cor11soma = cor11['total'].sum().astype(int)\n",
    "cor12soma = cor12['total'].sum().astype(int)\n",
    "cor13soma = cor13['total'].sum().astype(int)\n",
    "cor14soma = cor14['total'].sum().astype(int)\n",
    "cor15soma = cor15['total'].sum().astype(int)\n",
    "cor16soma = cor16['total'].sum().astype(int)\n",
    "cor17soma = cor17['total'].sum().astype(int)\n",
    "cor18soma = cor18['total'].sum().astype(int)"
   ]
  },
  {
   "cell_type": "code",
   "execution_count": null,
   "metadata": {},
   "outputs": [],
   "source": [
    "cor07mean = cor07['Vl Remun Média (SM)'].mean()\n",
    "cor08mean = cor08['Vl Remun Média (SM)'].mean()\n",
    "cor09mean = cor09['Vl Remun Média (SM)'].mean()\n",
    "cor10mean = cor10['Vl Remun Média (SM)'].mean()\n",
    "cor11mean = cor11['Vl Remun Média (SM)'].mean()\n",
    "cor12mean = cor12['Vl Remun Média (SM)'].mean()\n",
    "cor13mean = cor13['Vl Remun Média (SM)'].mean()\n",
    "cor14mean = cor14['Vl Remun Média (SM)'].mean()\n",
    "cor15mean = cor15['Vl Remun Média (SM)'].mean()\n",
    "cor16mean = cor16['Vl Remun Média (SM)'].mean()\n",
    "cor17mean = cor17['Vl Remun Média (SM)'].mean()\n",
    "cor18mean = cor18['Vl Remun Média (SM)'].mean()"
   ]
  },
  {
   "cell_type": "code",
   "execution_count": null,
   "metadata": {},
   "outputs": [],
   "source": [
    "pub07soma = pub_2007t['total'].sum().astype(int)\n",
    "pub08soma = pub_2008t['total'].sum().astype(int)\n",
    "pub09soma = pub_2009t['total'].sum().astype(int)\n",
    "pub10soma = pub_2010t['total'].sum().astype(int)\n",
    "pub11soma = pub_2011t['total'].sum().astype(int)\n",
    "pub12soma = pub_2012t['total'].sum().astype(int)\n",
    "pub13soma = pub_2013t['total'].sum().astype(int)\n",
    "pub14soma = pub_2014t['total'].sum().astype(int)\n",
    "pub15soma = pub_2015t['total'].sum().astype(int)\n",
    "pub16soma = pub_2016t['total'].sum().astype(int)\n",
    "pub17soma = pub_2017t['total'].sum().astype(int)\n",
    "pub18soma = pub_2018t['total'].sum().astype(int)"
   ]
  },
  {
   "cell_type": "code",
   "execution_count": null,
   "metadata": {},
   "outputs": [],
   "source": [
    "pub07mean = pub_2007t['Vl Remun Média (SM)'].mean()\n",
    "pub08mean = pub_2008t['Vl Remun Média (SM)'].mean()\n",
    "pub09mean = pub_2009t['Vl Remun Média (SM)'].mean()\n",
    "pub10mean = pub_2010t['Vl Remun Média (SM)'].mean()\n",
    "pub11mean = pub_2011t['Vl Remun Média (SM)'].mean()\n",
    "pub12mean = pub_2012t['Vl Remun Média (SM)'].mean()\n",
    "pub13mean = pub_2013t['Vl Remun Média (SM)'].mean()\n",
    "pub14mean = pub_2014t['Vl Remun Média (SM)'].mean()\n",
    "pub15mean = pub_2015t['Vl Remun Média (SM)'].mean()\n",
    "pub16mean = pub_2016t['Vl Remun Média (SM)'].mean()\n",
    "pub17mean = pub_2017t['Vl Remun Média (SM)'].mean()\n",
    "pub18mean = pub_2018t['Vl Remun Média (SM)'].mean()"
   ]
  },
  {
   "cell_type": "code",
   "execution_count": null,
   "metadata": {},
   "outputs": [],
   "source": [
    "#separação agricultura homens e mulheres\n",
    "agr07h = agr07t.loc[agr07t['Sexo Trabalhador'] == 1]\n",
    "agr07m = agr07t.loc[agr07t['Sexo Trabalhador'] == 2]\n",
    "\n",
    "agr18h = agr18t.loc[agr18t['Sexo Trabalhador'] == 1]\n",
    "agr18m = agr18t.loc[agr18t['Sexo Trabalhador'] == 2]\n"
   ]
  },
  {
   "cell_type": "code",
   "execution_count": null,
   "metadata": {},
   "outputs": [],
   "source": [
    "#separação industria homens e mulheres\n",
    "ind07h = ind_2007t.loc[ind_2007t['Sexo Trabalhador'] == 1]\n",
    "ind07m = ind_2007t.loc[ind_2007t['Sexo Trabalhador'] == 2]\n",
    "\n",
    "ind18h = ind_2018t.loc[ind_2018t['Sexo Trabalhador'] == 1]\n",
    "ind18m = ind_2018t.loc[ind_2018t['Sexo Trabalhador'] == 2]"
   ]
  },
  {
   "cell_type": "code",
   "execution_count": null,
   "metadata": {},
   "outputs": [],
   "source": [
    "#separação comercio homens e mulheres\n",
    "cor07h = cor07.loc[cor07['Sexo Trabalhador'] == 1]\n",
    "cor07m = cor07.loc[cor07['Sexo Trabalhador'] == 2]\n",
    "\n",
    "cor18h = cor18.loc[cor18['Sexo Trabalhador'] == 1]\n",
    "cor18m = cor18.loc[cor18['Sexo Trabalhador'] == 2]"
   ]
  },
  {
   "cell_type": "code",
   "execution_count": null,
   "metadata": {},
   "outputs": [],
   "source": [
    "#separação setor publico homens e mulheres\n",
    "pub07h = pub_2007t.loc[pub_2007t['Sexo Trabalhador'] == 1]\n",
    "pub07m = pub_2007t.loc[pub_2007t['Sexo Trabalhador'] == 2]\n",
    "\n",
    "pub18h = pub_2018t.loc[pub_2018t['Sexo Trabalhador'] == 1]\n",
    "pub18m = pub_2018t.loc[pub_2018t['Sexo Trabalhador'] == 2]"
   ]
  },
  {
   "cell_type": "code",
   "execution_count": null,
   "metadata": {},
   "outputs": [],
   "source": [
    "#soma agricultura h/m\n",
    "agr07hsum = agr07h['total'].sum()\n",
    "agr07msum = agr07m['total'].sum()\n",
    "\n",
    "agr18hsum = agr18h['total'].sum()\n",
    "agr18msum = agr18m['total'].sum()"
   ]
  },
  {
   "cell_type": "code",
   "execution_count": null,
   "metadata": {},
   "outputs": [],
   "source": [
    "#media agricultura h/m\n",
    "agr07hmean = agr07h['Vl Remun Média (SM)'].mean()\n",
    "agr07mmean = agr07m['Vl Remun Média (SM)'].mean()\n",
    "\n",
    "agr18hmean = agr18h['Vl Remun Média (SM)'].mean()\n",
    "agr18mmean = agr18m['Vl Remun Média (SM)'].mean()"
   ]
  },
  {
   "cell_type": "code",
   "execution_count": null,
   "metadata": {},
   "outputs": [],
   "source": [
    "#soma industria h/m\n",
    "ind07hsum = ind07h['total'].sum()\n",
    "ind07msum = ind07m['total'].sum()\n",
    "\n",
    "ind18hsum = ind18h['total'].sum()\n",
    "ind18msum = ind18m['total'].sum()"
   ]
  },
  {
   "cell_type": "code",
   "execution_count": 16,
   "metadata": {},
   "outputs": [
    {
     "ename": "NameError",
     "evalue": "name 'ind07h' is not defined",
     "output_type": "error",
     "traceback": [
      "\u001b[1;31m---------------------------------------------------------------------------\u001b[0m",
      "\u001b[1;31mNameError\u001b[0m                                 Traceback (most recent call last)",
      "\u001b[1;32m<ipython-input-16-305395dec2b2>\u001b[0m in \u001b[0;36m<module>\u001b[1;34m\u001b[0m\n\u001b[0;32m      1\u001b[0m \u001b[1;31m#media industria h/m\u001b[0m\u001b[1;33m\u001b[0m\u001b[1;33m\u001b[0m\u001b[1;33m\u001b[0m\u001b[0m\n\u001b[1;32m----> 2\u001b[1;33m \u001b[0mind07hmean\u001b[0m \u001b[1;33m=\u001b[0m \u001b[0mind07h\u001b[0m\u001b[1;33m[\u001b[0m\u001b[1;34m'Vl Remun Média (SM)'\u001b[0m\u001b[1;33m]\u001b[0m\u001b[1;33m.\u001b[0m\u001b[0mmean\u001b[0m\u001b[1;33m(\u001b[0m\u001b[1;33m)\u001b[0m\u001b[1;33m\u001b[0m\u001b[1;33m\u001b[0m\u001b[0m\n\u001b[0m\u001b[0;32m      3\u001b[0m \u001b[0mind07mmean\u001b[0m \u001b[1;33m=\u001b[0m \u001b[0mind07m\u001b[0m\u001b[1;33m[\u001b[0m\u001b[1;34m'Vl Remun Média (SM)'\u001b[0m\u001b[1;33m]\u001b[0m\u001b[1;33m.\u001b[0m\u001b[0mmean\u001b[0m\u001b[1;33m(\u001b[0m\u001b[1;33m)\u001b[0m\u001b[1;33m\u001b[0m\u001b[1;33m\u001b[0m\u001b[0m\n\u001b[0;32m      4\u001b[0m \u001b[1;33m\u001b[0m\u001b[0m\n\u001b[0;32m      5\u001b[0m \u001b[0mind18hmean\u001b[0m \u001b[1;33m=\u001b[0m \u001b[0mind18h\u001b[0m\u001b[1;33m[\u001b[0m\u001b[1;34m'Vl Remun Média (SM)'\u001b[0m\u001b[1;33m]\u001b[0m\u001b[1;33m.\u001b[0m\u001b[0mmean\u001b[0m\u001b[1;33m(\u001b[0m\u001b[1;33m)\u001b[0m\u001b[1;33m\u001b[0m\u001b[1;33m\u001b[0m\u001b[0m\n",
      "\u001b[1;31mNameError\u001b[0m: name 'ind07h' is not defined"
     ]
    }
   ],
   "source": [
    "#media industria h/m\n",
    "ind07hmean = ind07h['Vl Remun Média (SM)'].mean()\n",
    "ind07mmean = ind07m['Vl Remun Média (SM)'].mean()\n",
    "\n",
    "ind18hmean = ind18h['Vl Remun Média (SM)'].mean()\n",
    "ind18mmean = ind18m['Vl Remun Média (SM)'].mean()"
   ]
  },
  {
   "cell_type": "code",
   "execution_count": null,
   "metadata": {},
   "outputs": [],
   "source": [
    "#soma comercio h/m\n",
    "cor07hsum = cor07h['total'].sum()\n",
    "cor07msum = cor07m['total'].sum()\n",
    "\n",
    "cor18hsum = cor18h['total'].sum()\n",
    "cor18msum = cor18m['total'].sum()"
   ]
  },
  {
   "cell_type": "code",
   "execution_count": null,
   "metadata": {},
   "outputs": [],
   "source": [
    "#media comercio h/m\n",
    "cor07hmean = cor07h['Vl Remun Média (SM)'].mean()\n",
    "cor07mmean = cor07m['Vl Remun Média (SM)'].mean()\n",
    "\n",
    "cor18hmean = cor18h['Vl Remun Média (SM)'].mean()\n",
    "cor18mmean = cor18m['Vl Remun Média (SM)'].mean()"
   ]
  },
  {
   "cell_type": "code",
   "execution_count": null,
   "metadata": {},
   "outputs": [],
   "source": [
    "#soma setor publico h/m\n",
    "pub07hsum = ind07h['total'].sum()\n",
    "pub07msum = ind07m['total'].sum()\n",
    "\n",
    "pub18hsum = ind18h['total'].sum()\n",
    "pub18msum = ind18m['total'].sum()"
   ]
  },
  {
   "cell_type": "code",
   "execution_count": null,
   "metadata": {},
   "outputs": [],
   "source": [
    "#media setor publico h/m\n",
    "pub07hmean = pub07h['Vl Remun Média (SM)'].mean()\n",
    "pub07mmean = pub07m['Vl Remun Média (SM)'].mean()\n",
    "\n",
    "pub18hmean = pub18h['Vl Remun Média (SM)'].mean()\n",
    "pub18mmean = pub18m['Vl Remun Média (SM)'].mean()"
   ]
  },
  {
   "cell_type": "code",
   "execution_count": null,
   "metadata": {},
   "outputs": [],
   "source": [
    "trab07h = df07.loc[df07['Sexo Trabalhador'] == 1]\n",
    "trab07m = df07.loc[df07['Sexo Trabalhador'] == 2]\n",
    "\n",
    "trab18h = df18.loc[df18['Sexo Trabalhador'] == 1]\n",
    "trab18m = df18.loc[df18['Sexo Trabalhador'] == 2]\n"
   ]
  },
  {
   "cell_type": "code",
   "execution_count": null,
   "metadata": {},
   "outputs": [],
   "source": [
    "trab07hmean = trab07h['Vl Remun Média (SM)'].mean()\n",
    "trab07mmean = trab07m['Vl Remun Média (SM)'].mean()\n",
    "\n",
    "trab18hmean = trab18h['Vl Remun Média (SM)'].mean()\n",
    "trab18mmean = trab18m['Vl Remun Média (SM)'].mean()"
   ]
  },
  {
   "cell_type": "code",
   "execution_count": null,
   "metadata": {},
   "outputs": [],
   "source": [
    "mercagr07 = agr07tsoma/df07['total'].sum()\n",
    "mercind07 = ind07soma/df07['total'].sum()\n",
    "merccor07 = cor07soma/df07['total'].sum()\n",
    "mercpub07 = pub07soma/df07['total'].sum()"
   ]
  },
  {
   "cell_type": "code",
   "execution_count": null,
   "metadata": {},
   "outputs": [],
   "source": [
    "mercagr18 = agr18tsoma/df18['total'].sum()\n",
    "mercind18 = ind18soma/df18['total'].sum()\n",
    "merccor18 = cor18soma/df18['total'].sum()\n",
    "mercpub18 = pub18soma/df18['total'].sum()"
   ]
  },
  {
   "cell_type": "code",
   "execution_count": null,
   "metadata": {},
   "outputs": [],
   "source": [
    "soma07 = agr07tsoma+cor07soma+ind07soma+pub07soma\n",
    "soma18 = agr18tsoma+cor18soma+ind18soma+pub18soma"
   ]
  },
  {
   "cell_type": "code",
   "execution_count": null,
   "metadata": {},
   "outputs": [],
   "source": [
    "soma07var = mercagr07+merccor07+mercind07+mercpub07\n",
    "soma18var = mercagr18+merccor18+mercind18+mercpub18"
   ]
  },
  {
   "cell_type": "code",
   "execution_count": null,
   "metadata": {},
   "outputs": [],
   "source": [
    "serie1t = pd.Series ({'': 'Agricultura', '2007': agr07tsoma, '2018': agr18tsoma, 'Variação': (agr18tsoma-agr07tsoma)/agr07tsoma, '% em 2007': mercagr07, '% em 2018': mercagr18, 'crescimento': mercagr18-mercagr07, 'Média SM 2007': agr07tmean, 'Média SM 2018':agr18tmean, 'Média SM Homens em 2007': agr07hmean, 'Média SM mulheres em 2007': agr07mmean, 'Média SM Homens em 2018': agr18hmean, 'Média SM mulheres em 2018': agr18mmean})\n",
    "serie2t = pd.Series ({'': 'Comércio e Serviços','2007': cor07soma, '2018': cor18soma, 'Variação': (cor18soma-cor07soma)/cor07soma, '% em 2007': merccor07, '% em 2018': merccor18, 'crescimento': merccor18-merccor07, 'Média SM 2007': cor07mean, 'Média SM 2018':cor18mean, 'Média SM Homens em 2007': cor07hmean, 'Média SM mulheres em 2007': cor07mmean, 'Média SM Homens em 2018': cor18hmean, 'Média SM mulheres em 2018': cor18mmean})\n",
    "serie3t = pd.Series ({'': 'Industria','2007': ind07soma, '2018': ind18soma, 'Variação': (ind18soma-ind07soma)/ind07soma, '% em 2007': mercind07, '% em 2018': mercind18, 'crescimento': mercind18-mercind07, 'Média SM 2007': ind07mean, 'Média SM 2018':ind18mean, 'Média SM Homens em 2007': ind07hmean, 'Média SM mulheres em 2007': ind07mmean, 'Média SM Homens em 2018': ind18hmean, 'Média SM mulheres em 2018': ind18mmean})\n",
    "serie4t = pd.Series ({'': 'Setor Público','2007': pub07soma, '2018': pub08soma, 'Variação': (pub18soma-pub07soma)/pub07soma, '% em 2007': mercpub07, '% em 2018': mercpub18, 'crescimento': mercpub18-mercpub07, 'Média SM 2007': pub07mean, 'Média SM 2018':pub18mean, 'Média SM Homens em 2007': pub07hmean, 'Média SM mulheres em 2007': pub07mmean, 'Média SM Homens em 2018': pub18hmean, 'Média SM mulheres em 2018': pub18mmean})\n",
    "\n",
    "serie5t = pd.Series ({'': 'total','2007': soma07, '2018': soma18, 'Variação': (soma18-soma07)/soma07, '% em 2007': soma07var, '% em 2018': soma18var, 'crescimento': '-', 'Média SM 2007': df07['Vl Remun Média (SM)'].mean(), 'Média SM 2018':df18['Vl Remun Média (SM)'].mean() , 'Média SM Homens em 2007': trab07hmean , 'Média SM mulheres em 2007': trab07mmean, 'Média SM Homens em 2018': trab18hmean, 'Média SM mulheres em 2018': trab18mmean})\n"
   ]
  },
  {
   "cell_type": "code",
   "execution_count": null,
   "metadata": {},
   "outputs": [],
   "source": [
    "tabela2 = pd.DataFrame([serie1t, serie2t, serie3t, serie4t, serie5t])"
   ]
  },
  {
   "cell_type": "code",
   "execution_count": null,
   "metadata": {},
   "outputs": [],
   "source": [
    "tabela2_excel = tabela2.to_excel('tabela2.xls', index=False)"
   ]
  },
  {
   "cell_type": "code",
   "execution_count": null,
   "metadata": {},
   "outputs": [],
   "source": [
    "df18['total'].sum()"
   ]
  },
  {
   "cell_type": "code",
   "execution_count": null,
   "metadata": {},
   "outputs": [],
   "source": [
    "mediatotal18h = df18h['Vl Remun Média (SM)'].mean()\n",
    "mediatotal17h = df17h['Vl Remun Média (SM)'].mean()\n",
    "mediatotal16h = df16h['Vl Remun Média (SM)'].mean()\n",
    "mediatotal15h = df15h['Vl Remun Média (SM)'].mean()\n",
    "mediatotal14h = df14h['Vl Remun Média (SM)'].mean()\n",
    "mediatotal13h = df13h['Vl Remun Média (SM)'].mean()\n",
    "mediatotal12h = df12h['Vl Remun Média (SM)'].mean()\n",
    "mediatotal11h = df11h['Vl Remun Média (SM)'].mean()\n",
    "mediatotal10h = df10h['Vl Remun Média (SM)'].mean()\n",
    "mediatotal09h = df09h['Vl Remun Média (SM)'].mean()\n",
    "mediatotal08h = df08h['Vl Remun Média (SM)'].mean()\n",
    "mediatotal07h = df07h['Vl Remun Média (SM)'].mean()"
   ]
  },
  {
   "cell_type": "code",
   "execution_count": null,
   "metadata": {},
   "outputs": [],
   "source": [
    "mediatotal18m = df18m['Vl Remun Média (SM)'].mean()\n",
    "mediatotal17m = df17m['Vl Remun Média (SM)'].mean()\n",
    "mediatotal16m = df16m['Vl Remun Média (SM)'].mean()\n",
    "mediatotal15m = df15m['Vl Remun Média (SM)'].mean()\n",
    "mediatotal14m = df14m['Vl Remun Média (SM)'].mean()\n",
    "mediatotal13m = df13m['Vl Remun Média (SM)'].mean()\n",
    "mediatotal12m = df12m['Vl Remun Média (SM)'].mean()\n",
    "mediatotal11m = df11m['Vl Remun Média (SM)'].mean()\n",
    "mediatotal10m = df10m['Vl Remun Média (SM)'].mean()\n",
    "mediatotal09m = df09m['Vl Remun Média (SM)'].mean()\n",
    "mediatotal08m = df08m['Vl Remun Média (SM)'].mean()\n",
    "mediatotal07m = df07m['Vl Remun Média (SM)'].mean()"
   ]
  },
  {
   "cell_type": "code",
   "execution_count": null,
   "metadata": {},
   "outputs": [],
   "source": [
    "mediatotal07h = round(mediatotal07h, 3)\n",
    "mediatotal08h = round(mediatotal08h, 3)\n",
    "mediatotal09h = round(mediatotal09h, 3)\n",
    "mediatotal10h = round(mediatotal10h, 3)\n",
    "mediatotal11h = round(mediatotal11h, 3)\n",
    "mediatotal12h = round(mediatotal12h, 3)\n",
    "mediatotal13h = round(mediatotal13h, 3)\n",
    "mediatotal14h = round(mediatotal14h, 3)\n",
    "mediatotal15h = round(mediatotal15h, 3)\n",
    "mediatotal16h = round(mediatotal16h, 4)\n",
    "mediatotal17h = round(mediatotal17h, 3)\n",
    "mediatotal18h = round(mediatotal18h, 3)"
   ]
  },
  {
   "cell_type": "code",
   "execution_count": 17,
   "metadata": {},
   "outputs": [
    {
     "ename": "NameError",
     "evalue": "name 'mediatotal07m' is not defined",
     "output_type": "error",
     "traceback": [
      "\u001b[1;31m---------------------------------------------------------------------------\u001b[0m",
      "\u001b[1;31mNameError\u001b[0m                                 Traceback (most recent call last)",
      "\u001b[1;32m<ipython-input-17-7995b439d36c>\u001b[0m in \u001b[0;36m<module>\u001b[1;34m\u001b[0m\n\u001b[1;32m----> 1\u001b[1;33m \u001b[0mmediatotal07m\u001b[0m \u001b[1;33m=\u001b[0m \u001b[0mround\u001b[0m\u001b[1;33m(\u001b[0m\u001b[0mmediatotal07m\u001b[0m\u001b[1;33m,\u001b[0m \u001b[1;36m3\u001b[0m\u001b[1;33m)\u001b[0m\u001b[1;33m\u001b[0m\u001b[1;33m\u001b[0m\u001b[0m\n\u001b[0m\u001b[0;32m      2\u001b[0m \u001b[0mmediatotal08m\u001b[0m \u001b[1;33m=\u001b[0m \u001b[0mround\u001b[0m\u001b[1;33m(\u001b[0m\u001b[0mmediatotal08m\u001b[0m\u001b[1;33m,\u001b[0m \u001b[1;36m3\u001b[0m\u001b[1;33m)\u001b[0m\u001b[1;33m\u001b[0m\u001b[1;33m\u001b[0m\u001b[0m\n\u001b[0;32m      3\u001b[0m \u001b[0mmediatotal09m\u001b[0m \u001b[1;33m=\u001b[0m \u001b[0mround\u001b[0m\u001b[1;33m(\u001b[0m\u001b[0mmediatotal09m\u001b[0m\u001b[1;33m,\u001b[0m \u001b[1;36m3\u001b[0m\u001b[1;33m)\u001b[0m\u001b[1;33m\u001b[0m\u001b[1;33m\u001b[0m\u001b[0m\n\u001b[0;32m      4\u001b[0m \u001b[0mmediatotal10m\u001b[0m \u001b[1;33m=\u001b[0m \u001b[0mround\u001b[0m\u001b[1;33m(\u001b[0m\u001b[0mmediatotal10m\u001b[0m\u001b[1;33m,\u001b[0m \u001b[1;36m3\u001b[0m\u001b[1;33m)\u001b[0m\u001b[1;33m\u001b[0m\u001b[1;33m\u001b[0m\u001b[0m\n\u001b[0;32m      5\u001b[0m \u001b[0mmediatotal11m\u001b[0m \u001b[1;33m=\u001b[0m \u001b[0mround\u001b[0m\u001b[1;33m(\u001b[0m\u001b[0mmediatotal11m\u001b[0m\u001b[1;33m,\u001b[0m \u001b[1;36m3\u001b[0m\u001b[1;33m)\u001b[0m\u001b[1;33m\u001b[0m\u001b[1;33m\u001b[0m\u001b[0m\n",
      "\u001b[1;31mNameError\u001b[0m: name 'mediatotal07m' is not defined"
     ]
    }
   ],
   "source": [
    "mediatotal07m = round(mediatotal07m, 3)\n",
    "mediatotal08m = round(mediatotal08m, 3)\n",
    "mediatotal09m = round(mediatotal09m, 3)\n",
    "mediatotal10m = round(mediatotal10m, 3)\n",
    "mediatotal11m = round(mediatotal11m, 3)\n",
    "mediatotal12m = round(mediatotal12m, 3)\n",
    "mediatotal13m = round(mediatotal13m, 3)\n",
    "mediatotal14m = round(mediatotal14m, 3)\n",
    "mediatotal15m = round(mediatotal15m, 3)\n",
    "mediatotal16m = round(mediatotal16m, 3)\n",
    "mediatotal17m = round(mediatotal17m, 3)\n",
    "mediatotal18m = round(mediatotal18m, 3)"
   ]
  },
  {
   "cell_type": "code",
   "execution_count": null,
   "metadata": {},
   "outputs": [],
   "source": [
    "mediatotal18 = df18['Vl Remun Média (SM)'].mean()\n",
    "mediatotal17 = df17['Vl Remun Média (SM)'].mean()\n",
    "mediatotal16 = df16['Vl Remun Média (SM)'].mean()\n",
    "mediatotal15 = df15['Vl Remun Média (SM)'].mean()\n",
    "mediatotal14 = df14['Vl Remun Média (SM)'].mean()\n",
    "mediatotal13 = df13['Vl Remun Média (SM)'].mean()\n",
    "mediatotal12 = df12['Vl Remun Média (SM)'].mean()\n",
    "mediatotal11 = df11['Vl Remun Média (SM)'].mean()\n",
    "mediatotal10 = df10['Vl Remun Média (SM)'].mean()\n",
    "mediatotal09 = df09['Vl Remun Média (SM)'].mean()\n",
    "mediatotal08 = df08['Vl Remun Média (SM)'].mean()\n",
    "mediatotal07 = df07['Vl Remun Média (SM)'].mean()"
   ]
  },
  {
   "cell_type": "code",
   "execution_count": null,
   "metadata": {},
   "outputs": [],
   "source": [
    "mediat = [mediatotal07, mediatotal08, mediatotal09, mediatotal10, mediatotal11, mediatotal12, mediatotal13, mediatotal14, mediatotal15, mediatotal16, mediatotal17, mediatotal18]"
   ]
  },
  {
   "cell_type": "code",
   "execution_count": null,
   "metadata": {},
   "outputs": [],
   "source": [
    "mediah = [mediatotal07h, mediatotal08h, mediatotal09h, mediatotal10h, mediatotal11h, mediatotal12h, mediatotal13h, mediatotal14h, mediatotal15h, mediatotal16h, mediatotal17h, mediatotal18h]"
   ]
  },
  {
   "cell_type": "code",
   "execution_count": null,
   "metadata": {},
   "outputs": [],
   "source": [
    "mediam = [mediatotal07m, mediatotal08m, mediatotal09m, mediatotal10m, mediatotal11m, mediatotal12m, mediatotal13m, mediatotal14m, mediatotal15m, mediatotal16m, mediatotal17m, mediatotal18m]"
   ]
  },
  {
   "cell_type": "code",
   "execution_count": null,
   "metadata": {},
   "outputs": [],
   "source": [
    "dif_med = 1-(mediatotal07m/mediatotal07h)"
   ]
  },
  {
   "cell_type": "code",
   "execution_count": null,
   "metadata": {},
   "outputs": [],
   "source": [
    "dif_med2 = 1-(mediatotal18m/mediatotal18h)"
   ]
  },
  {
   "cell_type": "code",
   "execution_count": null,
   "metadata": {},
   "outputs": [],
   "source": [
    "fig = plt.subplots(figsize=(10, 7))\n",
    "\n",
    "plt.plot (anos, mediah, label='Homens', marker='*', color='red')\n",
    "plt.plot (anos, mediam, label='Mulheres', marker='o', color='blue')\n",
    "#plt.plot (anos, mediat, label='Paraíba', marker='>', color='green')\n",
    "\n",
    "plt.title('Gráfico 9 - Média de salários mínimos por gênero \\n na Paraíba entre 2007 e 2018', **title_font)\n",
    "\n",
    "\n",
    "plt.annotate ('', xy=(120, 350), xycoords='figure points',xytext=(120, 120),\n",
    "            arrowprops=dict(arrowstyle=\"|-|\", connectionstyle=\"arc3\", color='black'))\n",
    "plt.annotate ((f'diferença de {dif_med:.2%}'), xy=(100, 350), xycoords='figure points',xytext=(130, 240), **legenda)\n",
    "\n",
    "\n",
    "plt.annotate ('', xy=(620, 250), xycoords='figure points',xytext=(620, 180),\n",
    "            arrowprops=dict(arrowstyle=\"|-|\", connectionstyle=\"arc3\", color='black'))\n",
    "plt.annotate ((f'diferença de {dif_med2:.2%}'), xy=(475, 200), xycoords='figure points',xytext=(500, 210), **legenda)\n",
    "\n",
    "\n",
    "plt.rcParams['xtick.labelsize'] = 11\n",
    "plt.rcParams['ytick.labelsize'] = 11\n",
    "\n",
    "\n",
    "plt.xticks(**ticks_font)\n",
    "plt.yticks (**ticks_font)\n",
    "\n",
    "plt.annotate('Fonte: Elaboração própria extraidos do RAIS (2020).', xy=(45, 5), xycoords='figure pixels', **legenda)\n",
    "plt.legend()\n",
    "plt.grid()\n",
    "plt.savefig ('grafico9.png')\n",
    "plt.show()"
   ]
  },
  {
   "cell_type": "code",
   "execution_count": null,
   "metadata": {},
   "outputs": [],
   "source": [
    "#diferença entre salarios dos homens no tempo\n",
    "(mediatotal18h-mediatotal07h)/mediatotal07h"
   ]
  },
  {
   "cell_type": "code",
   "execution_count": null,
   "metadata": {},
   "outputs": [],
   "source": [
    "#diferença entre salarios dos homens de 2007 até 2010\n",
    "((mediatotal10h-mediatotal07h)/mediatotal07h)*100"
   ]
  },
  {
   "cell_type": "code",
   "execution_count": null,
   "metadata": {},
   "outputs": [],
   "source": [
    "#diferença entre salarios das mulheres de 2007 até 2010\n",
    "((mediatotal10m-mediatotal07m)/mediatotal07m)*100"
   ]
  },
  {
   "cell_type": "code",
   "execution_count": null,
   "metadata": {},
   "outputs": [],
   "source": [
    "#diferença entre salarios dos homens de 2010 até 2013\n",
    "((mediatotal13h-mediatotal10h)/mediatotal10h)*100"
   ]
  },
  {
   "cell_type": "code",
   "execution_count": null,
   "metadata": {},
   "outputs": [],
   "source": [
    "#diferença entre salarios dos homens de 2010 até 2013\n",
    "((mediatotal13m-mediatotal10m)/mediatotal10m)*100"
   ]
  },
  {
   "cell_type": "code",
   "execution_count": null,
   "metadata": {},
   "outputs": [],
   "source": [
    "#diferença entre salarios dos homens de 2007 até 2010\n",
    "((mediatotal18h-mediatotal13h)/mediatotal13h)*100"
   ]
  },
  {
   "cell_type": "code",
   "execution_count": null,
   "metadata": {},
   "outputs": [],
   "source": [
    "#diferença entre salarios dos homens de 2007 até 2010\n",
    "((mediatotal18m-mediatotal13m)/mediatotal13m)*100"
   ]
  },
  {
   "cell_type": "code",
   "execution_count": null,
   "metadata": {},
   "outputs": [],
   "source": [
    "#diferença entre salarios das mulheres no tempo\n",
    "(mediatotal18m-mediatotal07m)/mediatotal07m"
   ]
  },
  {
   "cell_type": "code",
   "execution_count": null,
   "metadata": {},
   "outputs": [],
   "source": [
    "(mediatotal18h-mediatotal16h)/mediatotal16h"
   ]
  },
  {
   "cell_type": "code",
   "execution_count": null,
   "metadata": {},
   "outputs": [],
   "source": [
    "(mediatotal18m-mediatotal16m)/mediatotal16m"
   ]
  },
  {
   "cell_type": "code",
   "execution_count": null,
   "metadata": {},
   "outputs": [],
   "source": [
    "#agrupar grau de escolaridade mulheres\n",
    "def escolaridade(s):\n",
    "  if s <= 4:\n",
    "    return 'baixa instrução'\n",
    "  if s <= 6:\n",
    "    return 'fundamental'\n",
    "  if s <= 8:\n",
    "    return 'médio'\n",
    "  if s > 8 :\n",
    "    return 'superior'\n",
    "  else:\n",
    "    return 'S/E'"
   ]
  },
  {
   "cell_type": "code",
   "execution_count": 18,
   "metadata": {},
   "outputs": [
    {
     "ename": "NameError",
     "evalue": "name 'df07' is not defined",
     "output_type": "error",
     "traceback": [
      "\u001b[1;31m---------------------------------------------------------------------------\u001b[0m",
      "\u001b[1;31mNameError\u001b[0m                                 Traceback (most recent call last)",
      "\u001b[1;32m<ipython-input-18-3cbdaba94475>\u001b[0m in \u001b[0;36m<module>\u001b[1;34m\u001b[0m\n\u001b[1;32m----> 1\u001b[1;33m \u001b[0mdf07\u001b[0m\u001b[1;33m[\u001b[0m\u001b[1;34m'educacao'\u001b[0m\u001b[1;33m]\u001b[0m \u001b[1;33m=\u001b[0m \u001b[0mdf07\u001b[0m\u001b[1;33m[\u001b[0m\u001b[1;34m'Escolaridade após 2005'\u001b[0m\u001b[1;33m]\u001b[0m\u001b[1;33m.\u001b[0m\u001b[0mapply\u001b[0m\u001b[1;33m(\u001b[0m\u001b[0mescolaridade\u001b[0m\u001b[1;33m)\u001b[0m\u001b[1;33m\u001b[0m\u001b[1;33m\u001b[0m\u001b[0m\n\u001b[0m\u001b[0;32m      2\u001b[0m \u001b[0mdf08\u001b[0m\u001b[1;33m[\u001b[0m\u001b[1;34m'educacao'\u001b[0m\u001b[1;33m]\u001b[0m \u001b[1;33m=\u001b[0m \u001b[0mdf08\u001b[0m\u001b[1;33m[\u001b[0m\u001b[1;34m'Escolaridade após 2005'\u001b[0m\u001b[1;33m]\u001b[0m\u001b[1;33m.\u001b[0m\u001b[0mapply\u001b[0m\u001b[1;33m(\u001b[0m\u001b[0mescolaridade\u001b[0m\u001b[1;33m)\u001b[0m\u001b[1;33m\u001b[0m\u001b[1;33m\u001b[0m\u001b[0m\n\u001b[0;32m      3\u001b[0m \u001b[0mdf09\u001b[0m\u001b[1;33m[\u001b[0m\u001b[1;34m'educacao'\u001b[0m\u001b[1;33m]\u001b[0m \u001b[1;33m=\u001b[0m \u001b[0mdf09\u001b[0m\u001b[1;33m[\u001b[0m\u001b[1;34m'Escolaridade após 2005'\u001b[0m\u001b[1;33m]\u001b[0m\u001b[1;33m.\u001b[0m\u001b[0mapply\u001b[0m\u001b[1;33m(\u001b[0m\u001b[0mescolaridade\u001b[0m\u001b[1;33m)\u001b[0m\u001b[1;33m\u001b[0m\u001b[1;33m\u001b[0m\u001b[0m\n\u001b[0;32m      4\u001b[0m \u001b[0mdf10\u001b[0m\u001b[1;33m[\u001b[0m\u001b[1;34m'educacao'\u001b[0m\u001b[1;33m]\u001b[0m \u001b[1;33m=\u001b[0m \u001b[0mdf10\u001b[0m\u001b[1;33m[\u001b[0m\u001b[1;34m'Escolaridade após 2005'\u001b[0m\u001b[1;33m]\u001b[0m\u001b[1;33m.\u001b[0m\u001b[0mapply\u001b[0m\u001b[1;33m(\u001b[0m\u001b[0mescolaridade\u001b[0m\u001b[1;33m)\u001b[0m\u001b[1;33m\u001b[0m\u001b[1;33m\u001b[0m\u001b[0m\n\u001b[0;32m      5\u001b[0m \u001b[0mdf11\u001b[0m\u001b[1;33m[\u001b[0m\u001b[1;34m'educacao'\u001b[0m\u001b[1;33m]\u001b[0m \u001b[1;33m=\u001b[0m \u001b[0mdf11\u001b[0m\u001b[1;33m[\u001b[0m\u001b[1;34m'Escolaridade após 2005'\u001b[0m\u001b[1;33m]\u001b[0m\u001b[1;33m.\u001b[0m\u001b[0mapply\u001b[0m\u001b[1;33m(\u001b[0m\u001b[0mescolaridade\u001b[0m\u001b[1;33m)\u001b[0m\u001b[1;33m\u001b[0m\u001b[1;33m\u001b[0m\u001b[0m\n",
      "\u001b[1;31mNameError\u001b[0m: name 'df07' is not defined"
     ]
    }
   ],
   "source": [
    "df07['educacao'] = df07['Escolaridade após 2005'].apply(escolaridade)\n",
    "df08['educacao'] = df08['Escolaridade após 2005'].apply(escolaridade)\n",
    "df09['educacao'] = df09['Escolaridade após 2005'].apply(escolaridade)\n",
    "df10['educacao'] = df10['Escolaridade após 2005'].apply(escolaridade)\n",
    "df11['educacao'] = df11['Escolaridade após 2005'].apply(escolaridade)\n",
    "df12['educacao'] = df12['Escolaridade após 2005'].apply(escolaridade)\n",
    "df13['educacao'] = df13['Escolaridade após 2005'].apply(escolaridade)\n",
    "df14['educacao'] = df14['Escolaridade após 2005'].apply(escolaridade)\n",
    "df15['educacao'] = df15['Escolaridade após 2005'].apply(escolaridade)\n",
    "df16['educacao'] = df16['Escolaridade após 2005'].apply(escolaridade)\n",
    "df17['educacao'] = df17['Escolaridade após 2005'].apply(escolaridade)\n",
    "df18['educacao'] = df18['Escolaridade após 2005'].apply(escolaridade)"
   ]
  },
  {
   "cell_type": "code",
   "execution_count": null,
   "metadata": {},
   "outputs": [],
   "source": [
    "df18h = df18.loc[df18['Sexo Trabalhador'] == 1]\n",
    "df17h = df17.loc[df17['Sexo Trabalhador'] == 1]\n",
    "df16h = df16.loc[df16['Sexo Trabalhador'] == 1]\n",
    "df15h = df15.loc[df15['Sexo Trabalhador'] == 1]\n",
    "df14h = df14.loc[df14['Sexo Trabalhador'] == 1]\n",
    "df13h = df13.loc[df13['Sexo Trabalhador'] == 1]\n",
    "df12h = df12.loc[df12['Sexo Trabalhador'] == 1]\n",
    "df11h = df11.loc[df11['Sexo Trabalhador'] == 1]\n",
    "df10h = df10.loc[df10['Sexo Trabalhador'] == 1]\n",
    "df09h = df09.loc[df09['Sexo Trabalhador'] == 1]\n",
    "df08h = df08.loc[df08['Sexo Trabalhador'] == 1]\n",
    "df07h = df07.loc[df07['Sexo Trabalhador'] == 1]\n"
   ]
  },
  {
   "cell_type": "code",
   "execution_count": null,
   "metadata": {},
   "outputs": [],
   "source": [
    "df18m = df18.loc[df18['Sexo Trabalhador'] == 2]\n",
    "df17m = df17.loc[df17['Sexo Trabalhador'] == 2]\n",
    "df16m = df16.loc[df16['Sexo Trabalhador'] == 2]\n",
    "df15m = df15.loc[df15['Sexo Trabalhador'] == 2]\n",
    "df14m = df14.loc[df14['Sexo Trabalhador'] == 2]\n",
    "df13m = df13.loc[df13['Sexo Trabalhador'] == 2]\n",
    "df12m = df12.loc[df12['Sexo Trabalhador'] == 2]\n",
    "df11m = df11.loc[df11['Sexo Trabalhador'] == 2]\n",
    "df10m = df10.loc[df10['Sexo Trabalhador'] == 2]\n",
    "df09m = df09.loc[df09['Sexo Trabalhador'] == 2]\n",
    "df08m = df08.loc[df08['Sexo Trabalhador'] == 2]\n",
    "df07m = df07.loc[df07['Sexo Trabalhador'] == 2]"
   ]
  },
  {
   "cell_type": "code",
   "execution_count": null,
   "metadata": {},
   "outputs": [],
   "source": [
    "#mulheres baixa instrução\n",
    "baixa18m = df18m[df18m['educacao'] == 'baixa instrução']\n",
    "baixa17m = df17m[df17m['educacao'] == 'baixa instrução']\n",
    "baixa16m = df16m[df16m['educacao'] == 'baixa instrução']\n",
    "baixa15m = df15m[df15m['educacao'] == 'baixa instrução']\n",
    "baixa14m = df14m[df14m['educacao'] == 'baixa instrução']\n",
    "baixa13m = df13m[df13m['educacao'] == 'baixa instrução']\n",
    "baixa12m = df12m[df12m['educacao'] == 'baixa instrução']\n",
    "baixa11m = df11m[df11m['educacao'] == 'baixa instrução']\n",
    "baixa10m = df10m[df10m['educacao'] == 'baixa instrução']\n",
    "baixa09m = df09m[df09m['educacao'] == 'baixa instrução']\n",
    "baixa08m = df08m[df08m['educacao'] == 'baixa instrução']\n",
    "baixa07m = df07m[df07m['educacao'] == 'baixa instrução']"
   ]
  },
  {
   "cell_type": "code",
   "execution_count": null,
   "metadata": {},
   "outputs": [],
   "source": [
    "#homens baixa instrução\n",
    "baixa18h = df18h[df18h['educacao'] == 'baixa instrução']\n",
    "baixa17h = df17h[df17h['educacao'] == 'baixa instrução']\n",
    "baixa16h = df16h[df16h['educacao'] == 'baixa instrução']\n",
    "baixa15h = df15h[df15h['educacao'] == 'baixa instrução']\n",
    "baixa14h = df14h[df14h['educacao'] == 'baixa instrução']\n",
    "baixa13h = df13h[df13h['educacao'] == 'baixa instrução']\n",
    "baixa12h = df12h[df12h['educacao'] == 'baixa instrução']\n",
    "baixa11h = df11h[df11h['educacao'] == 'baixa instrução']\n",
    "baixa10h = df10h[df10h['educacao'] == 'baixa instrução']\n",
    "baixa09h = df09h[df09h['educacao'] == 'baixa instrução']\n",
    "baixa08h = df08h[df08h['educacao'] == 'baixa instrução']\n",
    "baixa07h = df07h[df07h['educacao'] == 'baixa instrução']"
   ]
  },
  {
   "cell_type": "code",
   "execution_count": null,
   "metadata": {},
   "outputs": [],
   "source": [
    "#mulheres fundamental\n",
    "funda18m = df18m[df18m['educacao'] == 'fundamental']\n",
    "funda17m = df17m[df17m['educacao'] == 'fundamental']\n",
    "funda16m = df16m[df16m['educacao'] == 'fundamental']\n",
    "funda15m = df15m[df15m['educacao'] == 'fundamental']\n",
    "funda14m = df14m[df14m['educacao'] == 'fundamental']\n",
    "funda13m = df13m[df13m['educacao'] == 'fundamental']\n",
    "funda12m = df12m[df12m['educacao'] == 'fundamental']\n",
    "funda11m = df11m[df11m['educacao'] == 'fundamental']\n",
    "funda10m = df10m[df10m['educacao'] == 'fundamental']\n",
    "funda09m = df09m[df09m['educacao'] == 'fundamental']\n",
    "funda08m = df08m[df08m['educacao'] == 'fundamental']\n",
    "funda07m = df07m[df07m['educacao'] == 'fundamental']"
   ]
  },
  {
   "cell_type": "code",
   "execution_count": null,
   "metadata": {},
   "outputs": [],
   "source": [
    "#homens fundamental\n",
    "funda18h = df18h[df18h['educacao'] == 'fundamental']\n",
    "funda17h = df17h[df17h['educacao'] == 'fundamental']\n",
    "funda16h = df16h[df16h['educacao'] == 'fundamental']\n",
    "funda15h = df15h[df15h['educacao'] == 'fundamental']\n",
    "funda14h = df14h[df14h['educacao'] == 'fundamental']\n",
    "funda13h = df13h[df13h['educacao'] == 'fundamental']\n",
    "funda12h = df12h[df12h['educacao'] == 'fundamental']\n",
    "funda11h = df11h[df11h['educacao'] == 'fundamental']\n",
    "funda10h = df10h[df10h['educacao'] == 'fundamental']\n",
    "funda09h = df09h[df09h['educacao'] == 'fundamental']\n",
    "funda08h = df08h[df08h['educacao'] == 'fundamental']\n",
    "funda07h = df07h[df07h['educacao'] == 'fundamental']"
   ]
  },
  {
   "cell_type": "code",
   "execution_count": null,
   "metadata": {},
   "outputs": [],
   "source": [
    "#mulheres ensino médio\n",
    "medio18m = df18m[df18m['educacao'] == 'Médio']\n",
    "medio17m = df17m[df17m['educacao'] == 'Médio']\n",
    "medio16m = df16m[df16m['educacao'] == 'Médio']\n",
    "medio15m = df15m[df15m['educacao'] == 'Médio']\n",
    "medio14m = df14m[df14m['educacao'] == 'Médio']\n",
    "medio13m = df13m[df13m['educacao'] == 'Médio']\n",
    "medio12m = df12m[df12m['educacao'] == 'Médio']\n",
    "medio11m = df11m[df11m['educacao'] == 'Médio']\n",
    "medio10m = df10m[df10m['educacao'] == 'Médio']\n",
    "medio09m = df09m[df09m['educacao'] == 'Médio']\n",
    "medio08m = df08m[df08m['educacao'] == 'Médio']\n",
    "medio07m = df07m[df07m['educacao'] == 'Médio']"
   ]
  },
  {
   "cell_type": "code",
   "execution_count": null,
   "metadata": {},
   "outputs": [],
   "source": [
    "df18m['educacao'].value_counts()"
   ]
  },
  {
   "cell_type": "code",
   "execution_count": null,
   "metadata": {},
   "outputs": [],
   "source": [
    "#homens ensino médio\n",
    "medio18h = df18h[df18h['educacao'] == 'Médio']\n",
    "medio17h = df17h[df17h['educacao'] == 'Médio']\n",
    "medio16h = df16h[df16h['educacao'] == 'Médio']\n",
    "medio15h = df15h[df15h['educacao'] == 'Médio']\n",
    "medio14h = df14h[df14h['educacao'] == 'Médio']\n",
    "medio13h = df13h[df13h['educacao'] == 'Médio']\n",
    "medio12h = df12h[df12h['educacao'] == 'Médio']\n",
    "medio11h = df11h[df11h['educacao'] == 'Médio']\n",
    "medio10h = df10h[df10h['educacao'] == 'Médio']\n",
    "medio09h = df09h[df09h['educacao'] == 'Médio']\n",
    "medio08h = df08h[df08h['educacao'] == 'Médio']\n",
    "medio07h = df07h[df07h['educacao'] == 'Médio']"
   ]
  },
  {
   "cell_type": "code",
   "execution_count": null,
   "metadata": {},
   "outputs": [],
   "source": [
    "#mulheres superior\n",
    "super18m = df18m[df18m['educacao'] == 'superior']\n",
    "super17m = df17m[df17m['educacao'] == 'superior']\n",
    "super16m = df16m[df16m['educacao'] == 'superior']\n",
    "super15m = df15m[df15m['educacao'] == 'superior']\n",
    "super14m = df14m[df14m['educacao'] == 'superior']\n",
    "super13m = df13m[df13m['educacao'] == 'superior']\n",
    "super12m = df12m[df12m['educacao'] == 'superior']\n",
    "super11m = df11m[df11m['educacao'] == 'superior']\n",
    "super10m = df10m[df10m['educacao'] == 'superior']\n",
    "super09m = df09m[df09m['educacao'] == 'superior']\n",
    "super08m = df08m[df08m['educacao'] == 'superior']\n",
    "super07m = df07m[df07m['educacao'] == 'superior']"
   ]
  },
  {
   "cell_type": "code",
   "execution_count": null,
   "metadata": {},
   "outputs": [],
   "source": [
    "#homens da 6 a 9 serie\n",
    "super18h = df18h[df18h['educacao'] == 'superior']\n",
    "super17h = df17h[df17h['educacao'] == 'superior']\n",
    "super16h = df16h[df16h['educacao'] == 'superior']\n",
    "super15h = df15h[df15h['educacao'] == 'superior']\n",
    "super14h = df14h[df14h['educacao'] == 'superior']\n",
    "super13h = df13h[df13h['educacao'] == 'superior']\n",
    "super12h = df12h[df12h['educacao'] == 'superior']\n",
    "super11h = df11h[df11h['educacao'] == 'superior']\n",
    "super10h = df10h[df10h['educacao'] == 'superior']\n",
    "super09h = df09h[df09h['educacao'] == 'superior']\n",
    "super08h = df08h[df08h['educacao'] == 'superior']\n",
    "super07h = df07h[df07h['educacao'] == 'superior']"
   ]
  },
  {
   "cell_type": "code",
   "execution_count": null,
   "metadata": {},
   "outputs": [],
   "source": [
    "#média SM instrução baixa mulheres\n",
    "mediabaixa18m = baixa18m['Vl Remun Média (SM)'].mean()\n",
    "mediabaixa17m = baixa17m['Vl Remun Média (SM)'].mean()\n",
    "mediabaixa16m = baixa16m['Vl Remun Média (SM)'].mean()\n",
    "mediabaixa15m = baixa15m['Vl Remun Média (SM)'].mean()\n",
    "mediabaixa14m = baixa14m['Vl Remun Média (SM)'].mean()\n",
    "mediabaixa13m = baixa13m['Vl Remun Média (SM)'].mean()\n",
    "mediabaixa12m = baixa12m['Vl Remun Média (SM)'].mean()\n",
    "mediabaixa11m = baixa11m['Vl Remun Média (SM)'].mean()\n",
    "mediabaixa10m = baixa10m['Vl Remun Média (SM)'].mean()\n",
    "mediabaixa09m = baixa09m['Vl Remun Média (SM)'].mean()\n",
    "mediabaixa08m = baixa08m['Vl Remun Média (SM)'].mean()\n",
    "mediabaixa07m = baixa07m['Vl Remun Média (SM)'].mean()"
   ]
  },
  {
   "cell_type": "code",
   "execution_count": null,
   "metadata": {},
   "outputs": [],
   "source": [
    "#média SM instrução baixa homens\n",
    "mediabaixa18h = baixa18h['Vl Remun Média (SM)'].mean()\n",
    "mediabaixa17h = baixa17h['Vl Remun Média (SM)'].mean()\n",
    "mediabaixa16h = baixa16h['Vl Remun Média (SM)'].mean()\n",
    "mediabaixa15h = baixa15h['Vl Remun Média (SM)'].mean()\n",
    "mediabaixa14h = baixa14h['Vl Remun Média (SM)'].mean()\n",
    "mediabaixa13h = baixa13h['Vl Remun Média (SM)'].mean()\n",
    "mediabaixa12h = baixa12h['Vl Remun Média (SM)'].mean()\n",
    "mediabaixa11h = baixa11h['Vl Remun Média (SM)'].mean()\n",
    "mediabaixa10h = baixa10h['Vl Remun Média (SM)'].mean()\n",
    "mediabaixa09h = baixa09h['Vl Remun Média (SM)'].mean()\n",
    "mediabaixa08h = baixa08h['Vl Remun Média (SM)'].mean()\n",
    "mediabaixa07h = baixa07h['Vl Remun Média (SM)'].mean()"
   ]
  },
  {
   "cell_type": "code",
   "execution_count": null,
   "metadata": {},
   "outputs": [],
   "source": [
    "#média SM ensino fundamental mulheres\n",
    "mediafunda18m = funda18m['Vl Remun Média (SM)'].mean()\n",
    "mediafunda17m = funda17m['Vl Remun Média (SM)'].mean()\n",
    "mediafunda16m = funda16m['Vl Remun Média (SM)'].mean()\n",
    "mediafunda15m = funda15m['Vl Remun Média (SM)'].mean()\n",
    "mediafunda14m = funda14m['Vl Remun Média (SM)'].mean()\n",
    "mediafunda13m = funda13m['Vl Remun Média (SM)'].mean()\n",
    "mediafunda12m = funda12m['Vl Remun Média (SM)'].mean()\n",
    "mediafunda11m = funda11m['Vl Remun Média (SM)'].mean()\n",
    "mediafunda10m = funda10m['Vl Remun Média (SM)'].mean()\n",
    "mediafunda09m = funda09m['Vl Remun Média (SM)'].mean()\n",
    "mediafunda08m = funda08m['Vl Remun Média (SM)'].mean()\n",
    "mediafunda07m = funda07m['Vl Remun Média (SM)'].mean()"
   ]
  },
  {
   "cell_type": "code",
   "execution_count": null,
   "metadata": {},
   "outputs": [],
   "source": [
    "#média SM ensino fundamental homens\n",
    "mediafunda18h = funda18h['Vl Remun Média (SM)'].mean()\n",
    "mediafunda17h = funda17h['Vl Remun Média (SM)'].mean()\n",
    "mediafunda16h = funda16h['Vl Remun Média (SM)'].mean()\n",
    "mediafunda15h = funda15h['Vl Remun Média (SM)'].mean()\n",
    "mediafunda14h = funda14h['Vl Remun Média (SM)'].mean()\n",
    "mediafunda13h = funda13h['Vl Remun Média (SM)'].mean()\n",
    "mediafunda12h = funda12h['Vl Remun Média (SM)'].mean()\n",
    "mediafunda11h = funda11h['Vl Remun Média (SM)'].mean()\n",
    "mediafunda10h = funda10h['Vl Remun Média (SM)'].mean()\n",
    "mediafunda09h = funda09h['Vl Remun Média (SM)'].mean()\n",
    "mediafunda08h = funda08h['Vl Remun Média (SM)'].mean()\n",
    "mediafunda07h = funda07h['Vl Remun Média (SM)'].mean()"
   ]
  },
  {
   "cell_type": "code",
   "execution_count": null,
   "metadata": {},
   "outputs": [],
   "source": [
    "#média SM ensino médio mulheres\n",
    "mediamedio18m = medio18m['Vl Remun Média (SM)'].mean()\n",
    "mediamedio17m = medio17m['Vl Remun Média (SM)'].mean()\n",
    "mediamedio16m = medio16m['Vl Remun Média (SM)'].mean()\n",
    "mediamedio15m = medio15m['Vl Remun Média (SM)'].mean()\n",
    "mediamedio14m = medio14m['Vl Remun Média (SM)'].mean()\n",
    "mediamedio13m = medio13m['Vl Remun Média (SM)'].mean()\n",
    "mediamedio12m = medio12m['Vl Remun Média (SM)'].mean()\n",
    "mediamedio11m = medio11m['Vl Remun Média (SM)'].mean()\n",
    "mediamedio10m = medio10m['Vl Remun Média (SM)'].mean()\n",
    "mediamedio09m = medio09m['Vl Remun Média (SM)'].mean()\n",
    "mediamedio08m = medio08m['Vl Remun Média (SM)'].mean()\n",
    "mediamedio07m = medio07m['Vl Remun Média (SM)'].mean()"
   ]
  },
  {
   "cell_type": "code",
   "execution_count": null,
   "metadata": {},
   "outputs": [],
   "source": [
    "#media SM ensino médio homens\n",
    "mediamedio18h = medio18h['Vl Remun Média (SM)'].mean()\n",
    "mediamedio17h = medio17h['Vl Remun Média (SM)'].mean()\n",
    "mediamedio16h = medio16h['Vl Remun Média (SM)'].mean()\n",
    "mediamedio15h = medio15h['Vl Remun Média (SM)'].mean()\n",
    "mediamedio14h = medio14h['Vl Remun Média (SM)'].mean()\n",
    "mediamedio13h = medio13h['Vl Remun Média (SM)'].mean()\n",
    "mediamedio12h = medio12h['Vl Remun Média (SM)'].mean()\n",
    "mediamedio11h = medio11h['Vl Remun Média (SM)'].mean()\n",
    "mediamedio10h = medio10h['Vl Remun Média (SM)'].mean()\n",
    "mediamedio09h = medio09h['Vl Remun Média (SM)'].mean()\n",
    "mediamedio08h = medio08h['Vl Remun Média (SM)'].mean()\n",
    "mediamedio07h = medio07h['Vl Remun Média (SM)'].mean()"
   ]
  },
  {
   "cell_type": "code",
   "execution_count": null,
   "metadata": {},
   "outputs": [],
   "source": [
    "#média SM ensino superior mulheres\n",
    "mediasuper18m = super18m['Vl Remun Média (SM)'].mean()\n",
    "mediasuper17m = super17m['Vl Remun Média (SM)'].mean()\n",
    "mediasuper16m = super16m['Vl Remun Média (SM)'].mean()\n",
    "mediasuper15m = super15m['Vl Remun Média (SM)'].mean()\n",
    "mediasuper14m = super14m['Vl Remun Média (SM)'].mean()\n",
    "mediasuper13m = super13m['Vl Remun Média (SM)'].mean()\n",
    "mediasuper12m = super12m['Vl Remun Média (SM)'].mean()\n",
    "mediasuper11m = super11m['Vl Remun Média (SM)'].mean()\n",
    "mediasuper10m = super10m['Vl Remun Média (SM)'].mean()\n",
    "mediasuper09m = super09m['Vl Remun Média (SM)'].mean()\n",
    "mediasuper08m = super08m['Vl Remun Média (SM)'].mean()\n",
    "mediasuper07m = super07m['Vl Remun Média (SM)'].mean()"
   ]
  },
  {
   "cell_type": "code",
   "execution_count": null,
   "metadata": {},
   "outputs": [],
   "source": [
    "#média SM ensino superior homens\n",
    "mediasuper18h = super18h['Vl Remun Média (SM)'].mean()\n",
    "mediasuper17h = super17h['Vl Remun Média (SM)'].mean()\n",
    "mediasuper16h = super16h['Vl Remun Média (SM)'].mean()\n",
    "mediasuper15h = super15h['Vl Remun Média (SM)'].mean()\n",
    "mediasuper14h = super14h['Vl Remun Média (SM)'].mean()\n",
    "mediasuper13h = super13h['Vl Remun Média (SM)'].mean()\n",
    "mediasuper12h = super12h['Vl Remun Média (SM)'].mean()\n",
    "mediasuper11h = super11h['Vl Remun Média (SM)'].mean()\n",
    "mediasuper10h = super10h['Vl Remun Média (SM)'].mean()\n",
    "mediasuper09h = super09h['Vl Remun Média (SM)'].mean()\n",
    "mediasuper08h = super08h['Vl Remun Média (SM)'].mean()\n",
    "mediasuper07h = super07h['Vl Remun Média (SM)'].mean()"
   ]
  },
  {
   "cell_type": "code",
   "execution_count": null,
   "metadata": {},
   "outputs": [],
   "source": [
    "baixa_instrucaom = [mediabaixa07m, mediabaixa08m, mediabaixa09m, mediabaixa10m, mediabaixa11m, mediabaixa12m, mediabaixa13m, mediabaixa14m,\n",
    "                  mediabaixa15m, mediabaixa16m, mediabaixa17m, mediabaixa18m]"
   ]
  },
  {
   "cell_type": "code",
   "execution_count": 19,
   "metadata": {},
   "outputs": [
    {
     "ename": "NameError",
     "evalue": "name 'mediabaixa07h' is not defined",
     "output_type": "error",
     "traceback": [
      "\u001b[1;31m---------------------------------------------------------------------------\u001b[0m",
      "\u001b[1;31mNameError\u001b[0m                                 Traceback (most recent call last)",
      "\u001b[1;32m<ipython-input-19-238dde24d01e>\u001b[0m in \u001b[0;36m<module>\u001b[1;34m\u001b[0m\n\u001b[1;32m----> 1\u001b[1;33m baixa_instrucaoh = [mediabaixa07h, mediabaixa08h, mediabaixa09h, mediabaixa10h, mediabaixa11h, mediabaixa12h, mediabaixa13h, mediabaixa14m,\n\u001b[0m\u001b[0;32m      2\u001b[0m                   mediabaixa15h, mediabaixa16h, mediabaixa17h, mediabaixa18h]\n",
      "\u001b[1;31mNameError\u001b[0m: name 'mediabaixa07h' is not defined"
     ]
    }
   ],
   "source": [
    "baixa_instrucaoh = [mediabaixa07h, mediabaixa08h, mediabaixa09h, mediabaixa10h, mediabaixa11h, mediabaixa12h, mediabaixa13h, mediabaixa14m,\n",
    "                  mediabaixa15h, mediabaixa16h, mediabaixa17h, mediabaixa18h]"
   ]
  },
  {
   "cell_type": "code",
   "execution_count": null,
   "metadata": {},
   "outputs": [],
   "source": [
    "fundamentalm = [mediafunda07m, mediafunda08m, mediafunda09m, mediafunda10m, mediafunda11m, mediafunda12m, mediafunda13m, mediafunda14m,\n",
    "              mediafunda15m, mediafunda16m, mediafunda17m, mediafunda18m]"
   ]
  },
  {
   "cell_type": "code",
   "execution_count": null,
   "metadata": {},
   "outputs": [],
   "source": [
    "fundamentalh = [mediafunda07h, mediafunda08h, mediafunda09h, mediafunda10h, mediafunda11h, mediafunda12h, mediafunda13h, mediafunda14h,\n",
    "              mediafunda15h, mediafunda16h, mediafunda17h, mediafunda18h]"
   ]
  },
  {
   "cell_type": "code",
   "execution_count": null,
   "metadata": {},
   "outputs": [],
   "source": [
    "mediom = [mediamedio07m, mediamedio08m, mediamedio09m, mediamedio10m, mediamedio11m, mediamedio12m, mediamedio13m, mediamedio14m,\n",
    "        mediamedio15m, mediamedio16m, mediamedio17m, mediamedio18m]"
   ]
  },
  {
   "cell_type": "code",
   "execution_count": null,
   "metadata": {},
   "outputs": [],
   "source": [
    "medioh = [mediamedio07h, mediamedio08h, mediamedio09h, mediamedio10h, mediamedio11h, mediamedio12h, mediamedio13h, mediamedio14h,\n",
    "        mediamedio15h, mediamedio16h, mediamedio17h, mediamedio18h]"
   ]
  },
  {
   "cell_type": "code",
   "execution_count": null,
   "metadata": {},
   "outputs": [],
   "source": [
    "superiorm = [mediasuper07m, mediasuper08m, mediasuper09m, mediasuper10m, mediasuper11m, mediasuper12m, mediasuper13m, mediasuper14m,\n",
    "           mediasuper15m, mediasuper16m, mediasuper17m, mediasuper18m]"
   ]
  },
  {
   "cell_type": "code",
   "execution_count": null,
   "metadata": {},
   "outputs": [],
   "source": [
    "superiorh = [mediasuper07h, mediasuper08h, mediasuper09h, mediasuper10h, mediasuper11h, mediasuper12h, mediasuper13h, mediasuper14h,\n",
    "           mediasuper15h, mediasuper16h, mediasuper17h, mediasuper18h]"
   ]
  },
  {
   "cell_type": "code",
   "execution_count": null,
   "metadata": {},
   "outputs": [],
   "source": [
    "escolaridade = ['Baixa Instrução', 'Ensino Fundamental', 'Ensino Médio', 'Ensino Superior']"
   ]
  },
  {
   "cell_type": "code",
   "execution_count": null,
   "metadata": {},
   "outputs": [],
   "source": [
    "plt.figure(figsize=(10,7))\n",
    "plt.title('Gráfico 10 - Media de salários (em salários mínimos) e grau de escolaridade \\nde trabalhadoras na Paraíba de 2007 até 2018', **title_font)\n",
    "plt.plot(anos, baixa_instrucaom, label='Baixa Instrução Mulheres', marker='x')\n",
    "plt.plot(anos, fundamentalm, label='Ensino Fundamental Mulheres', marker='>')\n",
    "plt.plot(anos, mediom, label='Ensino Médio Mulheres', marker='*')\n",
    "plt.plot(anos, superiorm, label='Ensino Superior Mulheres', marker='+')\n",
    "plt.ylabel('Salários Mínimos', **ticks_font)\n",
    "plt.annotate ((f'{mediabaixa07m:.3}'), xy=(0, 1.35), ha='left', color='black', **legenda)\n",
    "plt.annotate ((f'{mediabaixa18m:.3}'), xy=(11, 1.3), ha='left', color='black', **legenda)\n",
    "plt.annotate ((f'{mediafunda07m:.3}'), xy=(0, 1.90), ha='left', color='black', **legenda)\n",
    "plt.annotate ((f'{mediafunda18m:.3}'), xy=(11, 2.15), ha='left', color='black', **legenda)\n",
    "plt.annotate ((f'{mediamedio07m:.3}'), xy=(0, 1.55), ha='left', color='black', **legenda)\n",
    "plt.annotate ((f'{mediamedio18m:.3}'), xy=(11, 1.45), ha='left', color='black', **legenda)\n",
    "plt.annotate ((f'{mediasuper07m:.3}'), xy=(0, 3.60), ha='left', color='black', **legenda)\n",
    "plt.annotate ((f'{mediasuper18m:.3}'), xy=(11, 3.45), ha='left', color='black', **legenda)\n",
    "\n",
    "\n",
    "plt.annotate('Fonte: Elaboração própria extraidos do RAIS (2020).', xy=(45, 5), xycoords='figure pixels', **legenda)\n",
    "plt.legend()\n",
    "plt.grid()\n",
    "plt.savefig('grafico10.png')\n",
    "plt.show()"
   ]
  },
  {
   "cell_type": "code",
   "execution_count": null,
   "metadata": {
    "scrolled": true
   },
   "outputs": [],
   "source": [
    "plt.figure(figsize=(10,7))\n",
    "plt.title('Gráfico 11 - Media de salários (em salários mínimos) e grau de escolaridade \\nde trabalhadores na Paraíba de 2007 até 2018', **title_font)\n",
    "plt.plot(anos, baixa_instrucaoh, label='Baixa Instrução Homens', marker='x')\n",
    "plt.plot(anos, fundamentalh, label='Ensino Fundamental Homens', marker='>')\n",
    "plt.plot(anos, medioh, label='Ensino Médio Homens', marker='*')\n",
    "plt.plot(anos, superiorh, label='Ensino Superior Homens', marker='+')\n",
    "plt.ylabel('Salários Mínimos', **ticks_font)\n",
    "plt.annotate ((f'{mediabaixa07h:.3}'), xy=(0, 1.35), ha='left', color='black', **legenda)\n",
    "plt.annotate ((f'{mediabaixa18h:.3}'), xy=(11, 1.3), ha='left', color='black', **legenda)\n",
    "plt.annotate ((f'{mediafunda07h:.3}'), xy=(0, 1.75), ha='left', color='black', **legenda)\n",
    "plt.annotate ((f'{mediafunda18h:.3}'), xy=(11, 2.15), ha='left', color='black', **legenda)\n",
    "plt.annotate ((f'{mediamedio07h:.3}'), xy=(0, 2.20), ha='left', color='black', **legenda)\n",
    "plt.annotate ((f'{mediamedio18h:.4}'), xy=(11, 1.80), ha='left', color='black', **legenda)\n",
    "plt.annotate ((f'{mediasuper07h:.3}'), xy=(0, 5.80), ha='left', color='black', **legenda)\n",
    "plt.annotate ((f'{mediasuper18h:.3}'), xy=(11, 4.80), ha='left', color='black', **legenda)\n",
    "\n",
    "plt.annotate('Fonte: Elaboração própria extraidos do RAIS (2020).', xy=(45, 12), xycoords='figure pixels', **legenda)\n",
    "plt.legend()\n",
    "plt.grid()\n",
    "plt.savefig('grafico11.png')\n",
    "plt.show()"
   ]
  },
  {
   "cell_type": "code",
   "execution_count": null,
   "metadata": {},
   "outputs": [],
   "source": [
    "plt.figure(figsize=(10,7))\n",
    "plt.title('Gráfico 12 - Media de salários (em salários mínimos) e grau de escolaridade \\nde entre gêneros na Paraíba de 2007 até 2018', **title_font)\n",
    "plt.plot(anos, baixa_instrucaom, label='Baixa Instrução Mulheres', marker='x')\n",
    "plt.plot(anos, fundamentalm, label='Ensino Fundamental Mulheres', marker='>')\n",
    "plt.plot(anos, mediom, label='Ensino Médio Mulheres', marker='*')\n",
    "plt.plot(anos, superiorm, label='Ensino Superior Mulheres', marker='D')\n",
    "plt.plot(anos, baixa_instrucaoh, label='Baixa Instrução Homens', marker='o')\n",
    "plt.plot(anos, fundamentalh, label='Ensino Fundamental Homens', marker='v')\n",
    "plt.plot(anos, medioh, label='Ensino Médio Homens', marker='d')\n",
    "plt.plot(anos, superiorh, label='Ensino Superior Homens', marker='s')\n",
    "\n",
    "\n",
    "plt.ylabel('Salários Mínimos', **ticks_font)\n",
    "\n",
    "\n",
    "\n",
    "plt.annotate('Fonte: Elaboração própria extraidos do RAIS (2020).', xy=(45, 5), xycoords='figure pixels', **legenda)\n",
    "plt.legend(loc='center')\n",
    "plt.grid()\n",
    "plt.savefig('grafico12.png')\n",
    "plt.show()"
   ]
  },
  {
   "cell_type": "code",
   "execution_count": null,
   "metadata": {},
   "outputs": [],
   "source": [
    "#tamanho da empresa 2007\n",
    "eppm07 = df07m.loc[df07m['tam_estab'] == 'epp']\n",
    "epph07 = df07h.loc[df07h['tam_estab'] == 'epp']\n",
    "\n",
    "empm07 = df07m.loc[df07m['tam_estab'] == 'emp']\n",
    "emph07 = df07h.loc[df07h['tam_estab'] == 'emp']\n",
    "\n",
    "egpm07 = df07m.loc[df07m['tam_estab'] == 'egp']\n",
    "egph07 = df07h.loc[df07h['tam_estab'] == 'egp']\n",
    "\n",
    "microm07 = df07m.loc[df07m['tam_estab'] == 'microempresa']\n",
    "microh07 = df07h.loc[df07h['tam_estab'] == 'microempresa']"
   ]
  },
  {
   "cell_type": "code",
   "execution_count": null,
   "metadata": {},
   "outputs": [],
   "source": [
    "#tamanho da empresa 2018\n",
    "eppm18 = df18m.loc[df18m['tam_estab'] == 'epp']\n",
    "epph18 = df18h.loc[df18h['tam_estab'] == 'epp']\n",
    "\n",
    "empm18 = df18m.loc[df18m['tam_estab'] == 'emp']\n",
    "emph18 = df18h.loc[df18h['tam_estab'] == 'emp']\n",
    "\n",
    "egpm18 = df18m.loc[df18m['tam_estab'] == 'egp']\n",
    "egph18 = df18h.loc[df18h['tam_estab'] == 'egp']\n",
    "\n",
    "microm18 = df18m.loc[df18m['tam_estab'] == 'microempresa']\n",
    "microh18 = df18h.loc[df18h['tam_estab'] == 'microempresa']"
   ]
  },
  {
   "cell_type": "code",
   "execution_count": null,
   "metadata": {},
   "outputs": [],
   "source": [
    "#cbo 2007\n",
    "\n",
    "dirim07 = df07m.loc[df07m['cbo'] == 'dirigentes']\n",
    "dirih07 = df07h.loc[df07h['cbo'] == 'dirigentes']\n",
    "\n",
    "pcam07 = df07m.loc[df07m['cbo'] == 'pca']\n",
    "pcah07 = df07h.loc[df07h['cbo'] == 'pca']\n",
    "\n",
    "pntom07 = df07m.loc[df07m['cbo'] == 'pnto']\n",
    "pntoh07 = df07h.loc[df07h['cbo'] == 'pnto']"
   ]
  },
  {
   "cell_type": "code",
   "execution_count": null,
   "metadata": {},
   "outputs": [],
   "source": [
    "#cbo 2018\n",
    "\n",
    "dirim18 = df18m.loc[df18m['cbo'] == 'dirigentes']\n",
    "dirih18 = df18h.loc[df18h['cbo'] == 'dirigentes']\n",
    "\n",
    "pcam18 = df18m.loc[df18m['cbo'] == 'pca']\n",
    "pcah18 = df18h.loc[df18h['cbo'] == 'pca']\n",
    "\n",
    "pntom18 = df18m.loc[df18m['cbo'] == 'pnto']\n",
    "pntoh18 = df18h.loc[df18h['cbo'] == 'pnto']"
   ]
  },
  {
   "cell_type": "code",
   "execution_count": null,
   "metadata": {},
   "outputs": [],
   "source": []
  },
  {
   "cell_type": "code",
   "execution_count": null,
   "metadata": {},
   "outputs": [],
   "source": [
    "#cidades 2007\n",
    "\n",
    "ptm07 = df07m.loc[df07m['cidade'] == 'Patos']\n",
    "pth07 = df07h.loc[df07h['cidade'] == 'Patos']\n",
    "\n",
    "cgm07 = df07m.loc[df07m['cidade'] == 'Campina Grande']\n",
    "cgh07 = df07h.loc[df07h['cidade'] == 'Campina Grande']\n",
    "\n",
    "jpm07 = df07m.loc[df07m['cidade'] == 'João Pessoa']\n",
    "jph07 = df07h.loc[df07h['cidade'] == 'João Pessoa']\n",
    "\n",
    "outm07 = df07m.loc[df07m['cidade'] == 'outros']\n",
    "outh07 = df07m.loc[df07m['cidade'] == 'outros']"
   ]
  },
  {
   "cell_type": "code",
   "execution_count": null,
   "metadata": {},
   "outputs": [],
   "source": [
    "#cidades 2018\n",
    "\n",
    "ptm18 = df18m.loc[df18m['cidade'] == 'Patos']\n",
    "pth18 = df18h.loc[df18h['cidade'] == 'Patos']\n",
    "\n",
    "cgm18 = df18m.loc[df18m['cidade'] == 'Campina Grande']\n",
    "cgh18 = df18h.loc[df18h['cidade'] == 'Campina Grande']\n",
    "\n",
    "jpm18 = df18m.loc[df18m['cidade'] == 'João Pessoa']\n",
    "jph18 = df18h.loc[df18h['cidade'] == 'João Pessoa']\n",
    "\n",
    "outm18 = df18m.loc[df18m['cidade'] == 'outros']\n",
    "outh18 = df18m.loc[df18m['cidade'] == 'outros']"
   ]
  },
  {
   "cell_type": "code",
   "execution_count": null,
   "metadata": {},
   "outputs": [],
   "source": [
    "#cor 2007\n",
    "branm07 = df07m.loc[df07m['cor'] == 1]\n",
    "branh07 = df07h.loc[df07h['cor'] == 1]\n",
    "\n",
    "prem07 = df07m.loc[df07m['cor'] == 2]\n",
    "preh07 = df07h.loc[df07h['cor'] == 2]"
   ]
  },
  {
   "cell_type": "code",
   "execution_count": 20,
   "metadata": {},
   "outputs": [
    {
     "ename": "NameError",
     "evalue": "name 'df18m' is not defined",
     "output_type": "error",
     "traceback": [
      "\u001b[1;31m---------------------------------------------------------------------------\u001b[0m",
      "\u001b[1;31mNameError\u001b[0m                                 Traceback (most recent call last)",
      "\u001b[1;32m<ipython-input-20-b81c016a4240>\u001b[0m in \u001b[0;36m<module>\u001b[1;34m\u001b[0m\n\u001b[0;32m      1\u001b[0m \u001b[1;31m#cor 2018\u001b[0m\u001b[1;33m\u001b[0m\u001b[1;33m\u001b[0m\u001b[1;33m\u001b[0m\u001b[0m\n\u001b[1;32m----> 2\u001b[1;33m \u001b[0mbranm18\u001b[0m \u001b[1;33m=\u001b[0m \u001b[0mdf18m\u001b[0m\u001b[1;33m.\u001b[0m\u001b[0mloc\u001b[0m\u001b[1;33m[\u001b[0m\u001b[0mdf18m\u001b[0m\u001b[1;33m[\u001b[0m\u001b[1;34m'cor'\u001b[0m\u001b[1;33m]\u001b[0m \u001b[1;33m==\u001b[0m \u001b[1;36m1\u001b[0m\u001b[1;33m]\u001b[0m\u001b[1;33m\u001b[0m\u001b[1;33m\u001b[0m\u001b[0m\n\u001b[0m\u001b[0;32m      3\u001b[0m \u001b[0mbranh18\u001b[0m \u001b[1;33m=\u001b[0m \u001b[0mdf18h\u001b[0m\u001b[1;33m.\u001b[0m\u001b[0mloc\u001b[0m\u001b[1;33m[\u001b[0m\u001b[0mdf18h\u001b[0m\u001b[1;33m[\u001b[0m\u001b[1;34m'cor'\u001b[0m\u001b[1;33m]\u001b[0m \u001b[1;33m==\u001b[0m \u001b[1;36m1\u001b[0m\u001b[1;33m]\u001b[0m\u001b[1;33m\u001b[0m\u001b[1;33m\u001b[0m\u001b[0m\n\u001b[0;32m      4\u001b[0m \u001b[1;33m\u001b[0m\u001b[0m\n\u001b[0;32m      5\u001b[0m \u001b[0mprem18\u001b[0m \u001b[1;33m=\u001b[0m \u001b[0mdf18m\u001b[0m\u001b[1;33m.\u001b[0m\u001b[0mloc\u001b[0m\u001b[1;33m[\u001b[0m\u001b[0mdf18m\u001b[0m\u001b[1;33m[\u001b[0m\u001b[1;34m'cor'\u001b[0m\u001b[1;33m]\u001b[0m \u001b[1;33m==\u001b[0m \u001b[1;36m2\u001b[0m\u001b[1;33m]\u001b[0m\u001b[1;33m\u001b[0m\u001b[1;33m\u001b[0m\u001b[0m\n",
      "\u001b[1;31mNameError\u001b[0m: name 'df18m' is not defined"
     ]
    }
   ],
   "source": [
    "#cor 2018\n",
    "branm18 = df18m.loc[df18m['cor'] == 1]\n",
    "branh18 = df18h.loc[df18h['cor'] == 1]\n",
    "\n",
    "prem18 = df18m.loc[df18m['cor'] == 2]\n",
    "preh18 = df18h.loc[df18h['cor'] == 2]"
   ]
  },
  {
   "cell_type": "code",
   "execution_count": null,
   "metadata": {},
   "outputs": [],
   "source": [
    "#media cbo 2007\n",
    "dirimediam07 = dirim07['Vl Remun Média (SM)'].mean()\n",
    "dirimediah07 = dirih07['Vl Remun Média (SM)'].mean()\n",
    "\n",
    "pcamediam07 = pcam07['Vl Remun Média (SM)'].mean()\n",
    "pcamediah07 = pcah07['Vl Remun Média (SM)'].mean()\n",
    "\n",
    "pntomediam07 = pntom07['Vl Remun Média (SM)'].mean()\n",
    "pntomediah07 = pntoh07['Vl Remun Média (SM)'].mean()"
   ]
  },
  {
   "cell_type": "code",
   "execution_count": null,
   "metadata": {},
   "outputs": [],
   "source": [
    "#media cbo 2018\n",
    "dirimediam18 = dirim18['Vl Remun Média (SM)'].mean()\n",
    "dirimediah18 = dirih18['Vl Remun Média (SM)'].mean()\n",
    "\n",
    "pcamediam18 = pcam18['Vl Remun Média (SM)'].mean()\n",
    "pcamediah18 = pcah18['Vl Remun Média (SM)'].mean()\n",
    "\n",
    "pntomediam18 = pntom18['Vl Remun Média (SM)'].mean()\n",
    "pntomediah18 = pntoh18['Vl Remun Média (SM)'].mean()"
   ]
  },
  {
   "cell_type": "code",
   "execution_count": null,
   "metadata": {},
   "outputs": [],
   "source": [
    "#qtda cbo 2007\n",
    "diriqtdm07 = dirim07['total'].sum()\n",
    "diriqtdh07 = dirih07['total'].sum()\n",
    "\n",
    "pcaqtdm07 = pcam07['total'].sum()\n",
    "pcaqtdh07 = pcah07['total'].sum()\n",
    "\n",
    "pntoqtdm07 = pntom07['total'].sum()\n",
    "pntoqtdh07 = pntoh07['total'].sum()\n",
    "\n"
   ]
  },
  {
   "cell_type": "code",
   "execution_count": null,
   "metadata": {},
   "outputs": [],
   "source": [
    "#qtda cbo 2018\n",
    "diriqtdm18 = dirim18['total'].sum()\n",
    "diriqtdh18 = dirih18['total'].sum()\n",
    "\n",
    "pcaqtdm18 = pcam18['total'].sum()\n",
    "pcaqtdh18 = pcah18['total'].sum()\n",
    "\n",
    "pntoqtdm18 = pntom18['total'].sum()\n",
    "pntoqtdh18 = pntoh18['total'].sum()"
   ]
  },
  {
   "cell_type": "code",
   "execution_count": null,
   "metadata": {},
   "outputs": [],
   "source": [
    "# cidades media 2007\n",
    "ptmediam07 = ptm07['Vl Remun Média (SM)'].mean()\n",
    "ptmediah07 = pth07['Vl Remun Média (SM)'].mean()\n",
    "\n",
    "cgmediam07 = cgm07['Vl Remun Média (SM)'].mean()\n",
    "cgmediah07 = cgh07['Vl Remun Média (SM)'].mean()\n",
    "\n",
    "jpmediam07 = jpm07['Vl Remun Média (SM)'].mean()\n",
    "jpmediah07 = jph07['Vl Remun Média (SM)'].mean()\n",
    "\n",
    "outmediam07 = outm07['Vl Remun Média (SM)'].mean()\n",
    "outmediah07 = outh07['Vl Remun Média (SM)'].mean()"
   ]
  },
  {
   "cell_type": "code",
   "execution_count": null,
   "metadata": {},
   "outputs": [],
   "source": [
    "# cidades media 2018\n",
    "ptmediam18 = ptm18['Vl Remun Média (SM)'].mean()\n",
    "ptmediah18 = pth18['Vl Remun Média (SM)'].mean()\n",
    "\n",
    "cgmediam18 = cgm18['Vl Remun Média (SM)'].mean()\n",
    "cgmediah18 = cgh18['Vl Remun Média (SM)'].mean()\n",
    "\n",
    "jpmediam18 = jpm18['Vl Remun Média (SM)'].mean()\n",
    "jpmediah18 = jph18['Vl Remun Média (SM)'].mean()\n",
    "\n",
    "outmediam18 = outm18['Vl Remun Média (SM)'].mean()\n",
    "outmediah18 = outh18['Vl Remun Média (SM)'].mean()"
   ]
  },
  {
   "cell_type": "code",
   "execution_count": null,
   "metadata": {},
   "outputs": [],
   "source": [
    "#cidades qtd 2007\n",
    "\n",
    "ptqtdm07 = ptm07['total'].sum()\n",
    "ptqtdh07 = pth07['total'].sum()\n",
    "\n",
    "cgqtdm07 = cgm07['total'].sum()\n",
    "cgqtdh07 = cgh07['total'].sum()\n",
    "\n",
    "jpqtdm07 = jpm07['total'].sum()\n",
    "jpqtdh07 = jph07['total'].sum()\n",
    "\n",
    "outqtdm07 = outm07['total'].sum()\n",
    "outqtdh07 = outh07['total'].sum()"
   ]
  },
  {
   "cell_type": "code",
   "execution_count": null,
   "metadata": {},
   "outputs": [],
   "source": [
    "#cidades qtd 2018\n",
    "\n",
    "ptqtdm18 = ptm18['total'].sum()\n",
    "ptqtdh18 = pth18['total'].sum()\n",
    "\n",
    "cgqtdm18 = cgm18['total'].sum()\n",
    "cgqtdh18 = cgh18['total'].sum()\n",
    "\n",
    "jpqtdm18 = jpm18['total'].sum()\n",
    "jpqtdh18 = jph18['total'].sum()\n",
    "\n",
    "outqtdm18 = outm18['total'].sum()\n",
    "outqtdh18 = outh18['total'].sum()"
   ]
  },
  {
   "cell_type": "code",
   "execution_count": null,
   "metadata": {},
   "outputs": [],
   "source": [
    "#cor media 2007\n",
    "branmediam07 = branm07['Vl Remun Média (SM)'].mean()\n",
    "branmediah07 = branh07['Vl Remun Média (SM)'].mean()\n",
    "\n",
    "premediam07 = prem07['Vl Remun Média (SM)'].mean()\n",
    "premediah07 = preh07['Vl Remun Média (SM)'].mean()"
   ]
  },
  {
   "cell_type": "code",
   "execution_count": null,
   "metadata": {},
   "outputs": [],
   "source": [
    "premediah07"
   ]
  },
  {
   "cell_type": "code",
   "execution_count": null,
   "metadata": {},
   "outputs": [],
   "source": [
    "premediam07"
   ]
  },
  {
   "cell_type": "code",
   "execution_count": null,
   "metadata": {},
   "outputs": [],
   "source": [
    "#cor media 2018\n",
    "branmediam18 = branm18['Vl Remun Média (SM)'].mean()\n",
    "branmediah18 = branh18['Vl Remun Média (SM)'].mean()\n",
    "\n",
    "premediam18 = prem18['Vl Remun Média (SM)'].mean()\n",
    "premediah18 = preh18['Vl Remun Média (SM)'].mean()"
   ]
  },
  {
   "cell_type": "code",
   "execution_count": null,
   "metadata": {},
   "outputs": [],
   "source": [
    "#cor qtd 2007\n",
    "branqtdm07 = branm07['total'].sum()\n",
    "branqtdh07 = branh07['total'].sum()\n",
    "\n",
    "preqtdm07 = prem07['total'].sum()\n",
    "preqtdh07 = preh07['total'].sum()\n"
   ]
  },
  {
   "cell_type": "code",
   "execution_count": null,
   "metadata": {},
   "outputs": [],
   "source": [
    "#cor qtd 2018\n",
    "branqtdm18 = branm18['total'].sum()\n",
    "branqtdh18 = branh18['total'].sum()\n",
    "\n",
    "preqtdm18 = prem18['total'].sum()\n",
    "preqtdh18 = preh18['total'].sum()"
   ]
  },
  {
   "cell_type": "code",
   "execution_count": null,
   "metadata": {},
   "outputs": [],
   "source": [
    "serie1a = pd.Series ({'': 'Dirigentes',    'Mulheres 2007': dirimediam07, 'Mulheres 2018': dirimediah18, 'Variação': (dirimediam18-dirimediam07)/dirimediam07,   'H 2007': dirimediah07, 'H 2018': dirimediah18, 'crescimento': (dirimediah18-dirimediah07)/dirimediah07, 'Mulher Qtd 2007': diriqtdm07, 'Mulher Qtd 2018':diriqtdm18, 'var M': (diriqtdm18-diriqtdm07)/diriqtdm07, 'Homens qtd 2007': diriqtdh07, 'Homens qtd 2018': diriqtdh18, 'var H': (diriqtdh18-diriqtdh07)/diriqtdh07})\n",
    "serie2a = pd.Series ({'': 'PCA',           'Mulheres 2007': pcamediam07, 'Mulheres 2018': pcamediam18, 'Variação': (pcamediam18-pcamediam07)/pcamediam07,        'H 2007': pcamediah07, 'H 2018': pcamediah18, 'crescimento': (pcamediah18-pcamediah07)/pcamediah07, 'Mulher Qtd 2007': pcaqtdm07, 'Mulher Qtd 2018':pcaqtdm18, 'var M': (pcaqtdm18-pcaqtdm07)/pcaqtdm07, 'Homens qtd 2007': pcaqtdh07, 'Homens qtd 2018': pcaqtdh18, 'var H': (pcaqtdh18-pcaqtdh07)/pcaqtdh07})\n",
    "serie3a = pd.Series ({'': 'PNTO',          'Mulheres 2007': pntomediam07, 'Mulheres 2018': pntomediam18, 'Variação': (pntomediam18-pntomediam07)/pntomediam07,   'H 2007': pntomediah07, 'H 2018': pntomediah18, 'crescimento': (pntomediah18-pntomediah07)/pntomediah07, 'Mulher Qtd 2007': pntoqtdm07, 'Mulher Qtd 2018':pntoqtdm18, 'var M': (pntoqtdm18-pntoqtdm07)/pntoqtdh07, 'Homens qtd 2007': pntoqtdh07, 'Homens qtd 2018': pntoqtdh18, 'var H': (pntoqtdh18-pntoqtdh07)/pntoqtdh07})\n",
    "serie4a = pd.Series ({'': 'Patos',         'Mulheres 2007': ptmediam07, 'Mulheres 2018': ptmediam18, 'Variação': (ptmediam18-ptmediam07)/ptmediam07,             'H 2007': ptmediah07, 'H 2018': ptmediah18, 'crescimento': (ptmediah18-ptmediah07)/ptmediah07, 'Mulher Qtd 2007': ptqtdm07, 'Mulher Qtd 2018':ptqtdm18, 'var M': (ptqtdm18-ptqtdm07)/ptqtdm07, 'Homens qtd 2007': ptqtdh07, 'Homens qtd 2018': ptqtdh18, 'var H': (ptqtdh18-ptqtdh07)/ptqtdh07})\n",
    "serie5a = pd.Series ({'': 'Campina Grande','Mulheres 2007': cgmediam07, 'Mulheres 2018': cgmediam18, 'Variação': (cgmediam18-cgmediam07)/cgmediam07,             'H 2007': cgmediah07, 'H 2018': cgmediah18, 'crescimento': (cgmediah18-cgmediah07)/cgmediah07, 'Mulher Qtd 2007': cgqtdm07, 'Mulher Qtd 2018':cgqtdm18, 'var M': (cgqtdm18-cgqtdm07)/cgqtdm07, 'Homens qtd 2007': cgqtdh07, 'Homens qtd 2018': cgqtdh18, 'var H': (cgqtdh18-cgqtdh07)/cgqtdh07})\n",
    "serie6a = pd.Series ({'': 'João Pessoa',   'Mulheres 2007': jpmediam07, 'Mulheres 2018': jpmediam18, 'Variação': (jpmediam18-jpmediam07)/jpmediam07,             'H 2007': jpmediah07, 'H 2018': jpmediah18, 'crescimento': (jpmediah18-jpmediah07)/jpmediah07, 'Mulher Qtd 2007': jpqtdm07, 'Mulher Qtd 2018':jpqtdm18, 'var M': (jpqtdm18-jpqtdm07)/jpqtdm07, 'Homens qtd 2007': jpqtdh07, 'Homens qtd 2018': jpqtdh18, 'var H': (jpqtdh18-jpqtdh07)/jpqtdh07})\n",
    "serie7a = pd.Series ({'': 'Outras cidades','Mulheres 2007': outmediam07, 'Mulheres 2018': outmediam18, 'Variação': (outmediam18-outmediam07)/outmediam07,        'H 2007': outmediah07, 'H 2018': outmediah18, 'crescimento': (outmediah18-outmediah07)/outmediah07, 'Mulher Qtd 2007': outqtdm07, 'Mulher Qtd 2018':outqtdm18, 'var M': (outqtdm18-outqtdm07)/outqtdm07, 'Homens qtd 2007': outqtdh07, 'Homens qtd 2018':outqtdh18, 'var H': (outqtdh18-outqtdh07)/outqtdh07})\n",
    "serie8a = pd.Series ({'': 'Brancos',       'Mulheres 2007': branmediam07, 'Mulheres 2018': branmediam18, 'Variação': (branmediam18-branmediam07)/branmediam07,   'H 2007': branmediah07, 'H 2018': branmediah18, 'crescimento': (branmediah18-branmediah07)/branmediah07, 'Mulher Qtd 2007': branqtdm07, 'Mulher Qtd 2018':branqtdm18, 'var M': (branqtdm18-branqtdm07)/branqtdh07, 'Homens qtd 2007': branqtdh07, 'Homens qtd 2018': branqtdh18, 'var H': (branqtdh18-branqtdh07)/branqtdh07})\n",
    "serie9a = pd.Series ({'': 'Pretos/Pardos', 'Mulheres 2007': premediam07, 'Mulheres 2018': premediam18, 'Variação': (premediam18-premediam07)/premediam07,        'H 2007': premediah07, 'H 2018': premediah18, 'crescimento': (premediah18-premediah07)/premediah07, 'Mulher Qtd 2007': preqtdm07, 'Mulher Qtd 2018':preqtdm18, 'var M': (preqtdm18-preqtdm07)/preqtdm07, 'Homens qtd 2007': preqtdh07, 'Homens qtd 2018': preqtdh18, 'var H': (preqtdh18-preqtdh07)/preqtdh07})"
   ]
  },
  {
   "cell_type": "code",
   "execution_count": null,
   "metadata": {},
   "outputs": [],
   "source": [
    "tabela4 = pd.DataFrame([serie1a, serie2a, serie3a, serie4a, serie5a, serie6a, serie7a, serie8a, serie9a])"
   ]
  },
  {
   "cell_type": "code",
   "execution_count": null,
   "metadata": {},
   "outputs": [],
   "source": [
    "tabela4"
   ]
  },
  {
   "cell_type": "code",
   "execution_count": null,
   "metadata": {},
   "outputs": [],
   "source": [
    "tabela_excel = tabela4.to_excel('tabela.xls')"
   ]
  },
  {
   "cell_type": "code",
   "execution_count": null,
   "metadata": {},
   "outputs": [],
   "source": [
    "df07 ['cor'] = df07['Raça Cor'].apply(cor)\n",
    "df08 ['cor'] = df08['Raça Cor'].apply(cor)\n",
    "df09 ['cor'] = df09['Raça Cor'].apply(cor)\n",
    "df10 ['cor'] = df10['Raça Cor'].apply(cor)\n",
    "df11 ['cor'] = df11['Raça Cor'].apply(cor)\n",
    "df12 ['cor'] = df12['Raça Cor'].apply(cor)\n",
    "df13 ['cor'] = df13['Raça Cor'].apply(cor)\n",
    "df14 ['cor'] = df14['Raça Cor'].apply(cor)\n",
    "df15 ['cor'] = df15['Raça Cor'].apply(cor)\n",
    "df16 ['cor'] = df16['Raça Cor'].apply(cor)\n",
    "df17 ['cor'] = df17['Raça Cor'].apply(cor)\n",
    "df18 ['cor'] = df18['Raça Cor'].apply(cor)"
   ]
  },
  {
   "cell_type": "code",
   "execution_count": 21,
   "metadata": {},
   "outputs": [
    {
     "ename": "NameError",
     "evalue": "name 'df18' is not defined",
     "output_type": "error",
     "traceback": [
      "\u001b[1;31m---------------------------------------------------------------------------\u001b[0m",
      "\u001b[1;31mNameError\u001b[0m                                 Traceback (most recent call last)",
      "\u001b[1;32m<ipython-input-21-01aa0b70a48b>\u001b[0m in \u001b[0;36m<module>\u001b[1;34m\u001b[0m\n\u001b[1;32m----> 1\u001b[1;33m \u001b[0mdf18b\u001b[0m \u001b[1;33m=\u001b[0m \u001b[0mdf18\u001b[0m\u001b[1;33m.\u001b[0m\u001b[0mloc\u001b[0m\u001b[1;33m[\u001b[0m\u001b[0mdf18\u001b[0m\u001b[1;33m[\u001b[0m\u001b[1;34m'cor'\u001b[0m\u001b[1;33m]\u001b[0m \u001b[1;33m==\u001b[0m \u001b[1;36m1\u001b[0m\u001b[1;33m]\u001b[0m\u001b[1;33m\u001b[0m\u001b[1;33m\u001b[0m\u001b[0m\n\u001b[0m\u001b[0;32m      2\u001b[0m \u001b[0mdf17b\u001b[0m \u001b[1;33m=\u001b[0m \u001b[0mdf17\u001b[0m\u001b[1;33m.\u001b[0m\u001b[0mloc\u001b[0m\u001b[1;33m[\u001b[0m\u001b[0mdf17\u001b[0m\u001b[1;33m[\u001b[0m\u001b[1;34m'cor'\u001b[0m\u001b[1;33m]\u001b[0m \u001b[1;33m==\u001b[0m \u001b[1;36m1\u001b[0m\u001b[1;33m]\u001b[0m\u001b[1;33m\u001b[0m\u001b[1;33m\u001b[0m\u001b[0m\n\u001b[0;32m      3\u001b[0m \u001b[0mdf16b\u001b[0m \u001b[1;33m=\u001b[0m \u001b[0mdf16\u001b[0m\u001b[1;33m.\u001b[0m\u001b[0mloc\u001b[0m\u001b[1;33m[\u001b[0m\u001b[0mdf16\u001b[0m\u001b[1;33m[\u001b[0m\u001b[1;34m'cor'\u001b[0m\u001b[1;33m]\u001b[0m \u001b[1;33m==\u001b[0m \u001b[1;36m1\u001b[0m\u001b[1;33m]\u001b[0m\u001b[1;33m\u001b[0m\u001b[1;33m\u001b[0m\u001b[0m\n\u001b[0;32m      4\u001b[0m \u001b[0mdf15b\u001b[0m \u001b[1;33m=\u001b[0m \u001b[0mdf15\u001b[0m\u001b[1;33m.\u001b[0m\u001b[0mloc\u001b[0m\u001b[1;33m[\u001b[0m\u001b[0mdf15\u001b[0m\u001b[1;33m[\u001b[0m\u001b[1;34m'cor'\u001b[0m\u001b[1;33m]\u001b[0m \u001b[1;33m==\u001b[0m \u001b[1;36m1\u001b[0m\u001b[1;33m]\u001b[0m\u001b[1;33m\u001b[0m\u001b[1;33m\u001b[0m\u001b[0m\n\u001b[0;32m      5\u001b[0m \u001b[0mdf14b\u001b[0m \u001b[1;33m=\u001b[0m \u001b[0mdf14\u001b[0m\u001b[1;33m.\u001b[0m\u001b[0mloc\u001b[0m\u001b[1;33m[\u001b[0m\u001b[0mdf14\u001b[0m\u001b[1;33m[\u001b[0m\u001b[1;34m'cor'\u001b[0m\u001b[1;33m]\u001b[0m \u001b[1;33m==\u001b[0m \u001b[1;36m1\u001b[0m\u001b[1;33m]\u001b[0m\u001b[1;33m\u001b[0m\u001b[1;33m\u001b[0m\u001b[0m\n",
      "\u001b[1;31mNameError\u001b[0m: name 'df18' is not defined"
     ]
    }
   ],
   "source": [
    "df18b = df18.loc[df18['cor'] == 1]\n",
    "df17b = df17.loc[df17['cor'] == 1]\n",
    "df16b = df16.loc[df16['cor'] == 1]\n",
    "df15b = df15.loc[df15['cor'] == 1]\n",
    "df14b = df14.loc[df14['cor'] == 1]\n",
    "df13b = df13.loc[df13['cor'] == 1]\n",
    "df12b = df12.loc[df12['cor'] == 1]\n",
    "df11b = df11.loc[df11['cor'] == 1]\n",
    "df10b = df10.loc[df10['cor'] == 1]\n",
    "df09b = df09.loc[df09['cor'] == 1]\n",
    "df08b = df08.loc[df08['cor'] == 1]\n",
    "df07b = df07.loc[df07['cor'] == 1]"
   ]
  },
  {
   "cell_type": "code",
   "execution_count": null,
   "metadata": {},
   "outputs": [],
   "source": [
    "df18p = df18.loc[df18['cor'] == 2]\n",
    "df17p = df17.loc[df17['cor'] == 2]\n",
    "df16p = df16.loc[df16['cor'] == 2]\n",
    "df15p = df15.loc[df15['cor'] == 2]\n",
    "df14p = df14.loc[df14['cor'] == 2]\n",
    "df13p = df13.loc[df13['cor'] == 2]\n",
    "df12p = df12.loc[df12['cor'] == 2]\n",
    "df11p = df11.loc[df11['cor'] == 2]\n",
    "df10p = df10.loc[df10['cor'] == 2]\n",
    "df09p = df09.loc[df09['cor'] == 2]\n",
    "df08p = df08.loc[df08['cor'] == 2]\n",
    "df07p = df07.loc[df07['cor'] == 2]"
   ]
  },
  {
   "cell_type": "code",
   "execution_count": null,
   "metadata": {},
   "outputs": [],
   "source": [
    "#brancos baixa instrução\n",
    "baixa18b = df18b[df18b['educacao'] == 'baixa instrução']\n",
    "baixa17b = df17b[df17b['educacao'] == 'baixa instrução']\n",
    "baixa16b = df16b[df16b['educacao'] == 'baixa instrução']\n",
    "baixa15b = df15b[df15b['educacao'] == 'baixa instrução']\n",
    "baixa14b = df14b[df14b['educacao'] == 'baixa instrução']\n",
    "baixa13b = df13b[df13b['educacao'] == 'baixa instrução']\n",
    "baixa12b = df12b[df12b['educacao'] == 'baixa instrução']\n",
    "baixa11b = df11b[df11b['educacao'] == 'baixa instrução']\n",
    "baixa10b = df10b[df10b['educacao'] == 'baixa instrução']\n",
    "baixa09b = df09b[df09b['educacao'] == 'baixa instrução']\n",
    "baixa08b = df08b[df08b['educacao'] == 'baixa instrução']\n",
    "baixa07b = df07b[df07b['educacao'] == 'baixa instrução']"
   ]
  },
  {
   "cell_type": "code",
   "execution_count": null,
   "metadata": {},
   "outputs": [],
   "source": [
    "#pretos baixa instrução\n",
    "baixa18p = df18p[df18p['educacao'] == 'baixa instrução']\n",
    "baixa17p = df17p[df17p['educacao'] == 'baixa instrução']\n",
    "baixa16p = df16p[df16p['educacao'] == 'baixa instrução']\n",
    "baixa15p = df15p[df15p['educacao'] == 'baixa instrução']\n",
    "baixa14p = df14p[df14p['educacao'] == 'baixa instrução']\n",
    "baixa13p = df13p[df13p['educacao'] == 'baixa instrução']\n",
    "baixa12p = df12p[df12p['educacao'] == 'baixa instrução']\n",
    "baixa11p = df11p[df11p['educacao'] == 'baixa instrução']\n",
    "baixa10p = df10p[df10p['educacao'] == 'baixa instrução']\n",
    "baixa09p = df09p[df09p['educacao'] == 'baixa instrução']\n",
    "baixa08p = df08p[df08p['educacao'] == 'baixa instrução']\n",
    "baixa07p = df07p[df07p['educacao'] == 'baixa instrução']"
   ]
  },
  {
   "cell_type": "code",
   "execution_count": null,
   "metadata": {},
   "outputs": [],
   "source": [
    "#brancos nivel medio\n",
    "medio18b = df18b[df18b['educacao'] == 'médio']\n",
    "medio17b = df17b[df17b['educacao'] == 'médio']\n",
    "medio16b = df16b[df16b['educacao'] == 'médio']\n",
    "medio15b = df15b[df15b['educacao'] == 'médio']\n",
    "medio14b = df14b[df14b['educacao'] == 'médio']\n",
    "medio13b = df13b[df13b['educacao'] == 'médio']\n",
    "medio12b = df12b[df12b['educacao'] == 'médio']\n",
    "medio11b = df11b[df11b['educacao'] == 'médio']\n",
    "medio10b = df10b[df10b['educacao'] == 'médio']\n",
    "medio09b = df09b[df09b['educacao'] == 'médio']\n",
    "medio08b = df08b[df08b['educacao'] == 'médio']\n",
    "medio07b = df07b[df07b['educacao'] == 'médio']"
   ]
  },
  {
   "cell_type": "code",
   "execution_count": null,
   "metadata": {},
   "outputs": [],
   "source": [
    "#pretos nivel medio\n",
    "medio18p = df18p[df18p['educacao'] == 'médio']\n",
    "medio17p = df17p[df17p['educacao'] == 'médio']\n",
    "medio16p = df16p[df16p['educacao'] == 'médio']\n",
    "medio15p = df15p[df15p['educacao'] == 'médio']\n",
    "medio14p = df14p[df14p['educacao'] == 'médio']\n",
    "medio13p = df13p[df13p['educacao'] == 'médio']\n",
    "medio12p = df12p[df12p['educacao'] == 'médio']\n",
    "medio11p = df11p[df11p['educacao'] == 'médio']\n",
    "medio10p = df10p[df10p['educacao'] == 'médio']\n",
    "medio09p = df09p[df09p['educacao'] == 'médio']\n",
    "medio08p = df08p[df08p['educacao'] == 'médio']\n",
    "medio07p = df07p[df07p['educacao'] == 'médio']"
   ]
  },
  {
   "cell_type": "code",
   "execution_count": null,
   "metadata": {},
   "outputs": [],
   "source": [
    "#brancos nivel superior\n",
    "sup18b = df18b[df18b['educacao'] == 'superior']\n",
    "sup17b = df17b[df17b['educacao'] == 'superior']\n",
    "sup16b = df16b[df16b['educacao'] == 'superior']\n",
    "sup15b = df15b[df15b['educacao'] == 'superior']\n",
    "sup14b = df14b[df14b['educacao'] == 'superior']\n",
    "sup13b = df13b[df13b['educacao'] == 'superior']\n",
    "sup12b = df12b[df12b['educacao'] == 'superior']\n",
    "sup11b = df11b[df11b['educacao'] == 'superior']\n",
    "sup10b = df10b[df10b['educacao'] == 'superior']\n",
    "sup09b = df09b[df09b['educacao'] == 'superior']\n",
    "sup08b = df08b[df08b['educacao'] == 'superior']\n",
    "sup07b = df07b[df07b['educacao'] == 'superior']"
   ]
  },
  {
   "cell_type": "code",
   "execution_count": null,
   "metadata": {},
   "outputs": [],
   "source": [
    "#pretoss nivel superior\n",
    "sup18p = df18p[df18p['educacao'] == 'superior']\n",
    "sup17p = df17p[df17p['educacao'] == 'superior']\n",
    "sup16p = df16p[df16p['educacao'] == 'superior']\n",
    "sup15p = df15p[df15p['educacao'] == 'superior']\n",
    "sup14p = df14p[df14p['educacao'] == 'superior']\n",
    "sup13p = df13p[df13p['educacao'] == 'superior']\n",
    "sup12p = df12p[df12p['educacao'] == 'superior']\n",
    "sup11p = df11p[df11p['educacao'] == 'superior']\n",
    "sup10p = df10p[df10p['educacao'] == 'superior']\n",
    "sup09p = df09p[df09p['educacao'] == 'superior']\n",
    "sup08p = df08p[df08p['educacao'] == 'superior']\n",
    "sup07p = df07p[df07p['educacao'] == 'superior']"
   ]
  },
  {
   "cell_type": "code",
   "execution_count": null,
   "metadata": {},
   "outputs": [],
   "source": [
    "#brancos nivel fundamentaol\n",
    "fund18b = df18b[df18b['educacao'] == 'fundamental']\n",
    "fund17b = df17b[df17b['educacao'] == 'fundamental']\n",
    "fund16b = df16b[df16b['educacao'] == 'fundamental']\n",
    "fund15b = df15b[df15b['educacao'] == 'fundamental']\n",
    "fund14b = df14b[df14b['educacao'] == 'fundamental']\n",
    "fund13b = df13b[df13b['educacao'] == 'fundamental']\n",
    "fund12b = df12b[df12b['educacao'] == 'fundamental']\n",
    "fund11b = df11b[df11b['educacao'] == 'fundamental']\n",
    "fund10b = df10b[df10b['educacao'] == 'fundamental']\n",
    "fund09b = df09b[df09b['educacao'] == 'fundamental']\n",
    "fund08b = df08b[df08b['educacao'] == 'fundamental']\n",
    "fund07b = df07b[df07b['educacao'] == 'fundamental']"
   ]
  },
  {
   "cell_type": "code",
   "execution_count": null,
   "metadata": {},
   "outputs": [],
   "source": [
    "#pretoss nivel superior\n",
    "fund18p = df18p[df18p['educacao'] == 'fundamental']\n",
    "fund17p = df17p[df17p['educacao'] == 'fundamental']\n",
    "fund16p = df16p[df16p['educacao'] == 'fundamental']\n",
    "fund15p = df15p[df15p['educacao'] == 'fundamental']\n",
    "fund14p = df14p[df14p['educacao'] == 'fundamental']\n",
    "fund13p = df13p[df13p['educacao'] == 'fundamental']\n",
    "fund12p = df12p[df12p['educacao'] == 'fundamental']\n",
    "fund11p = df11p[df11p['educacao'] == 'fundamental']\n",
    "fund10p = df10p[df10p['educacao'] == 'fundamental']\n",
    "fund09p = df09p[df09p['educacao'] == 'fundamental']\n",
    "fund08p = df08p[df08p['educacao'] == 'fundamental']\n",
    "fund07p = df07p[df07p['educacao'] == 'fundamental']"
   ]
  },
  {
   "cell_type": "code",
   "execution_count": null,
   "metadata": {},
   "outputs": [],
   "source": [
    "#média SM instrução baixa pretos\n",
    "mediabaixa18p = baixa18p['Vl Remun Média (SM)'].mean()\n",
    "mediabaixa17p = baixa17p['Vl Remun Média (SM)'].mean()\n",
    "mediabaixa16p = baixa16p['Vl Remun Média (SM)'].mean()\n",
    "mediabaixa15p = baixa15p['Vl Remun Média (SM)'].mean()\n",
    "mediabaixa14p = baixa14p['Vl Remun Média (SM)'].mean()\n",
    "mediabaixa13p = baixa13p['Vl Remun Média (SM)'].mean()\n",
    "mediabaixa12p = baixa12p['Vl Remun Média (SM)'].mean()\n",
    "mediabaixa11p = baixa11p['Vl Remun Média (SM)'].mean()\n",
    "mediabaixa10p = baixa10p['Vl Remun Média (SM)'].mean()\n",
    "mediabaixa09p = baixa09p['Vl Remun Média (SM)'].mean()\n",
    "mediabaixa08p = baixa08p['Vl Remun Média (SM)'].mean()\n",
    "mediabaixa07p = baixa07p['Vl Remun Média (SM)'].mean()"
   ]
  },
  {
   "cell_type": "code",
   "execution_count": null,
   "metadata": {},
   "outputs": [],
   "source": [
    "#média SM instrução baixa brancos\n",
    "mediabaixa18b = baixa18b['Vl Remun Média (SM)'].mean()\n",
    "mediabaixa17b = baixa17b['Vl Remun Média (SM)'].mean()\n",
    "mediabaixa16b = baixa16b['Vl Remun Média (SM)'].mean()\n",
    "mediabaixa15b = baixa15b['Vl Remun Média (SM)'].mean()\n",
    "mediabaixa14b = baixa14b['Vl Remun Média (SM)'].mean()\n",
    "mediabaixa13b = baixa13b['Vl Remun Média (SM)'].mean()\n",
    "mediabaixa12b = baixa12b['Vl Remun Média (SM)'].mean()\n",
    "mediabaixa11b = baixa11b['Vl Remun Média (SM)'].mean()\n",
    "mediabaixa10b = baixa10b['Vl Remun Média (SM)'].mean()\n",
    "mediabaixa09b = baixa09b['Vl Remun Média (SM)'].mean()\n",
    "mediabaixa08b = baixa08b['Vl Remun Média (SM)'].mean()\n",
    "mediabaixa07b = baixa07b['Vl Remun Média (SM)'].mean()"
   ]
  },
  {
   "cell_type": "code",
   "execution_count": null,
   "metadata": {},
   "outputs": [],
   "source": [
    "#média SM instrução baixa pretos\n",
    "somabaixa18p = baixa18p['total'].sum()\n",
    "somabaixa17p = baixa17p['total'].sum()\n",
    "somabaixa16p = baixa16p['total'].sum()\n",
    "somabaixa15p = baixa15p['total'].sum()\n",
    "somabaixa14p = baixa14p['total'].sum()\n",
    "somabaixa13p = baixa13p['total'].sum()\n",
    "somabaixa12p = baixa12p['total'].sum()\n",
    "somabaixa11p = baixa11p['total'].sum()\n",
    "somabaixa10p = baixa10p['total'].sum()\n",
    "somabaixa09p = baixa09p['total'].sum()\n",
    "somabaixa08p = baixa08p['total'].sum()\n",
    "somabaixa07p = baixa07p['total'].sum()"
   ]
  },
  {
   "cell_type": "code",
   "execution_count": null,
   "metadata": {},
   "outputs": [],
   "source": [
    "#média SM instrução baixa brancos\n",
    "somabaixa18b = baixa18b['total'].sum()\n",
    "somabaixa17b = baixa17b['total'].sum()\n",
    "somabaixa16b = baixa16b['total'].sum()\n",
    "somabaixa15b = baixa15b['total'].sum()\n",
    "somabaixa14b = baixa14b['total'].sum()\n",
    "somabaixa13b = baixa13b['total'].sum()\n",
    "somabaixa12b = baixa12b['total'].sum()\n",
    "somabaixa11b = baixa11b['total'].sum()\n",
    "somabaixa10b = baixa10b['total'].sum()\n",
    "somabaixa09b = baixa09b['total'].sum()\n",
    "somabaixa08b = baixa08b['total'].sum()\n",
    "somabaixa07b = baixa07b['total'].sum()"
   ]
  },
  {
   "cell_type": "code",
   "execution_count": null,
   "metadata": {},
   "outputs": [],
   "source": [
    "#média SM instrução medio pretos\n",
    "mediamedio18p = medio18p['Vl Remun Média (SM)'].mean()\n",
    "mediamedio17p = medio17p['Vl Remun Média (SM)'].mean()\n",
    "mediamedio16p = medio16p['Vl Remun Média (SM)'].mean()\n",
    "mediamedio15p = medio15p['Vl Remun Média (SM)'].mean()\n",
    "mediamedio14p = medio14p['Vl Remun Média (SM)'].mean()\n",
    "mediamedio13p = medio13p['Vl Remun Média (SM)'].mean()\n",
    "mediamedio12p = medio12p['Vl Remun Média (SM)'].mean()\n",
    "mediamedio11p = medio11p['Vl Remun Média (SM)'].mean()\n",
    "mediamedio10p = medio10p['Vl Remun Média (SM)'].mean()\n",
    "mediamedio09p = medio09p['Vl Remun Média (SM)'].mean()\n",
    "mediamedio08p = medio08p['Vl Remun Média (SM)'].mean()\n",
    "mediamedio07p = medio07p['Vl Remun Média (SM)'].mean()"
   ]
  },
  {
   "cell_type": "code",
   "execution_count": null,
   "metadata": {},
   "outputs": [],
   "source": [
    "#média SM instrução medio brancos\n",
    "mediamedio18b = medio18b['Vl Remun Média (SM)'].mean()\n",
    "mediamedio17b = medio17b['Vl Remun Média (SM)'].mean()\n",
    "mediamedio16b = medio16b['Vl Remun Média (SM)'].mean()\n",
    "mediamedio15b = medio15b['Vl Remun Média (SM)'].mean()\n",
    "mediamedio14b = medio14b['Vl Remun Média (SM)'].mean()\n",
    "mediamedio13b = medio13b['Vl Remun Média (SM)'].mean()\n",
    "mediamedio12b = medio12b['Vl Remun Média (SM)'].mean()\n",
    "mediamedio11b = medio11b['Vl Remun Média (SM)'].mean()\n",
    "mediamedio10b = medio10b['Vl Remun Média (SM)'].mean()\n",
    "mediamedio09b = medio09b['Vl Remun Média (SM)'].mean()\n",
    "mediamedio08b = medio08b['Vl Remun Média (SM)'].mean()\n",
    "mediamedio07b = medio07b['Vl Remun Média (SM)'].mean()"
   ]
  },
  {
   "cell_type": "code",
   "execution_count": null,
   "metadata": {},
   "outputs": [],
   "source": [
    "#média SM instrução medio brancos\n",
    "somamedio18b = medio18b['total'].sum()\n",
    "somamedio17b = medio17b['total'].sum()\n",
    "somamedio16b = medio16b['total'].sum()\n",
    "somamedio15b = medio15b['total'].sum()\n",
    "somamedio14b = medio14b['total'].sum()\n",
    "somamedio13b = medio13b['total'].sum()\n",
    "somamedio12b = medio12b['total'].sum()\n",
    "somamedio11b = medio11b['total'].sum()\n",
    "somamedio10b = medio10b['total'].sum()\n",
    "somamedio09b = medio09b['total'].sum()\n",
    "somamedio08b = medio08b['total'].sum()\n",
    "somamedio07b = medio07b['total'].sum()"
   ]
  },
  {
   "cell_type": "code",
   "execution_count": null,
   "metadata": {},
   "outputs": [],
   "source": [
    "#média SM instrução medio pretos\n",
    "somamedio18p = medio18p['total'].sum()\n",
    "somamedio17p = medio17p['total'].sum()\n",
    "somamedio16p = medio16p['total'].sum()\n",
    "somamedio15p = medio15p['total'].sum()\n",
    "somamedio14p = medio14p['total'].sum()\n",
    "somamedio13p = medio13p['total'].sum()\n",
    "somamedio12p = medio12p['total'].sum()\n",
    "somamedio11p = medio11p['total'].sum()\n",
    "somamedio10p = medio10p['total'].sum()\n",
    "somamedio09p = medio09p['total'].sum()\n",
    "somamedio08p = medio08p['total'].sum()\n",
    "somamedio07p = medio07p['total'].sum()"
   ]
  },
  {
   "cell_type": "code",
   "execution_count": null,
   "metadata": {},
   "outputs": [],
   "source": [
    "#média SM instrução superior pretos\n",
    "mediasup18p = sup18p['Vl Remun Média (SM)'].mean()\n",
    "mediasup17p = sup17p['Vl Remun Média (SM)'].mean()\n",
    "mediasup16p = sup16p['Vl Remun Média (SM)'].mean()\n",
    "mediasup15p = sup15p['Vl Remun Média (SM)'].mean()\n",
    "mediasup14p = sup14p['Vl Remun Média (SM)'].mean()\n",
    "mediasup13p = sup13p['Vl Remun Média (SM)'].mean()\n",
    "mediasup12p = sup12p['Vl Remun Média (SM)'].mean()\n",
    "mediasup11p = sup11p['Vl Remun Média (SM)'].mean()\n",
    "mediasup10p = sup10p['Vl Remun Média (SM)'].mean()\n",
    "mediasup09p = sup09p['Vl Remun Média (SM)'].mean()\n",
    "mediasup08p = sup08p['Vl Remun Média (SM)'].mean()\n",
    "mediasup07p = sup07p['Vl Remun Média (SM)'].mean()"
   ]
  },
  {
   "cell_type": "code",
   "execution_count": null,
   "metadata": {},
   "outputs": [],
   "source": [
    "#média SM instrução medio brancos\n",
    "mediasup18b = sup18b['Vl Remun Média (SM)'].mean()\n",
    "mediasup17b = sup17b['Vl Remun Média (SM)'].mean()\n",
    "mediasup16b = sup16b['Vl Remun Média (SM)'].mean()\n",
    "mediasup15b = sup15b['Vl Remun Média (SM)'].mean()\n",
    "mediasup14b = sup14b['Vl Remun Média (SM)'].mean()\n",
    "mediasup13b = sup13b['Vl Remun Média (SM)'].mean()\n",
    "mediasup12b = sup12b['Vl Remun Média (SM)'].mean()\n",
    "mediasup11b = sup11b['Vl Remun Média (SM)'].mean()\n",
    "mediasup10b = sup10b['Vl Remun Média (SM)'].mean()\n",
    "mediasup09b = sup09b['Vl Remun Média (SM)'].mean()\n",
    "mediasup08b = sup08b['Vl Remun Média (SM)'].mean()\n",
    "mediasup07b = sup07b['Vl Remun Média (SM)'].mean()"
   ]
  },
  {
   "cell_type": "code",
   "execution_count": 22,
   "metadata": {},
   "outputs": [
    {
     "ename": "NameError",
     "evalue": "name 'sup18p' is not defined",
     "output_type": "error",
     "traceback": [
      "\u001b[1;31m---------------------------------------------------------------------------\u001b[0m",
      "\u001b[1;31mNameError\u001b[0m                                 Traceback (most recent call last)",
      "\u001b[1;32m<ipython-input-22-18e5c53ecf53>\u001b[0m in \u001b[0;36m<module>\u001b[1;34m\u001b[0m\n\u001b[0;32m      1\u001b[0m \u001b[1;31m#média SM instrução superior pretos\u001b[0m\u001b[1;33m\u001b[0m\u001b[1;33m\u001b[0m\u001b[1;33m\u001b[0m\u001b[0m\n\u001b[1;32m----> 2\u001b[1;33m \u001b[0msomasup18p\u001b[0m \u001b[1;33m=\u001b[0m \u001b[0msup18p\u001b[0m\u001b[1;33m[\u001b[0m\u001b[1;34m'total'\u001b[0m\u001b[1;33m]\u001b[0m\u001b[1;33m.\u001b[0m\u001b[0msum\u001b[0m\u001b[1;33m(\u001b[0m\u001b[1;33m)\u001b[0m\u001b[1;33m\u001b[0m\u001b[1;33m\u001b[0m\u001b[0m\n\u001b[0m\u001b[0;32m      3\u001b[0m \u001b[0msomasup17p\u001b[0m \u001b[1;33m=\u001b[0m \u001b[0msup17p\u001b[0m\u001b[1;33m[\u001b[0m\u001b[1;34m'total'\u001b[0m\u001b[1;33m]\u001b[0m\u001b[1;33m.\u001b[0m\u001b[0msum\u001b[0m\u001b[1;33m(\u001b[0m\u001b[1;33m)\u001b[0m\u001b[1;33m\u001b[0m\u001b[1;33m\u001b[0m\u001b[0m\n\u001b[0;32m      4\u001b[0m \u001b[0msomasup16p\u001b[0m \u001b[1;33m=\u001b[0m \u001b[0msup16p\u001b[0m\u001b[1;33m[\u001b[0m\u001b[1;34m'total'\u001b[0m\u001b[1;33m]\u001b[0m\u001b[1;33m.\u001b[0m\u001b[0msum\u001b[0m\u001b[1;33m(\u001b[0m\u001b[1;33m)\u001b[0m\u001b[1;33m\u001b[0m\u001b[1;33m\u001b[0m\u001b[0m\n\u001b[0;32m      5\u001b[0m \u001b[0msomasup15p\u001b[0m \u001b[1;33m=\u001b[0m \u001b[0msup15p\u001b[0m\u001b[1;33m[\u001b[0m\u001b[1;34m'total'\u001b[0m\u001b[1;33m]\u001b[0m\u001b[1;33m.\u001b[0m\u001b[0msum\u001b[0m\u001b[1;33m(\u001b[0m\u001b[1;33m)\u001b[0m\u001b[1;33m\u001b[0m\u001b[1;33m\u001b[0m\u001b[0m\n",
      "\u001b[1;31mNameError\u001b[0m: name 'sup18p' is not defined"
     ]
    }
   ],
   "source": [
    "#média SM instrução superior pretos\n",
    "somasup18p = sup18p['total'].sum()\n",
    "somasup17p = sup17p['total'].sum()\n",
    "somasup16p = sup16p['total'].sum()\n",
    "somasup15p = sup15p['total'].sum()\n",
    "somasup14p = sup14p['total'].sum()\n",
    "somasup13p = sup13p['total'].sum()\n",
    "somasup12p = sup12p['total'].sum()\n",
    "somasup11p = sup11p['total'].sum()\n",
    "somasup10p = sup10p['total'].sum()\n",
    "somasup09p = sup09p['total'].sum()\n",
    "somasup08p = sup08p['total'].sum()\n",
    "somasup07p = sup07p['total'].sum()"
   ]
  },
  {
   "cell_type": "code",
   "execution_count": null,
   "metadata": {},
   "outputs": [],
   "source": [
    "#média SM instrução medio brancos\n",
    "somasup18b = sup18b['total'].sum()\n",
    "somasup17b = sup17b['total'].sum()\n",
    "somasup16b = sup16b['total'].sum()\n",
    "somasup15b = sup15b['total'].sum()\n",
    "somasup14b = sup14b['total'].sum()\n",
    "somasup13b = sup13b['total'].sum()\n",
    "somasup12b = sup12b['total'].sum()\n",
    "somasup11b = sup11b['total'].sum()\n",
    "somasup10b = sup10b['total'].sum()\n",
    "somasup09b = sup09b['total'].sum()\n",
    "somasup08b = sup08b['total'].sum()\n",
    "somasup07b = sup07b['total'].sum()"
   ]
  },
  {
   "cell_type": "code",
   "execution_count": null,
   "metadata": {},
   "outputs": [],
   "source": [
    "#média SM instrução superior pretos\n",
    "mediafund18p = fund18p['Vl Remun Média (SM)'].mean()\n",
    "mediafund17p = fund17p['Vl Remun Média (SM)'].mean()\n",
    "mediafund16p = fund16p['Vl Remun Média (SM)'].mean()\n",
    "mediafund15p = fund15p['Vl Remun Média (SM)'].mean()\n",
    "mediafund14p = fund14p['Vl Remun Média (SM)'].mean()\n",
    "mediafund13p = fund13p['Vl Remun Média (SM)'].mean()\n",
    "mediafund12p = fund12p['Vl Remun Média (SM)'].mean()\n",
    "mediafund13p = fund11p['Vl Remun Média (SM)'].mean()\n",
    "mediafund10p = fund10p['Vl Remun Média (SM)'].mean()\n",
    "mediafund09p = fund09p['Vl Remun Média (SM)'].mean()\n",
    "mediafund08p = fund08p['Vl Remun Média (SM)'].mean()\n",
    "mediafund07p = fund07p['Vl Remun Média (SM)'].mean()"
   ]
  },
  {
   "cell_type": "code",
   "execution_count": null,
   "metadata": {},
   "outputs": [],
   "source": [
    "#média SM instrução medio brancos\n",
    "mediafund18b = fund18b['Vl Remun Média (SM)'].mean()\n",
    "mediafund17b = fund17b['Vl Remun Média (SM)'].mean()\n",
    "mediafund16b = fund16b['Vl Remun Média (SM)'].mean()\n",
    "mediafund15b = fund15b['Vl Remun Média (SM)'].mean()\n",
    "mediafund14b = fund14b['Vl Remun Média (SM)'].mean()\n",
    "mediafund13b = fund13b['Vl Remun Média (SM)'].mean()\n",
    "mediafund12b = fund12b['Vl Remun Média (SM)'].mean()\n",
    "mediafund11b = fund11b['Vl Remun Média (SM)'].mean()\n",
    "mediafund10b = fund10b['Vl Remun Média (SM)'].mean()\n",
    "mediafund09b = fund09b['Vl Remun Média (SM)'].mean()\n",
    "mediafund08b = fund08b['Vl Remun Média (SM)'].mean()\n",
    "mediafund07b = fund07b['Vl Remun Média (SM)'].mean()"
   ]
  },
  {
   "cell_type": "code",
   "execution_count": null,
   "metadata": {},
   "outputs": [],
   "source": [
    "#média SM instrução superior pretos\n",
    "somafund18p = fund18p['total'].sum()\n",
    "somafund17p = fund17p['total'].sum()\n",
    "somafund16p = fund16p['total'].sum()\n",
    "somafund15p = fund15p['total'].sum()\n",
    "somafund14p = fund14p['total'].sum()\n",
    "somafund13p = fund13p['total'].sum()\n",
    "somafund12p = fund12p['total'].sum()\n",
    "somafund13p = fund11p['total'].sum()\n",
    "somafund10p = fund10p['total'].sum()\n",
    "somafund09p = fund09p['total'].sum()\n",
    "somafund08p = fund08p['total'].sum()\n",
    "somafund07p = fund07p['total'].sum()"
   ]
  },
  {
   "cell_type": "code",
   "execution_count": null,
   "metadata": {},
   "outputs": [],
   "source": [
    "#média SM instrução medio brancos\n",
    "somafund18b = fund18b['total'].sum()\n",
    "somafund17b = fund17b['total'].sum()\n",
    "somafund16b = fund16b['total'].sum()\n",
    "somafund15b = fund15b['total'].sum()\n",
    "somafund14b = fund14b['total'].sum()\n",
    "somafund13b = fund13b['total'].sum()\n",
    "somafund12b = fund12b['total'].sum()\n",
    "somafund11b = fund11b['total'].sum()\n",
    "somafund10b = fund10b['total'].sum()\n",
    "somafund09b = fund09b['total'].sum()\n",
    "somafund08b = fund08b['total'].sum()\n",
    "somafund07b = fund07b['total'].sum()"
   ]
  },
  {
   "cell_type": "code",
   "execution_count": null,
   "metadata": {},
   "outputs": [],
   "source": [
    "baixa_instrucaob = [mediabaixa07b, mediabaixa08b, mediabaixa09b, mediabaixa10b, mediabaixa11b, mediabaixa12b, mediabaixa13b, mediabaixa14b,\n",
    "                  mediabaixa15b, mediabaixa16b, mediabaixa17b, mediabaixa18b]"
   ]
  },
  {
   "cell_type": "code",
   "execution_count": null,
   "metadata": {},
   "outputs": [],
   "source": [
    "baixa_instrucaop = [mediabaixa07p, mediabaixa08p, mediabaixa09p, mediabaixa10p, mediabaixa11p, mediabaixa12p, mediabaixa13p, mediabaixa14p,\n",
    "                  mediabaixa15p, mediabaixa16p, mediabaixa17p, mediabaixa18p]"
   ]
  },
  {
   "cell_type": "code",
   "execution_count": null,
   "metadata": {},
   "outputs": [],
   "source": [
    "somabaixa_instrucaob = [somabaixa07b, somabaixa08b, somabaixa09b, somabaixa10b, somabaixa11b, somabaixa12b, somabaixa13b, somabaixa14b,\n",
    "                  somabaixa15b, somabaixa16b, somabaixa17b, somabaixa18b]"
   ]
  },
  {
   "cell_type": "code",
   "execution_count": null,
   "metadata": {},
   "outputs": [],
   "source": [
    "somabaixa_instrucaop = [somabaixa07p, somabaixa08p, somabaixa09p, somabaixa10p,somabaixa11p, somabaixa12p,somabaixa13p, somabaixa14p,\n",
    "                  somabaixa15p, somabaixa16p, somabaixa17p, somabaixa18p]"
   ]
  },
  {
   "cell_type": "code",
   "execution_count": null,
   "metadata": {},
   "outputs": [],
   "source": [
    "mediob = [mediamedio07b, mediamedio08b, mediamedio09b, mediamedio10b, mediamedio11b, mediamedio12b, mediamedio13b, mediamedio14b,\n",
    "                  mediamedio15b, mediamedio16b, mediamedio17b, mediamedio18b]"
   ]
  },
  {
   "cell_type": "code",
   "execution_count": null,
   "metadata": {},
   "outputs": [],
   "source": [
    "mediop = [mediamedio07p, mediamedio08p, mediamedio09p, mediamedio10p, mediamedio11p, mediamedio12p, mediamedio13p, mediamedio14p,\n",
    "                  mediamedio15p, mediamedio16p, mediamedio17p, mediamedio18p]"
   ]
  },
  {
   "cell_type": "code",
   "execution_count": null,
   "metadata": {},
   "outputs": [],
   "source": [
    "somamediob = [somamedio07b, somamedio08b, somamedio09b, somamedio10b, somamedio11b, somamedio12b, somamedio13b, somamedio14b,\n",
    "                 somamedio15b, somamedio16b, somamedio17b, somamedio18b]"
   ]
  },
  {
   "cell_type": "code",
   "execution_count": null,
   "metadata": {},
   "outputs": [],
   "source": [
    "somamediop = [somamedio07p, somamedio08p, somamedio09p, somamedio10p, somamedio11p, somamedio12p,somamedio13p, somamedio14p,\n",
    "                 somamedio15p, somamedio16p,somamedio17p,somamedio18p]"
   ]
  },
  {
   "cell_type": "code",
   "execution_count": null,
   "metadata": {},
   "outputs": [],
   "source": [
    "supb = [mediasup07b, mediasup08b, mediasup09b, mediasup10b, mediasup11b, mediasup12b, mediasup13b, mediasup14b,\n",
    "                  mediasup15b, mediasup16b, mediasup17b, mediasup18b]"
   ]
  },
  {
   "cell_type": "code",
   "execution_count": null,
   "metadata": {},
   "outputs": [],
   "source": [
    "supp = [mediasup07p, mediasup08p, mediasup09p, mediasup10p, mediasup11p, mediasup12p, mediasup13p, mediasup14p,\n",
    "                  mediasup15p, mediasup16p, mediasup17p, mediasup18p]"
   ]
  },
  {
   "cell_type": "code",
   "execution_count": null,
   "metadata": {},
   "outputs": [],
   "source": [
    "somasupb = [somasup07b, somasup08b, somasup09b, somasup10b,somasup11b, somasup12b, somasup13b, somasup14b,\n",
    "                  somasup15b, somasup16b,somasup17b, somasup18b]"
   ]
  },
  {
   "cell_type": "code",
   "execution_count": null,
   "metadata": {},
   "outputs": [],
   "source": [
    "somasupp = [somasup07p, somasup08p, somasup09p, somasup10p, somasup11p, somasup12p,somasup13p,somasup14p,\n",
    "                  somasup15p,somasup16p, somasup17p,somasup18p]"
   ]
  },
  {
   "cell_type": "code",
   "execution_count": null,
   "metadata": {},
   "outputs": [],
   "source": [
    "fundb = [mediafund07b, mediafund08b, mediafund09b, mediafund10b, mediafund11b, mediafund12b, mediafund13b, mediafund14p,\n",
    "                  mediafund15b, mediafund16b, mediafund17b, mediafund18b]"
   ]
  },
  {
   "cell_type": "code",
   "execution_count": null,
   "metadata": {},
   "outputs": [],
   "source": [
    "fundp = [mediafund07p, mediafund08p, mediafund09p, mediafund10p, mediafund11b, mediafund12p, mediafund13p, mediafund14p,\n",
    "                  mediafund15p, mediafund16p, mediafund17p, mediafund18p]"
   ]
  },
  {
   "cell_type": "code",
   "execution_count": null,
   "metadata": {},
   "outputs": [],
   "source": [
    "somafundb = [somafund07b, somafund08b, somafund09b, somafund10b, somafund11b, somafund12b,somafund13b, somafund14p,\n",
    "                  somafund15b, somafund16b, somafund17b, somafund18b]"
   ]
  },
  {
   "cell_type": "code",
   "execution_count": 23,
   "metadata": {},
   "outputs": [
    {
     "ename": "NameError",
     "evalue": "name 'somafund07p' is not defined",
     "output_type": "error",
     "traceback": [
      "\u001b[1;31m---------------------------------------------------------------------------\u001b[0m",
      "\u001b[1;31mNameError\u001b[0m                                 Traceback (most recent call last)",
      "\u001b[1;32m<ipython-input-23-4a3eade0bec6>\u001b[0m in \u001b[0;36m<module>\u001b[1;34m\u001b[0m\n\u001b[1;32m----> 1\u001b[1;33m somafundp = [somafund07p, somafund08p, somafund09p, somafund10p, somafund11b, somafund12p, somafund13p, somafund14p,\n\u001b[0m\u001b[0;32m      2\u001b[0m                  somafund15p, somafund16p, somafund17p, somafund18p]\n",
      "\u001b[1;31mNameError\u001b[0m: name 'somafund07p' is not defined"
     ]
    }
   ],
   "source": [
    "somafundp = [somafund07p, somafund08p, somafund09p, somafund10p, somafund11b, somafund12p, somafund13p, somafund14p,\n",
    "                 somafund15p, somafund16p, somafund17p, somafund18p]"
   ]
  },
  {
   "cell_type": "code",
   "execution_count": null,
   "metadata": {},
   "outputs": [],
   "source": [
    "plt.figure(figsize=(10,7))\n",
    "plt.title('Gráfico 12 - Media de salários (Em salários mínimos) e grau de escolaridade \\npor cor da pele na Paraíba de 2007 até 2018', **title_font)\n",
    "plt.plot(anos, baixa_instrucaop, label='Baixa Instrução Pretos', marker='x')\n",
    "plt.plot(anos, fundp, label='Ensino Fundamental Pretos', marker='>')\n",
    "plt.plot(anos, mediop, label='Ensino Médio Pretos', marker='*')\n",
    "plt.plot(anos, supp, label='Ensino Superior Pretos', marker='D')\n",
    "plt.plot(anos, baixa_instrucaob, label='Baixa Instrução Brancos', marker='o')\n",
    "plt.plot(anos, fundb, label='Ensino Fundamental Brancos', marker='v')\n",
    "plt.plot(anos, mediob, label='Ensino Médio Brancos', marker='d')\n",
    "plt.plot(anos, supb, label='Ensino Superior Brancos', marker='s')\n",
    "plt.rcParams['legend.fontsize'] = 11\n",
    "\n",
    "plt.ylabel('Salários Mínimos', **ticks_font)\n",
    "\n",
    "\n",
    "\n",
    "plt.annotate('Fonte: Elaboração própria extraidos do RAIS (2020).', xy=(45, 5), xycoords='figure pixels', **legenda)\n",
    "plt.legend()\n",
    "plt.grid()\n",
    "plt.savefig('grafico12.png')\n",
    "plt.show()"
   ]
  },
  {
   "cell_type": "code",
   "execution_count": null,
   "metadata": {},
   "outputs": [],
   "source": [
    "plt.figure(figsize=(10,7))\n",
    "plt.title('Gráfico 12 - Media de salários (em salários mínimos) e grau de escolaridade \\nde por cor da pele na Paraíba de 2007 até 2018', **title_font)\n",
    "plt.plot(anos, baixa_instrucaop, label='Baixa Instrução Pretos', marker='x')\n",
    "#plt.plot(anos, fundp, label='Ensino Fundamental Pretos', marker='>')\n",
    "#plt.plot(anos, mediop, label='Ensino Médio Pretos', marker='*')\n",
    "\n",
    "plt.plot(anos, baixa_instrucaob, label='Baixa Instrução Brancos', marker='o')\n",
    "#plt.plot(anos, fundb, label='Ensino Fundamental Brancos', marker='v')\n",
    "#plt.plot(anos, mediob, label='Ensino Médio Brancos', marker='d')\n",
    "\n",
    "plt.rcParams['legend.fontsize'] = 11\n",
    "\n",
    "plt.ylabel('Salários Mínimos', **ticks_font)\n",
    "\n",
    "\n",
    "\n",
    "plt.annotate('Fonte: Elaboração própria extraidos do RAIS (2020).', xy=(45, 5), xycoords='figure pixels', **legenda)\n",
    "plt.legend()\n",
    "plt.grid()\n",
    "#plt.savefig('grafico15.png')\n",
    "plt.show()"
   ]
  },
  {
   "cell_type": "code",
   "execution_count": null,
   "metadata": {},
   "outputs": [],
   "source": [
    "plt.figure(figsize=(10,7))\n",
    "plt.title('Gráfico 12 - Media de salários (em salários mínimos) e grau de escolaridade \\nde por cor da pele na Paraíba de 2007 até 2018', **title_font)\n",
    "#plt.plot(anos, baixa_instrucaop, label='Baixa Instrução Pretos', marker='x')\n",
    "plt.plot(anos, fundp, label='Ensino Fundamental Pretos', marker='>')\n",
    "#plt.plot(anos, mediop, label='Ensino Médio Pretos', marker='*')\n",
    "\n",
    "#plt.plot(anos, baixa_instrucaob, label='Baixa Instrução Brancos', marker='o')\n",
    "plt.plot(anos, fundb, label='Ensino Fundamental Brancos', marker='v')\n",
    "#plt.plot(anos, mediob, label='Ensino Médio Brancos', marker='d')\n",
    "\n",
    "plt.rcParams['legend.fontsize'] = 11\n",
    "\n",
    "plt.ylabel('Salários Mínimos', **ticks_font)\n",
    "\n",
    "\n",
    "\n",
    "plt.annotate('Fonte: Elaboração própria extraidos do RAIS (2020).', xy=(45, 5), xycoords='figure pixels', **legenda)\n",
    "plt.legend()\n",
    "plt.grid()\n",
    "#plt.savefig('grafico15.png')\n",
    "plt.show()"
   ]
  },
  {
   "cell_type": "code",
   "execution_count": null,
   "metadata": {},
   "outputs": [],
   "source": [
    "plt.figure(figsize=(10,7))\n",
    "plt.title('Gráfico 12 - Media de salários (em salários mínimos) e grau de escolaridade \\nde por cor da pele na Paraíba de 2007 até 2018', **title_font)\n",
    "#plt.plot(anos, baixa_instrucaop, label='Baixa Instrução Pretos', marker='x')\n",
    "#plt.plot(anos, fundp, label='Ensino Fundamental Pretos', marker='>')\n",
    "plt.plot(anos, mediop, label='Ensino Médio Pretos', marker='*')\n",
    "\n",
    "#plt.plot(anos, baixa_instrucaob, label='Baixa Instrução Brancos', marker='o')\n",
    "#plt.plot(anos, fundb, label='Ensino Fundamental Brancos', marker='v')\n",
    "plt.plot(anos, mediob, label='Ensino Médio Brancos', marker='d')\n",
    "\n",
    "plt.rcParams['legend.fontsize'] = 11\n",
    "\n",
    "plt.ylabel('Salários Mínimos', **ticks_font)\n",
    "\n",
    "\n",
    "\n",
    "plt.annotate('Fonte: Elaboração própria extraidos do RAIS (2020).', xy=(45, 5), xycoords='figure pixels', **legenda)\n",
    "plt.legend()\n",
    "plt.grid()\n",
    "#plt.savefig('grafico15.png')\n",
    "plt.show()"
   ]
  },
  {
   "cell_type": "code",
   "execution_count": null,
   "metadata": {},
   "outputs": [],
   "source": [
    "plt.figure(figsize=(10,7))\n",
    "plt.title('Gráfico 13 - Quantidade de trabalhadores e grau de escolaridade \\nde por cor da pele na Paraíba de 2007 até 2018', **title_font)\n",
    "plt.plot(anos, somabaixa_instrucaop, label='Baixa Instrução Pretos', marker='x')\n",
    "plt.plot(anos, somafundp, label='Ensino Fundamental Pretos', marker='>')\n",
    "plt.plot(anos, somamediop, label='Ensino Médio Pretos', marker='*')\n",
    "plt.plot(anos, somasupp, label='Ensino Superior Pretos', marker='D')\n",
    "plt.plot(anos, somabaixa_instrucaob, label='Baixa Instrução Brancos', marker='o')\n",
    "plt.plot(anos, somafundb, label='Ensino Fundamental Brancos', marker='v')\n",
    "plt.plot(anos, somamediob, label='Ensino Médio Brancos', marker='d')\n",
    "plt.plot(anos, somasupb, label='Ensino Superior Brancos', marker='s')\n",
    "plt.rcParams['legend.fontsize'] = 11\n",
    "\n",
    "plt.ylabel('Milhares', **ticks_font)\n",
    "\n",
    "\n",
    "\n",
    "plt.annotate('Fonte: Elaboração própria extraidos do RAIS (2020).', xy=(45, 5), xycoords='figure pixels', **legenda)\n",
    "plt.legend()\n",
    "plt.grid()\n",
    "plt.savefig('grafico13.png')\n",
    "plt.show()"
   ]
  },
  {
   "cell_type": "code",
   "execution_count": null,
   "metadata": {},
   "outputs": [],
   "source": [
    "#tamanho da empresa 2007\n",
    "eppb07 = df07b.loc[df07b['tam_estab'] == 'epp']\n",
    "eppp07 = df07p.loc[df07p['tam_estab'] == 'epp']\n",
    "\n",
    "empb07 = df07b.loc[df07b['tam_estab'] == 'emp']\n",
    "empp07 = df07p.loc[df07p['tam_estab'] == 'emp']\n",
    "\n",
    "egpb07 = df07b.loc[df07b['tam_estab'] == 'egp']\n",
    "egpp07 = df07p.loc[df07p['tam_estab'] == 'egp']\n",
    "\n",
    "microb07 = df07b.loc[df07b['tam_estab'] == 'microempresa']\n",
    "microp07 = df07p.loc[df07p['tam_estab'] == 'microempresa']"
   ]
  },
  {
   "cell_type": "code",
   "execution_count": null,
   "metadata": {},
   "outputs": [],
   "source": [
    "#tamanho da empresa 2018\n",
    "eppb18 = df18b.loc[df18b['tam_estab'] == 'epp']\n",
    "eppp18 = df18h.loc[df18h['tam_estab'] == 'epp']\n",
    "\n",
    "empb18 = df18b.loc[df18b['tam_estab'] == 'emp']\n",
    "empp18 = df18p.loc[df18p['tam_estab'] == 'emp']\n",
    "\n",
    "egpb18 = df18b.loc[df18b['tam_estab'] == 'egp']\n",
    "egpp18 = df18p.loc[df18p['tam_estab'] == 'egp']\n",
    "\n",
    "microb18 = df18b.loc[df18b['tam_estab'] == 'microempresa']\n",
    "microp18 = df18p.loc[df18p['tam_estab'] == 'microempresa']"
   ]
  },
  {
   "cell_type": "code",
   "execution_count": null,
   "metadata": {},
   "outputs": [],
   "source": [
    "#cbo 2007\n",
    "\n",
    "dirib07 = df07b.loc[df07b['cbo'] == 'dirigentes']\n",
    "dirip07 = df07p.loc[df07p['cbo'] == 'dirigentes']\n",
    "\n",
    "pcab07 = df07b.loc[df07b['cbo'] == 'pca']\n",
    "pcap07 = df07p.loc[df07p['cbo'] == 'pca']\n",
    "\n",
    "pntob07 = df07b.loc[df07b['cbo'] == 'pnto']\n",
    "pntop07 = df07p.loc[df07p['cbo'] == 'pnto']"
   ]
  },
  {
   "cell_type": "code",
   "execution_count": null,
   "metadata": {},
   "outputs": [],
   "source": [
    "#cbo 2018\n",
    "\n",
    "dirib18 = df18b.loc[df18b['cbo'] == 'dirigentes']\n",
    "dirip18 = df18p.loc[df18p['cbo'] == 'dirigentes']\n",
    "\n",
    "pcab18 = df18b.loc[df18b['cbo'] == 'pca']\n",
    "pcap18 = df18p.loc[df18p['cbo'] == 'pca']\n",
    "\n",
    "pntob18 = df18b.loc[df18b['cbo'] == 'pnto']\n",
    "pntop18 = df18p.loc[df18p['cbo'] == 'pnto']"
   ]
  },
  {
   "cell_type": "code",
   "execution_count": null,
   "metadata": {},
   "outputs": [],
   "source": [
    "#cidades 2007\n",
    "\n",
    "ptb07 = df07b.loc[df07b['cidade'] == 'Patos']\n",
    "ptp07 = df07p.loc[df07p['cidade'] == 'Patos']\n",
    "\n",
    "cgb07 = df07b.loc[df07b['cidade'] == 'Campina Grande']\n",
    "cgp07 = df07p.loc[df07p['cidade'] == 'Campina Grande']\n",
    "\n",
    "jpb07 = df07b.loc[df07b['cidade'] == 'João Pessoa']\n",
    "jpp07 = df07p.loc[df07p['cidade'] == 'João Pessoa']\n",
    "\n",
    "outb07 = df07b.loc[df07b['cidade'] == 'outros']\n",
    "outp07 = df07p.loc[df07p['cidade'] == 'outros']"
   ]
  },
  {
   "cell_type": "code",
   "execution_count": null,
   "metadata": {},
   "outputs": [],
   "source": [
    "#cidades 2018\n",
    "\n",
    "ptb18 = df18b.loc[df18b['cidade'] == 'Patos']\n",
    "ptp18 = df18p.loc[df18p['cidade'] == 'Patos']\n",
    "\n",
    "cgb18 = df18b.loc[df18b['cidade'] == 'Campina Grande']\n",
    "cgp18 = df18p.loc[df18p['cidade'] == 'Campina Grande']\n",
    "\n",
    "jpb18 = df18b.loc[df18b['cidade'] == 'João Pessoa']\n",
    "jpp18 = df18p.loc[df18p['cidade'] == 'João Pessoa']\n",
    "\n",
    "outb18 = df18b.loc[df18b['cidade'] == 'outros']\n",
    "outp18 = df18p.loc[df18p['cidade'] == 'outros']"
   ]
  },
  {
   "cell_type": "code",
   "execution_count": null,
   "metadata": {},
   "outputs": [],
   "source": [
    "#media cbo 2007\n",
    "dirimediab07 = dirip07['Vl Remun Média (SM)'].mean()\n",
    "dirimediap07 = dirib07['Vl Remun Média (SM)'].mean()\n",
    "\n",
    "pcamediap07 = pcap07['Vl Remun Média (SM)'].mean()\n",
    "pcamediab07 = pcab07['Vl Remun Média (SM)'].mean()\n",
    "\n",
    "pntomediap07 = pntop07['Vl Remun Média (SM)'].mean()\n",
    "pntomediab07 = pntob07['Vl Remun Média (SM)'].mean()"
   ]
  },
  {
   "cell_type": "code",
   "execution_count": null,
   "metadata": {},
   "outputs": [],
   "source": [
    "#media cbo 2018\n",
    "dirimediap18 = dirip18['Vl Remun Média (SM)'].mean()\n",
    "dirimediab18 = dirib18['Vl Remun Média (SM)'].mean()\n",
    "\n",
    "pcamediap18 = pcap18['Vl Remun Média (SM)'].mean()\n",
    "pcamediab18 = pcab18['Vl Remun Média (SM)'].mean()\n",
    "\n",
    "pntomediap18 = pntop18['Vl Remun Média (SM)'].mean()\n",
    "pntomediab18 = pntob18['Vl Remun Média (SM)'].mean()"
   ]
  },
  {
   "cell_type": "code",
   "execution_count": null,
   "metadata": {},
   "outputs": [],
   "source": [
    "#qtda cbo 2007\n",
    "diriqtdp07 = dirip07['total'].sum()\n",
    "diriqtdb07 = dirib07['total'].sum()\n",
    "\n",
    "pcaqtdp07 = pcap07['total'].sum()\n",
    "pcaqtdb07 = pcab07['total'].sum()\n",
    "\n",
    "pntoqtdp07 = pntop07['total'].sum()\n",
    "pntoqtdb07 = pntob07['total'].sum()"
   ]
  },
  {
   "cell_type": "code",
   "execution_count": null,
   "metadata": {},
   "outputs": [],
   "source": [
    "#qtda cbo 2018\n",
    "diriqtdp18 = dirip18['total'].sum()\n",
    "diriqtdb18 = dirib18['total'].sum()\n",
    "\n",
    "pcaqtdp18 = pcap18['total'].sum()\n",
    "pcaqtdb18 = pcab18['total'].sum()\n",
    "\n",
    "pntoqtdp18 = pntop18['total'].sum()\n",
    "pntoqtdb18 = pntob18['total'].sum()"
   ]
  },
  {
   "cell_type": "code",
   "execution_count": null,
   "metadata": {},
   "outputs": [],
   "source": [
    "# cidades media 2007\n",
    "ptmediap07 = ptp07['Vl Remun Média (SM)'].mean()\n",
    "ptmediab07 = ptb07['Vl Remun Média (SM)'].mean()\n",
    "\n",
    "cgmediap07 = cgp07['Vl Remun Média (SM)'].mean()\n",
    "cgmediab07 = cgb07['Vl Remun Média (SM)'].mean()\n",
    "\n",
    "jpmediap07 = jpp07['Vl Remun Média (SM)'].mean()\n",
    "jpmediab07 = jpb07['Vl Remun Média (SM)'].mean()\n",
    "\n",
    "outmediap07 = outp07['Vl Remun Média (SM)'].mean()\n",
    "outmediab07 = outb07['Vl Remun Média (SM)'].mean()"
   ]
  },
  {
   "cell_type": "code",
   "execution_count": null,
   "metadata": {},
   "outputs": [],
   "source": [
    "# cidades media 2018\n",
    "ptmediap18 = ptp18['Vl Remun Média (SM)'].mean()\n",
    "ptmediab18 = ptb18['Vl Remun Média (SM)'].mean()\n",
    "\n",
    "cgmediap18 = cgp18['Vl Remun Média (SM)'].mean()\n",
    "cgmediab18 = cgb18['Vl Remun Média (SM)'].mean()\n",
    "\n",
    "jpmediap18 = jpp18['Vl Remun Média (SM)'].mean()\n",
    "jpmediab18 = jpb18['Vl Remun Média (SM)'].mean()\n",
    "\n",
    "outmediap18 = outp18['Vl Remun Média (SM)'].mean()\n",
    "outmediab18 = outb18['Vl Remun Média (SM)'].mean()"
   ]
  },
  {
   "cell_type": "code",
   "execution_count": null,
   "metadata": {},
   "outputs": [],
   "source": [
    "#cidades qtd 2007\n",
    "\n",
    "ptqtdb07 = ptb07['total'].sum()\n",
    "ptqtdp07 = ptp07['total'].sum()\n",
    "\n",
    "cgqtdb07 = cgb07['total'].sum()\n",
    "cgqtdp07 = cgp07['total'].sum()\n",
    "\n",
    "jpqtdb07 = jpb07['total'].sum()\n",
    "jpqtdp07 = jpp07['total'].sum()\n",
    "\n",
    "outqtdb07 = outb07['total'].sum()\n",
    "outqtdp07 = outp07['total'].sum()"
   ]
  },
  {
   "cell_type": "code",
   "execution_count": 24,
   "metadata": {},
   "outputs": [
    {
     "ename": "NameError",
     "evalue": "name 'ptb18' is not defined",
     "output_type": "error",
     "traceback": [
      "\u001b[1;31m---------------------------------------------------------------------------\u001b[0m",
      "\u001b[1;31mNameError\u001b[0m                                 Traceback (most recent call last)",
      "\u001b[1;32m<ipython-input-24-27d7807ccb70>\u001b[0m in \u001b[0;36m<module>\u001b[1;34m\u001b[0m\n\u001b[0;32m      1\u001b[0m \u001b[1;31m#cidades qtd 2018\u001b[0m\u001b[1;33m\u001b[0m\u001b[1;33m\u001b[0m\u001b[1;33m\u001b[0m\u001b[0m\n\u001b[0;32m      2\u001b[0m \u001b[1;33m\u001b[0m\u001b[0m\n\u001b[1;32m----> 3\u001b[1;33m \u001b[0mptqtdb18\u001b[0m \u001b[1;33m=\u001b[0m \u001b[0mptb18\u001b[0m\u001b[1;33m[\u001b[0m\u001b[1;34m'total'\u001b[0m\u001b[1;33m]\u001b[0m\u001b[1;33m.\u001b[0m\u001b[0msum\u001b[0m\u001b[1;33m(\u001b[0m\u001b[1;33m)\u001b[0m\u001b[1;33m\u001b[0m\u001b[1;33m\u001b[0m\u001b[0m\n\u001b[0m\u001b[0;32m      4\u001b[0m \u001b[0mptqtdp18\u001b[0m \u001b[1;33m=\u001b[0m \u001b[0mptp18\u001b[0m\u001b[1;33m[\u001b[0m\u001b[1;34m'total'\u001b[0m\u001b[1;33m]\u001b[0m\u001b[1;33m.\u001b[0m\u001b[0msum\u001b[0m\u001b[1;33m(\u001b[0m\u001b[1;33m)\u001b[0m\u001b[1;33m\u001b[0m\u001b[1;33m\u001b[0m\u001b[0m\n\u001b[0;32m      5\u001b[0m \u001b[1;33m\u001b[0m\u001b[0m\n",
      "\u001b[1;31mNameError\u001b[0m: name 'ptb18' is not defined"
     ]
    }
   ],
   "source": [
    "#cidades qtd 2018\n",
    "\n",
    "ptqtdb18 = ptb18['total'].sum()\n",
    "ptqtdp18 = ptp18['total'].sum()\n",
    "\n",
    "cgqtdb18 = cgb18['total'].sum()\n",
    "cgqtdp18 = cgp18['total'].sum()\n",
    "\n",
    "jpqtdb18 = jpb18['total'].sum()\n",
    "jpqtdp18 = jpp18['total'].sum()\n",
    "\n",
    "outqtdb18 = outb18['total'].sum()\n",
    "outqtdp18 = outp18['total'].sum()"
   ]
  },
  {
   "cell_type": "code",
   "execution_count": null,
   "metadata": {},
   "outputs": [],
   "source": [
    "soma18bt = somabaixa18b+somamedio18b+somasup18b+somafund18b"
   ]
  },
  {
   "cell_type": "code",
   "execution_count": null,
   "metadata": {},
   "outputs": [],
   "source": [
    "soma18pt = somabaixa18p+somamedio18p+somasup18p+somafund18p"
   ]
  },
  {
   "cell_type": "code",
   "execution_count": null,
   "metadata": {},
   "outputs": [],
   "source": [
    "soma07bt = somabaixa07b+somamedio07b+somasup07b+somafund07b"
   ]
  },
  {
   "cell_type": "code",
   "execution_count": null,
   "metadata": {},
   "outputs": [],
   "source": [
    "soma07pt = somabaixa07p+somamedio07p+somasup07p+somafund07p"
   ]
  },
  {
   "cell_type": "code",
   "execution_count": null,
   "metadata": {},
   "outputs": [],
   "source": [
    "serie1esc = pd.Series ({'': 'baixa instrucao', 'SM 2007 brancos': mediabaixa07b, 'SM 2018 brancos': mediabaixa18b, 'Variação': (mediabaixa18b-mediabaixa07b)/mediabaixa07b, 'SM em 2007 pretos': mediabaixa07p, 'SM em 2018 pretos': mediabaixa18p, 'aumento': (mediabaixa18p-mediabaixa07p)/mediabaixa07p, 'qtd 2007 brancos':somabaixa07b, 'qtd 2018 brancos':somabaixa18b,  'qtd 2007 pretos': somabaixa07p, 'qtd 2018 pretos': somabaixa18p, 'Var pretos': (somabaixa18p-somabaixa07p)/somabaixa07p})\n",
    "serie2esc = pd.Series ({'': 'medio',           'SM 2007 brancos': mediamedio07b, 'SM 2018 brancos': mediamedio18b, 'Variação': (mediamedio18b-mediamedio07b)/mediamedio07b, 'SM em 2007 pretos': mediamedio07p, 'SM em 2018 pretos': mediamedio18p, 'aumento': (mediamedio18p-mediamedio07p)/mediamedio07p, 'qtd 2007 brancos':somamedio07b, 'qtd 2018 brancos':somamedio18b,  'qtd 2007 pretos': somamedio07p, 'qtd 2018 pretos': somamedio18p, 'Var pretos': (somamedio18p-somamedio07p)/somamedio07p})\n",
    "serie3esc = pd.Series ({'': 'superior',        'SM 2007 brancos': mediasup07b,   'SM 2018 brancos': mediasup18b,   'Variação': (mediasup18b-mediasup07b)/mediasup07b,       'SM em 2007 pretos': mediasup07p,   'SM em 2018 pretos': mediasup18p,   'aumento': (mediasup18p-mediasup07p)/mediasup07p,       'qtd 2007 brancos':somasup07b,   'qtd 2018 brancos':somasup18b,    'qtd 2007 pretos': somasup07p,   'qtd 2018 pretos': somasup18p,   'Var pretos': (somasup18p-somasup07p)/somasup07p})\n",
    "serie4esc = pd.Series ({'': 'fundamental',     'SM 2007 brancos': mediafund07b,  'SM 2018 brancos': mediafund18b,  'Variação': (mediafund18b-mediafund07b)/mediafund07b,    'SM em 2007 pretos':mediafund07p,   'SM em 2018 pretos': mediafund18p,  'aumento': (mediafund18p-mediafund07p)/mediasup07p,     'qtd 2007 brancos':somafund07b,  'qtd 2018 brancos':somafund18b,   'qtd 2007 pretos': somafund07p,  'qtd 2018 pretos': somafund18p,  'Var pretos': (somafund18p-somafund07p)/somafund07p})\n",
    "serie5esc = pd.Series ({'': 'total',           'SM 2007 brancos': '-',           'SM 2018 brancos': '-',           'Variação': '-',                                         'SM em 2007 pretos': '-',           'SM em 2018 pretos': '-',           'aumento': '-',                                         'qtd 2007 brancos': soma07bt,    'qtd 2018 brancos':soma18bt,       'qtd 2007 pretos': soma07pt ,    'qtd 2018 pretos': soma18pt,     'Var pretos': (soma18pt-soma07pt)/soma07pt})"
   ]
  },
  {
   "cell_type": "code",
   "execution_count": null,
   "metadata": {},
   "outputs": [],
   "source": [
    "tabela6 = pd.DataFrame([serie1esc, serie2esc, serie3esc, serie4esc, serie5esc])"
   ]
  },
  {
   "cell_type": "code",
   "execution_count": null,
   "metadata": {},
   "outputs": [],
   "source": [
    "tabela_excel = tabela6.to_excel('tabela6.xls')"
   ]
  },
  {
   "cell_type": "code",
   "execution_count": null,
   "metadata": {},
   "outputs": [],
   "source": [
    "serie1c = pd.Series ({'': 'Dirigentes',    'Brancos 2007': dirimediab07, 'Brancos 2018': dirimediab18, 'Variação': (dirimediab18-dirimediab07)/dirimediab07,   'p 2007': dirimediap07, 'p 2018': dirimediap18, 'crescimento': (dirimediap18-dirimediap07)/dirimediap07, 'brancos Qtd 2007': diriqtdb07, 'brancos Qtd 2018':diriqtdb18, 'var b': (diriqtdb18-diriqtdb07)/diriqtdb07,   'pretos qtd 2007': diriqtdp07,   'pretos qtd 2018': diriqtdp18,  'var p': (diriqtdp18-diriqtdp07)/diriqtdp07})\n",
    "serie2c = pd.Series ({'': 'PCA',           'Brancos 2007': pcamediab07, 'Brancos 2018': pcamediab18, 'Variação': (pcamediab18-pcamediab07)/pcamediab07,        'p 2007': pcamediap07, 'p 2018': pcamediap18, 'crescimento': (pcamediap18-pcamediap07)/pcamediap07, 'brancos Qtd 2007': pcaqtdb07, 'brancos Qtd 2018':pcaqtdb18, 'var b': (pcaqtdb18-pcaqtdb07)/pcaqtdb07,             'pretos qtd 2007': pcaqtdp07,    'pretos qtd 2018': pcaqtdp18,   'var p': (pcaqtdp18-pcaqtdp07)/pcaqtdp07})\n",
    "serie3c = pd.Series ({'': 'PNTO',          'Brancos 2007': pntomediab07, 'Brancos 2018': pntomediab18, 'Variação': (pntomediab18-pntomediab07)/pntomediab07,   'p 2007': pntomediap07, 'p 2018': pntomediap18, 'crescimento': (pntomediap18-pntomediap07)/pntomediap07, 'brancos Qtd 2007': pntoqtdb07, 'brancos Qtd 2018':pntoqtdb18, 'var b': (pntoqtdb18-pntoqtdb07)/pntoqtdb07,   'pretos qtd 2007': pntoqtdp07,   'pretos qtd 2018': pntoqtdp18,  'var p': (pntoqtdp18-pntoqtdp07)/pntoqtdp07})\n",
    "serie4c = pd.Series ({'': 'Patos',         'Brancos 2007': ptmediab07, 'Brancos 2018': ptmediab18, 'Variação': (ptmediab18-ptmediab07)/ptmediab07,             'p 2007': ptmediap07, 'p 2018': ptmediap18, 'crescimento': (ptmediap18-ptmediap07)/ptmediap07, 'brancos Qtd 2007': ptqtdb07, 'brancos Qtd 2018':ptqtdb18, 'var b': (ptqtdb18-ptqtdb07)/ptqtdb07,                       'pretos qtd 2007': ptqtdp07,     'pretos qtd 2018': ptqtdp18,    'var p': (ptqtdp18-ptqtdp07)/ptqtdp07})\n",
    "serie5c = pd.Series ({'': 'Campina Grande','Brancos 2007': cgmediab07, 'Brancos 2018': cgmediab18, 'Variação': (cgmediab18-cgmediab07)/cgmediab07,             'p 2007': cgmediap07, 'p 2018': cgmediap18, 'crescimento': (cgmediap18-cgmediap07)/cgmediap07, 'brancos Qtd 2007': cgqtdb07, 'brancos Qtd 2018':cgqtdb18, 'var b': (cgqtdb18-cgqtdb07)/cgqtdb07,                       'pretos qtd 2007': cgqtdp07,     'pretos qtd 2018': cgqtdp18,    'var p': (cgqtdp18-cgqtdp07)/cgqtdp07})\n",
    "serie6c = pd.Series ({'': 'João Pessoa',   'Brancos 2007': jpmediab07, 'Brancos 2018': jpmediab18, 'Variação': (jpmediab18-jpmediab07)/jpmediab07,             'p 2007': jpmediap07, 'p 2018': jpmediap18, 'crescimento': (jpmediap18-jpmediap07)/jpmediap07, 'brancos Qtd 2007': jpqtdb07, 'brancos Qtd 2018':jpqtdb18, 'var b': (jpqtdb18-jpqtdm07)/jpqtdb07,                       'pretos qtd 2007': jpqtdp07,     'pretos qtd 2018': jpqtdp18,    'var p': (jpqtdp18-jpqtdp07)/jpqtdp07})\n",
    "serie7c = pd.Series ({'': 'Outras cidades','Brancos 2007': outmediab07, 'Brancos 2018': outmediab18, 'Variação': (outmediab18-outmediab07)/outmediab07,        'p 2007': outmediap07, 'p 2018': outmediap18, 'crescimento': (outmediap18-outmediap07)/outmediap07, 'brancos Qtd 2007': outqtdb07, 'brancos Qtd 2018':outqtdb18, 'var b': (outqtdb18-outqtdb07)/outqtdb07,              'pretos qtd 2007': outqtdp07,   'pretos qtd 2018':outqtdp18,    'var p': (outqtdp18-outqtdp07)/outqtdp07})\n",
    "#serie8a = pd.Series ({'': 'Brancos',       'Brancos 2007': branmediab07, 'Brancos 2018': branmediab18, 'Variação': (branmediab18-branmediab07)/branmediab07,   'p 2007': branmediap07, 'p 2018': branmediap18, 'crescimento': (branmediap18-branmediap07)/branmediap07, 'brancos Qtd 2007': branqtdb07, 'brancos Qtd 2018':branqtdb18, 'var b': (branqtdb18-branqtdb7)/branqtdb07, 'pretos qtd 2007': branqtdp07, 'Homens qtd 2018': branqtdp18, 'var p': (branqtdp18-branqtdp07)/branqtdp07})\n",
    "#serie9a = pd.Series ({'': 'Pretos/Pardos', 'Brancos 2007': premediab07, 'Brancos 2018': premediab18, 'Variação': (premediab18-premediab07)/premediab07,        'p 2007': premediap07, 'p 2018': premediap18, 'crescimento': (premediap18-premediap07)/premediap07, 'brancos Qtd 2007': preqtdb07, 'brancos Qtd 2018':preqtdb18, 'var b': (preqtdb18-preqtdb07)/preqtdb07, 'pretos qtd 2007': preqtdp07, 'pretos qtd 2018': preqtdp18, 'var p': (preqtdp18-preqtdp07)/preqtdp07})"
   ]
  },
  {
   "cell_type": "code",
   "execution_count": null,
   "metadata": {},
   "outputs": [],
   "source": [
    "tabela7 = pd.DataFrame([serie1c, serie2c, serie3c, serie4c, serie5c, serie6c,serie7c])"
   ]
  },
  {
   "cell_type": "code",
   "execution_count": null,
   "metadata": {},
   "outputs": [],
   "source": [
    "tabela_excel = tabela7.to_excel('tabela7.xls')"
   ]
  },
  {
   "cell_type": "code",
   "execution_count": null,
   "metadata": {},
   "outputs": [],
   "source": []
  }
 ],
 "metadata": {
  "kernelspec": {
   "display_name": "Python 3",
   "language": "python",
   "name": "python3"
  },
  "language_info": {
   "codemirror_mode": {
    "name": "ipython",
    "version": 3
   },
   "file_extension": ".py",
   "mimetype": "text/x-python",
   "name": "python",
   "nbconvert_exporter": "python",
   "pygments_lexer": "ipython3",
   "version": "3.7.3"
  }
 },
 "nbformat": 4,
 "nbformat_minor": 2
}
